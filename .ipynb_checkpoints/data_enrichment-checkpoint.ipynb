{
 "cells": [
  {
   "cell_type": "markdown",
   "metadata": {
    "_uuid": "2221d9ce0419513808069487a0bbb7a240bfa6db"
   },
   "source": [
    "# Data enrichment"
   ]
  },
  {
   "cell_type": "markdown",
   "metadata": {
    "_uuid": "32af863b96dea6b55e2edb2ef9efd3b7700eeb47"
   },
   "source": [
    "### <u>Content:<u>\n",
    "\n",
    "[1) Load data sets\n",
    "\n",
    "[2) Add week day and month to reservation data\n",
    "    \n",
    "[3) Estimate part of the Swiss population that is on holiday for any given date\n",
    "    \n",
    "[4) Add coordinates for start and destination \n",
    "\n",
    "[5) Get weather data\n",
    "    \n",
    "[6) Get capacity data for trains in 2020 according to the expected train formation\n"
   ]
  },
  {
   "cell_type": "code",
   "execution_count": 4,
   "metadata": {
    "_uuid": "3fb7e3274cdb7252c5434d45e35b5db673d83a1f"
   },
   "outputs": [],
   "source": [
    "#Import packages\n",
    "import pandas as pd\n",
    "import numpy as np\n",
    "import matplotlib.pyplot as plt\n",
    "from matplotlib.pylab import rcParams\n",
    "import seaborn as sns\n",
    "import scipy\n",
    "from scipy.spatial.distance import cdist\n",
    "import datetime\n",
    "import math\n",
    "import meteomatics.api as api\n",
    "import datetime as dt\n",
    "%matplotlib inline\n",
    "rcParams['figure.figsize']=10,8"
   ]
  },
  {
   "cell_type": "markdown",
   "metadata": {
    "_uuid": "dba61c61e778a17f4fc311b7e207268a0068c262"
   },
   "source": [
    "#### 1) Load data"
   ]
  },
  {
   "cell_type": "code",
   "execution_count": 5,
   "metadata": {
    "_uuid": "f3336d998053e4d1e6bc2760a7b5ed3a65b525be"
   },
   "outputs": [
    {
     "name": "stdout",
     "output_type": "stream",
     "text": [
      "reservations: \n"
     ]
    },
    {
     "data": {
      "text/html": [
       "<div>\n",
       "<style scoped>\n",
       "    .dataframe tbody tr th:only-of-type {\n",
       "        vertical-align: middle;\n",
       "    }\n",
       "\n",
       "    .dataframe tbody tr th {\n",
       "        vertical-align: top;\n",
       "    }\n",
       "\n",
       "    .dataframe thead th {\n",
       "        text-align: right;\n",
       "    }\n",
       "</style>\n",
       "<table border=\"1\" class=\"dataframe\">\n",
       "  <thead>\n",
       "    <tr style=\"text-align: right;\">\n",
       "      <th></th>\n",
       "      <th>Unnamed: 0</th>\n",
       "      <th>res_id</th>\n",
       "      <th>res_dt</th>\n",
       "      <th>date</th>\n",
       "      <th>train_nr</th>\n",
       "      <th>line</th>\n",
       "      <th>reserved</th>\n",
       "      <th>capacity</th>\n",
       "      <th>bp_from</th>\n",
       "      <th>bp_to</th>\n",
       "      <th>dep_ist</th>\n",
       "      <th>dep_soll</th>\n",
       "      <th>arr_ist</th>\n",
       "      <th>arr_soll</th>\n",
       "      <th>res_delta_ist</th>\n",
       "      <th>res_delta_soll</th>\n",
       "      <th>res_delta_valid</th>\n",
       "    </tr>\n",
       "  </thead>\n",
       "  <tbody>\n",
       "    <tr>\n",
       "      <th>226735</th>\n",
       "      <td>226735</td>\n",
       "      <td>246187</td>\n",
       "      <td>2021-10-31 17:16:00</td>\n",
       "      <td>2021-10-31</td>\n",
       "      <td>1635</td>\n",
       "      <td>IC 51</td>\n",
       "      <td>1</td>\n",
       "      <td>6.0</td>\n",
       "      <td>BI</td>\n",
       "      <td>DMT</td>\n",
       "      <td>2021-10-31 19:49:00</td>\n",
       "      <td>2021-10-31 19:49:00</td>\n",
       "      <td>2021-10-31 20:17:00</td>\n",
       "      <td>2021-10-31 20:18:00</td>\n",
       "      <td>9216.0</td>\n",
       "      <td>9210</td>\n",
       "      <td>True</td>\n",
       "    </tr>\n",
       "  </tbody>\n",
       "</table>\n",
       "</div>"
      ],
      "text/plain": [
       "        Unnamed: 0  res_id               res_dt       date  train_nr   line  \\\n",
       "226735      226735  246187  2021-10-31 17:16:00 2021-10-31      1635  IC 51   \n",
       "\n",
       "        reserved  capacity bp_from bp_to              dep_ist  \\\n",
       "226735         1       6.0      BI   DMT  2021-10-31 19:49:00   \n",
       "\n",
       "                   dep_soll              arr_ist             arr_soll  \\\n",
       "226735  2021-10-31 19:49:00  2021-10-31 20:17:00  2021-10-31 20:18:00   \n",
       "\n",
       "        res_delta_ist  res_delta_soll  res_delta_valid  \n",
       "226735         9216.0            9210             True  "
      ]
     },
     "metadata": {},
     "output_type": "display_data"
    },
    {
     "name": "stdout",
     "output_type": "stream",
     "text": [
      "schulferien: \n"
     ]
    },
    {
     "data": {
      "text/html": [
       "<div>\n",
       "<style scoped>\n",
       "    .dataframe tbody tr th:only-of-type {\n",
       "        vertical-align: middle;\n",
       "    }\n",
       "\n",
       "    .dataframe tbody tr th {\n",
       "        vertical-align: top;\n",
       "    }\n",
       "\n",
       "    .dataframe thead th {\n",
       "        text-align: right;\n",
       "    }\n",
       "</style>\n",
       "<table border=\"1\" class=\"dataframe\">\n",
       "  <thead>\n",
       "    <tr style=\"text-align: right;\">\n",
       "      <th></th>\n",
       "      <th>canton</th>\n",
       "      <th>population</th>\n",
       "      <th>start</th>\n",
       "      <th>end</th>\n",
       "    </tr>\n",
       "  </thead>\n",
       "  <tbody>\n",
       "    <tr>\n",
       "      <th>161</th>\n",
       "      <td>national</td>\n",
       "      <td>7917100</td>\n",
       "      <td>2022-12-25</td>\n",
       "      <td>2022-12-26</td>\n",
       "    </tr>\n",
       "  </tbody>\n",
       "</table>\n",
       "</div>"
      ],
      "text/plain": [
       "       canton  population      start        end\n",
       "161  national     7917100 2022-12-25 2022-12-26"
      ]
     },
     "metadata": {},
     "output_type": "display_data"
    },
    {
     "name": "stderr",
     "output_type": "stream",
     "text": [
      "C:\\Users\\tabea\\miniconda3\\envs\\geo_env\\lib\\site-packages\\IPython\\core\\interactiveshell.py:3441: DtypeWarning: Columns (15) have mixed types.Specify dtype option on import or set low_memory=False.\n",
      "  exec(code_obj, self.user_global_ns, self.user_ns)\n"
     ]
    },
    {
     "data": {
      "text/html": [
       "<div>\n",
       "<style scoped>\n",
       "    .dataframe tbody tr th:only-of-type {\n",
       "        vertical-align: middle;\n",
       "    }\n",
       "\n",
       "    .dataframe tbody tr th {\n",
       "        vertical-align: top;\n",
       "    }\n",
       "\n",
       "    .dataframe thead th {\n",
       "        text-align: right;\n",
       "    }\n",
       "</style>\n",
       "<table border=\"1\" class=\"dataframe\">\n",
       "  <thead>\n",
       "    <tr style=\"text-align: right;\">\n",
       "      <th></th>\n",
       "      <th>abk_bahnhof</th>\n",
       "      <th>lat</th>\n",
       "      <th>lon</th>\n",
       "    </tr>\n",
       "  </thead>\n",
       "  <tbody>\n",
       "    <tr>\n",
       "      <th>47113</th>\n",
       "      <td>BRIA</td>\n",
       "      <td>47.260083</td>\n",
       "      <td>7.942674</td>\n",
       "    </tr>\n",
       "  </tbody>\n",
       "</table>\n",
       "</div>"
      ],
      "text/plain": [
       "      abk_bahnhof        lat       lon\n",
       "47113        BRIA  47.260083  7.942674"
      ]
     },
     "metadata": {},
     "output_type": "display_data"
    },
    {
     "data": {
      "text/html": [
       "<div>\n",
       "<style scoped>\n",
       "    .dataframe tbody tr th:only-of-type {\n",
       "        vertical-align: middle;\n",
       "    }\n",
       "\n",
       "    .dataframe tbody tr th {\n",
       "        vertical-align: top;\n",
       "    }\n",
       "\n",
       "    .dataframe thead th {\n",
       "        text-align: right;\n",
       "    }\n",
       "</style>\n",
       "<table border=\"1\" class=\"dataframe\">\n",
       "  <thead>\n",
       "    <tr style=\"text-align: right;\">\n",
       "      <th></th>\n",
       "      <th>station_id</th>\n",
       "      <th>validdate</th>\n",
       "      <th>leisure_biking:idx</th>\n",
       "      <th>snow_depth:cm</th>\n",
       "      <th>t_2m:C</th>\n",
       "      <th>precip_24h:mm</th>\n",
       "      <th>weather_symbol_1h:idx</th>\n",
       "      <th>effective_cloud_cover:octas</th>\n",
       "      <th>date</th>\n",
       "    </tr>\n",
       "  </thead>\n",
       "  <tbody>\n",
       "    <tr>\n",
       "      <th>4745</th>\n",
       "      <td>station_id</td>\n",
       "      <td>validdate</td>\n",
       "      <td>leisure_biking:idx</td>\n",
       "      <td>snow_depth:cm</td>\n",
       "      <td>t_2m:C</td>\n",
       "      <td>precip_24h:mm</td>\n",
       "      <td>weather_symbol_1h:idx</td>\n",
       "      <td>effective_cloud_cover:octas</td>\n",
       "      <td>2019-11-11 00:52:43+00:00</td>\n",
       "    </tr>\n",
       "  </tbody>\n",
       "</table>\n",
       "</div>"
      ],
      "text/plain": [
       "      station_id  validdate  leisure_biking:idx  snow_depth:cm  t_2m:C  \\\n",
       "4745  station_id  validdate  leisure_biking:idx  snow_depth:cm  t_2m:C   \n",
       "\n",
       "      precip_24h:mm  weather_symbol_1h:idx  effective_cloud_cover:octas  \\\n",
       "4745  precip_24h:mm  weather_symbol_1h:idx  effective_cloud_cover:octas   \n",
       "\n",
       "                          date  \n",
       "4745 2019-11-11 00:52:43+00:00  "
      ]
     },
     "metadata": {},
     "output_type": "display_data"
    },
    {
     "name": "stderr",
     "output_type": "stream",
     "text": [
      "C:\\Users\\tabea\\miniconda3\\envs\\geo_env\\lib\\site-packages\\IPython\\core\\interactiveshell.py:3441: DtypeWarning: Columns (24,25,26,27,28,29,30,31,32,34) have mixed types.Specify dtype option on import or set low_memory=False.\n",
      "  exec(code_obj, self.user_global_ns, self.user_ns)\n"
     ]
    },
    {
     "data": {
      "text/html": [
       "<div>\n",
       "<style scoped>\n",
       "    .dataframe tbody tr th:only-of-type {\n",
       "        vertical-align: middle;\n",
       "    }\n",
       "\n",
       "    .dataframe tbody tr th {\n",
       "        vertical-align: top;\n",
       "    }\n",
       "\n",
       "    .dataframe thead th {\n",
       "        text-align: right;\n",
       "    }\n",
       "</style>\n",
       "<table border=\"1\" class=\"dataframe\">\n",
       "  <thead>\n",
       "    <tr style=\"text-align: right;\">\n",
       "      <th></th>\n",
       "      <th>Zug</th>\n",
       "      <th>ZNS</th>\n",
       "      <th>VP</th>\n",
       "      <th>Debicode</th>\n",
       "      <th>Zugart</th>\n",
       "      <th>Suf.</th>\n",
       "      <th>Traktion</th>\n",
       "      <th>Bhf von</th>\n",
       "      <th>Ländercode UIC</th>\n",
       "      <th>von</th>\n",
       "      <th>...</th>\n",
       "      <th>Unnamed: 25</th>\n",
       "      <th>Unnamed: 26</th>\n",
       "      <th>Unnamed: 27</th>\n",
       "      <th>Unnamed: 28</th>\n",
       "      <th>Unnamed: 29</th>\n",
       "      <th>Unnamed: 30</th>\n",
       "      <th>Unnamed: 31</th>\n",
       "      <th>Unnamed: 32</th>\n",
       "      <th>Unnamed: 33</th>\n",
       "      <th>Unnamed: 34</th>\n",
       "    </tr>\n",
       "  </thead>\n",
       "  <tbody>\n",
       "    <tr>\n",
       "      <th>177418</th>\n",
       "      <td>96765</td>\n",
       "      <td>4</td>\n",
       "      <td>-162</td>\n",
       "      <td>1604</td>\n",
       "      <td>S</td>\n",
       "      <td>NaN</td>\n",
       "      <td>NaN</td>\n",
       "      <td>RUS</td>\n",
       "      <td>85</td>\n",
       "      <td>21:42:12</td>\n",
       "      <td>...</td>\n",
       "      <td>NaN</td>\n",
       "      <td>NaN</td>\n",
       "      <td>NaN</td>\n",
       "      <td>NaN</td>\n",
       "      <td>NaN</td>\n",
       "      <td>NaN</td>\n",
       "      <td>NaN</td>\n",
       "      <td>NaN</td>\n",
       "      <td>NaN</td>\n",
       "      <td>NaN</td>\n",
       "    </tr>\n",
       "  </tbody>\n",
       "</table>\n",
       "<p>1 rows × 35 columns</p>\n",
       "</div>"
      ],
      "text/plain": [
       "          Zug  ZNS   VP  Debicode Zugart Suf. Traktion Bhf von  \\\n",
       "177418  96765    4 -162      1604      S  NaN      NaN     RUS   \n",
       "\n",
       "        Ländercode UIC       von  ... Unnamed: 25  Unnamed: 26 Unnamed: 27  \\\n",
       "177418              85  21:42:12  ...         NaN          NaN         NaN   \n",
       "\n",
       "       Unnamed: 28 Unnamed: 29 Unnamed: 30  Unnamed: 31  Unnamed: 32  \\\n",
       "177418         NaN         NaN         NaN          NaN          NaN   \n",
       "\n",
       "        Unnamed: 33 Unnamed: 34  \n",
       "177418          NaN         NaN  \n",
       "\n",
       "[1 rows x 35 columns]"
      ]
     },
     "metadata": {},
     "output_type": "display_data"
    },
    {
     "data": {
      "text/html": [
       "<div>\n",
       "<style scoped>\n",
       "    .dataframe tbody tr th:only-of-type {\n",
       "        vertical-align: middle;\n",
       "    }\n",
       "\n",
       "    .dataframe tbody tr th {\n",
       "        vertical-align: top;\n",
       "    }\n",
       "\n",
       "    .dataframe thead th {\n",
       "        text-align: right;\n",
       "    }\n",
       "</style>\n",
       "<table border=\"1\" class=\"dataframe\">\n",
       "  <thead>\n",
       "    <tr style=\"text-align: right;\">\n",
       "      <th></th>\n",
       "      <th>Block Bezeichnung in Jahresformation Fpl-2022</th>\n",
       "      <th>No. of hooks</th>\n",
       "    </tr>\n",
       "  </thead>\n",
       "  <tbody>\n",
       "    <tr>\n",
       "      <th>36</th>\n",
       "      <td>Re460 AS4 A4(LBT) Bpm61 3B4(LBT) Bt4</td>\n",
       "      <td>10</td>\n",
       "    </tr>\n",
       "  </tbody>\n",
       "</table>\n",
       "</div>"
      ],
      "text/plain": [
       "   Block Bezeichnung in Jahresformation Fpl-2022  No. of hooks\n",
       "36          Re460 AS4 A4(LBT) Bpm61 3B4(LBT) Bt4            10"
      ]
     },
     "metadata": {},
     "output_type": "display_data"
    }
   ],
   "source": [
    "#read the reservation data \n",
    "df = pd.read_csv('data_raw/reservation_data_2019-2021_incl_capacity.csv', \n",
    "                 parse_dates=[\"date\"], date_parser=lambda x: pd.to_datetime(x, format=\"%Y-%m-%d %H:%M:%S\"))         \n",
    "        \n",
    "print('reservations: ')\n",
    "display(df.tail(1))\n",
    "\n",
    "\n",
    "# read holiday data\n",
    "df_schulferien = pd.read_csv('data_preprocessed/Schulferien.csv', dtype={\"canton\": \"string\", \"population\": \"int32\"})\n",
    "df_schulferien['start'] = pd.to_datetime(df_schulferien['holidays_start'])\n",
    "df_schulferien['end'] = pd.to_datetime(df_schulferien['holidays_end'])\n",
    "df_schulferien = df_schulferien.drop(columns=[\"holidays_start\", \"holidays_end\"])\n",
    "\n",
    "print('schulferien: ')\n",
    "display(df_schulferien.tail(1))\n",
    "\n",
    "# train station coordinates data\n",
    "df_coordinates = pd.read_csv('data_preprocessed/dienststellen.csv')\n",
    "df_coordinates = df_coordinates[[\"abk_bahnhof\", \"lat\", \"lon\"]]\n",
    "df_coordinates = df_coordinates[df_coordinates['abk_bahnhof'].notna()]\n",
    "display(df_coordinates.tail(1))\n",
    "\n",
    "# weather data\n",
    "def parse_date(row):\n",
    "    date=datetime.datetime.fromisoformat('2019-11-11T00:52:43+00:00')\n",
    "    return date\n",
    "\n",
    "df_weather = pd.read_csv(\"data_preprocessed/weather.csv\")\n",
    "df_weather['date']= df_weather.apply(lambda row: parse_date(row), axis=1)\n",
    "display(df_weather.tail(1))\n",
    "\n",
    "# jahresformation\n",
    "df_jahresformation = pd.read_csv(\"data_preprocessed/jahresformation.csv\", dtype={\"Block Bezeichnung\": \"string\"})\n",
    "display(df_jahresformation.tail(1))\n",
    "df_jahresformation.dtypes\n",
    "\n",
    "# kapazität\n",
    "df_kapazität = pd.read_csv(\"data_preprocessed/rollmaterial-matching.csv\")\n",
    "display(df_kapazität.tail(1))\n"
   ]
  },
  {
   "cell_type": "markdown",
   "metadata": {
    "_uuid": "11cfab56463119e89386f321ae32a8f4ddba59d2"
   },
   "source": [
    "#### 2) Week day <a name=\"stat\"></a>\n",
    "\n",
    "- Add a feature for weekday: 'weekday' and 'month'"
   ]
  },
  {
   "cell_type": "code",
   "execution_count": null,
   "metadata": {
    "_uuid": "ea0865fdc8a2076e90f2f817c6af255cc3090630"
   },
   "outputs": [],
   "source": [
    "df['weekday'] = df['date'].dt.dayofweek\n",
    "df['month'] = df['date'].dt.month"
   ]
  },
  {
   "cell_type": "markdown",
   "metadata": {},
   "source": [
    "#### 3) Holidays <a name=\"stat\"></a>\n",
    "- Add a feature for number of people in holiday canton: n_holiday"
   ]
  },
  {
   "cell_type": "code",
   "execution_count": null,
   "metadata": {},
   "outputs": [],
   "source": [
    "# for each date, get the number of people in Switzerland who \n",
    "# are either on school holiday or national holiday..\n",
    "def get_holiday_people(date):\n",
    "    filtered_holidays = df_schulferien[(df_schulferien['start']<=date)&(df_schulferien['end']>=date)]\n",
    "    is_national_holiday = (filtered_holidays[\"canton\"]==\"national\").sum()\n",
    "    if is_national_holiday:\n",
    "        people = 7917100\n",
    "    elif not(filtered_holidays.empty):\n",
    "        filtered_holidays = filtered_holidays[filtered_holidays[\"canton\"]!=\"national\"]\n",
    "        people = sum(filtered_holidays[\"population\"])\n",
    "    else: people=0\n",
    "    return people"
   ]
  },
  {
   "cell_type": "code",
   "execution_count": null,
   "metadata": {},
   "outputs": [],
   "source": [
    "# filter df, only 2021 data\n",
    "# df=df[df['date']>='2021-01-01']\n",
    "df['holiday_people'] = df.apply(lambda row : get_holiday_people(row['date']), axis = 1)\n"
   ]
  },
  {
   "cell_type": "markdown",
   "metadata": {
    "_uuid": "fe4cf230d2c14cbbcef7e26ebbb249777cfa7cb3"
   },
   "source": [
    "#### 4) Coordinates <a name=\"hr\"></a>"
   ]
  },
  {
   "cell_type": "code",
   "execution_count": null,
   "metadata": {},
   "outputs": [],
   "source": [
    "# full join for start train station \n",
    "df = pd.merge(df, df_coordinates, left_on='bp_from', right_on='abk_bahnhof')\n",
    "df = df.drop(columns=['abk_bahnhof']).rename(columns={\"lat\": \"lat_from\", \"lon\": \"lon_from\"})\n",
    "\n",
    "# full join for destination\n",
    "df = pd.merge(df, df_coordinates, left_on='bp_to', right_on='abk_bahnhof')\n",
    "df = df.drop(columns=['abk_bahnhof']).rename(columns={\"lat\": \"lat_to\", \"lon\": \"lon_to\"})\n",
    "display(df.head(2))"
   ]
  },
  {
   "cell_type": "markdown",
   "metadata": {
    "_uuid": "a390f0e9e8b4950475913663213bcd833f8cbeb6"
   },
   "source": [
    "#### 5) Weather <a name=\"corr\"></a>"
   ]
  },
  {
   "cell_type": "code",
   "execution_count": null,
   "metadata": {},
   "outputs": [],
   "source": [
    "# weather data\n",
    "df_weather = pd.read_csv(\"data_preprocessed/weather.csv\")\n",
    "    parse_dates=[\"validdate\"], date_parser=lambda x: pd.to_datetime(x, format=\"%Y-%m-%d%T%H:%M:%S%Z\"))         \n",
    "\n",
    "#df_weather['date'] = df_weather['validdate'].apply(dateutil.parser.parse)\n",
    "display(df_weather.tail(1))"
   ]
  },
  {
   "cell_type": "code",
   "execution_count": null,
   "metadata": {},
   "outputs": [],
   "source": [
    "##import meteo data \n",
    "username = 'can-guru_otth'\n",
    "password = 'eyk47W6ATq'\n",
    "coordinates = [(47.378177, 8.540212)]\n",
    "#model =     'mix'\n",
    "\n",
    "startdate = dt.datetime(year=2022, month=4, day=9, hour=0, minute=0, second=0)\n",
    "enddate =   startdate \n",
    "\n",
    "parameters = ['t_2m:C','precip_24h:mm', 'leisure_biking:idx']\n",
    "format = 'csv'\n",
    "\n",
    "df = api.query_time_series(coordinates, startdate, enddate, interval, parameters, username, password, model=model)\n",
    "\n",
    "print(df)"
   ]
  },
  {
   "cell_type": "markdown",
   "metadata": {},
   "source": [
    "#### 6) Capacity <a name=\"corr\"></a>"
   ]
  },
  {
   "cell_type": "markdown",
   "metadata": {},
   "source": [
    " - Für jede Reservation: Zugnummer im Jahresformation-Datensatz abrufen\n",
    " - Beachte: richtiges Jahr wählen, häufigste Formation\n",
    " - entsprechende Kapazität auslesen"
   ]
  },
  {
   "cell_type": "code",
   "execution_count": null,
   "metadata": {
    "_uuid": "6f66b54be3ee221420ba23c9f218451680ac2f41",
    "hideCode": false
   },
   "outputs": [],
   "source": [
    "#combine data from capacity table and annual formation\n",
    "list_kapazitäten=df_kapazität[\"Block Bezeichnung in Jahresformation Fpl-2022\"].tolist()\n",
    "df_jahresformation = df_jahresformation[df_jahresformation[\"Block Bezeichnung\"].isin(list_kapazitäten)]\n",
    "df_jahresformation=df_jahresformation[[\"Block Bezeichnung\", \"Zug\", \"Beginn Fahrplanperiode\"]]\n",
    "df_jahresformation = pd.merge(df_jahresformation, df_kapazität, left_on='Block Bezeichnung', right_on='Block Bezeichnung in Jahresformation Fpl-2022').drop(columns=[\"Block Bezeichnung in Jahresformation Fpl-2022\"])\n",
    "df_jahresformation.tail(2)"
   ]
  },
  {
   "cell_type": "code",
   "execution_count": 2,
   "metadata": {},
   "outputs": [
    {
     "ename": "NameError",
     "evalue": "name 'df' is not defined",
     "output_type": "error",
     "traceback": [
      "\u001b[1;31m---------------------------------------------------------------------------\u001b[0m",
      "\u001b[1;31mNameError\u001b[0m                                 Traceback (most recent call last)",
      "\u001b[1;32m~\\AppData\\Local\\Temp/ipykernel_11832/3535674399.py\u001b[0m in \u001b[0;36m<module>\u001b[1;34m\u001b[0m\n\u001b[1;32m----> 1\u001b[1;33m \u001b[0mmedian_df\u001b[0m\u001b[1;33m=\u001b[0m\u001b[0mdf\u001b[0m\u001b[1;33m[\u001b[0m\u001b[0mdf\u001b[0m\u001b[1;33m[\u001b[0m\u001b[1;34m\"capacity\"\u001b[0m\u001b[1;33m]\u001b[0m\u001b[1;33m.\u001b[0m\u001b[0mnotnull\u001b[0m\u001b[1;33m(\u001b[0m\u001b[1;33m)\u001b[0m\u001b[1;33m]\u001b[0m\u001b[1;33m\u001b[0m\u001b[1;33m\u001b[0m\u001b[0m\n\u001b[0m\u001b[0;32m      2\u001b[0m \u001b[0mmedian\u001b[0m\u001b[1;33m=\u001b[0m\u001b[0mnp\u001b[0m\u001b[1;33m.\u001b[0m\u001b[0mmedian\u001b[0m\u001b[1;33m(\u001b[0m\u001b[0mmedian_df\u001b[0m\u001b[1;33m[\u001b[0m\u001b[1;34m'capacity'\u001b[0m\u001b[1;33m]\u001b[0m\u001b[1;33m)\u001b[0m\u001b[1;33m\u001b[0m\u001b[1;33m\u001b[0m\u001b[0m\n\u001b[0;32m      3\u001b[0m \u001b[0mprint\u001b[0m\u001b[1;33m(\u001b[0m\u001b[1;34m'Median Kapazität'\u001b[0m\u001b[1;33m,\u001b[0m \u001b[0mmedian\u001b[0m\u001b[1;33m)\u001b[0m\u001b[1;33m\u001b[0m\u001b[1;33m\u001b[0m\u001b[0m\n\u001b[0;32m      4\u001b[0m \u001b[1;33m\u001b[0m\u001b[0m\n",
      "\u001b[1;31mNameError\u001b[0m: name 'df' is not defined"
     ]
    }
   ],
   "source": [
    "median_df=df[df[\"capacity\"].notnull()]\n",
    "median=np.median(median_df['capacity'])\n",
    "print('Median Kapazität', median)"
   ]
  },
  {
   "cell_type": "code",
   "execution_count": null,
   "metadata": {},
   "outputs": [],
   "source": [
    "def fill_capacity(row):\n",
    "    train=row.train_nr   \n",
    "    formation = df_jahresformation[df_jahresformation[\"Zug\"]==train]\n",
    "    display(formation)\n",
    "    capacity=formation[\"No. of hooks\"].mean()\n",
    "    return capacity"
   ]
  },
  {
   "cell_type": "code",
   "execution_count": null,
   "metadata": {},
   "outputs": [],
   "source": [
    "# for the rows where there is no capacity included\n",
    "# first try to check with the jahresformation lookup table\n",
    "mask = df.capacity.isnull()\n",
    "df['capacity'] = df[mask].apply(fill_capacity, axis=1)\n",
    "\n",
    "# secondly, fill the median capacity \n",
    "df=df.fillna(value={\"capacity\": median})"
   ]
  },
  {
   "cell_type": "code",
   "execution_count": null,
   "metadata": {},
   "outputs": [],
   "source": [
    "df.head(10)"
   ]
  }
 ],
 "metadata": {
  "kernelspec": {
   "display_name": "Python 3 (ipykernel)",
   "language": "python",
   "name": "python3"
  },
  "language_info": {
   "codemirror_mode": {
    "name": "ipython",
    "version": 3
   },
   "file_extension": ".py",
   "mimetype": "text/x-python",
   "name": "python",
   "nbconvert_exporter": "python",
   "pygments_lexer": "ipython3",
   "version": "3.9.7"
  },
  "latex_envs": {
   "LaTeX_envs_menu_present": false,
   "autoclose": false,
   "autocomplete": true,
   "bibliofile": "biblio.bib",
   "cite_by": "apalike",
   "current_citInitial": 1,
   "eqLabelWithNumbers": true,
   "eqNumInitial": 1,
   "hotkeys": {
    "equation": "Ctrl-E",
    "itemize": "Ctrl-I"
   },
   "labels_anchors": false,
   "latex_user_defs": false,
   "report_style_numbering": false,
   "user_envs_cfg": false
  },
  "varInspector": {
   "cols": {
    "lenName": 16,
    "lenType": 16,
    "lenVar": 40
   },
   "kernels_config": {
    "python": {
     "delete_cmd_postfix": "",
     "delete_cmd_prefix": "del ",
     "library": "var_list.py",
     "varRefreshCmd": "print(var_dic_list())"
    },
    "r": {
     "delete_cmd_postfix": ") ",
     "delete_cmd_prefix": "rm(",
     "library": "var_list.r",
     "varRefreshCmd": "cat(var_dic_list()) "
    }
   },
   "types_to_exclude": [
    "module",
    "function",
    "builtin_function_or_method",
    "instance",
    "_Feature"
   ],
   "window_display": false
  }
 },
 "nbformat": 4,
 "nbformat_minor": 4
}
