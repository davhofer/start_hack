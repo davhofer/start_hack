{
 "cells": [
  {
   "cell_type": "code",
   "execution_count": 1,
   "metadata": {},
   "outputs": [
    {
     "data": {
      "text/html": [
       "<div>\n",
       "<style scoped>\n",
       "    .dataframe tbody tr th:only-of-type {\n",
       "        vertical-align: middle;\n",
       "    }\n",
       "\n",
       "    .dataframe tbody tr th {\n",
       "        vertical-align: top;\n",
       "    }\n",
       "\n",
       "    .dataframe thead th {\n",
       "        text-align: right;\n",
       "    }\n",
       "</style>\n",
       "<table border=\"1\" class=\"dataframe\">\n",
       "  <thead>\n",
       "    <tr style=\"text-align: right;\">\n",
       "      <th></th>\n",
       "      <th>start</th>\n",
       "      <th>start_loc</th>\n",
       "      <th>count</th>\n",
       "      <th>end</th>\n",
       "      <th>end_loc</th>\n",
       "      <th>capacity</th>\n",
       "      <th>line</th>\n",
       "      <th>travel_date</th>\n",
       "      <th>latest_res_dt</th>\n",
       "    </tr>\n",
       "  </thead>\n",
       "  <tbody>\n",
       "    <tr>\n",
       "      <th>0</th>\n",
       "      <td>2021-03-21 06:34:30</td>\n",
       "      <td>ZUE</td>\n",
       "      <td>1.0</td>\n",
       "      <td>2021-03-21 07:28:00</td>\n",
       "      <td>BS</td>\n",
       "      <td>15.0</td>\n",
       "      <td>IC 3</td>\n",
       "      <td>2021-03-21</td>\n",
       "      <td>2021-03-21 06:34:30</td>\n",
       "    </tr>\n",
       "    <tr>\n",
       "      <th>1</th>\n",
       "      <td>2021-03-26 05:08:30</td>\n",
       "      <td>CH</td>\n",
       "      <td>2.0</td>\n",
       "      <td>2021-03-26 06:22:18</td>\n",
       "      <td>ZUE</td>\n",
       "      <td>9.0</td>\n",
       "      <td>IC 3</td>\n",
       "      <td>2021-03-26</td>\n",
       "      <td>2021-03-26 05:08:30</td>\n",
       "    </tr>\n",
       "    <tr>\n",
       "      <th>2</th>\n",
       "      <td>2021-03-26 06:34:30</td>\n",
       "      <td>ZUE</td>\n",
       "      <td>1.0</td>\n",
       "      <td>2021-03-26 07:28:00</td>\n",
       "      <td>BS</td>\n",
       "      <td>9.0</td>\n",
       "      <td>IC 3</td>\n",
       "      <td>2021-03-26</td>\n",
       "      <td>2021-03-26 06:34:30</td>\n",
       "    </tr>\n",
       "    <tr>\n",
       "      <th>3</th>\n",
       "      <td>2021-03-27 05:08:30</td>\n",
       "      <td>CH</td>\n",
       "      <td>1.0</td>\n",
       "      <td>2021-03-27 06:22:18</td>\n",
       "      <td>ZUE</td>\n",
       "      <td>9.0</td>\n",
       "      <td>IC 3</td>\n",
       "      <td>2021-03-27</td>\n",
       "      <td>2021-03-27 05:08:30</td>\n",
       "    </tr>\n",
       "    <tr>\n",
       "      <th>4</th>\n",
       "      <td>2021-04-24 05:08:30</td>\n",
       "      <td>CH</td>\n",
       "      <td>1.0</td>\n",
       "      <td>2021-04-24 06:22:18</td>\n",
       "      <td>ZUE</td>\n",
       "      <td>9.0</td>\n",
       "      <td>IC 3</td>\n",
       "      <td>2021-04-24</td>\n",
       "      <td>2021-04-24 05:08:30</td>\n",
       "    </tr>\n",
       "    <tr>\n",
       "      <th>...</th>\n",
       "      <td>...</td>\n",
       "      <td>...</td>\n",
       "      <td>...</td>\n",
       "      <td>...</td>\n",
       "      <td>...</td>\n",
       "      <td>...</td>\n",
       "      <td>...</td>\n",
       "      <td>...</td>\n",
       "      <td>...</td>\n",
       "    </tr>\n",
       "    <tr>\n",
       "      <th>115769</th>\n",
       "      <td>2021-10-17 15:47:30</td>\n",
       "      <td>LQ</td>\n",
       "      <td>7.0</td>\n",
       "      <td>2021-10-17 15:56:24</td>\n",
       "      <td>SA</td>\n",
       "      <td>37.0</td>\n",
       "      <td>IC 3</td>\n",
       "      <td>2021-10-17</td>\n",
       "      <td>2021-10-17 15:47:30</td>\n",
       "    </tr>\n",
       "    <tr>\n",
       "      <th>115770</th>\n",
       "      <td>2021-10-17 15:56:24</td>\n",
       "      <td>SA</td>\n",
       "      <td>8.0</td>\n",
       "      <td>2021-10-17 16:53:00</td>\n",
       "      <td>ZUE</td>\n",
       "      <td>37.0</td>\n",
       "      <td>IC 3</td>\n",
       "      <td>2021-10-17</td>\n",
       "      <td>2021-10-17 15:56:24</td>\n",
       "    </tr>\n",
       "    <tr>\n",
       "      <th>115771</th>\n",
       "      <td>2021-10-24 15:37:30</td>\n",
       "      <td>CH</td>\n",
       "      <td>7.0</td>\n",
       "      <td>2021-10-24 15:47:30</td>\n",
       "      <td>LQ</td>\n",
       "      <td>35.0</td>\n",
       "      <td>IC 3</td>\n",
       "      <td>2021-10-24</td>\n",
       "      <td>2021-10-24 15:37:30</td>\n",
       "    </tr>\n",
       "    <tr>\n",
       "      <th>115772</th>\n",
       "      <td>2021-10-24 15:47:30</td>\n",
       "      <td>LQ</td>\n",
       "      <td>11.0</td>\n",
       "      <td>2021-10-24 15:56:24</td>\n",
       "      <td>SA</td>\n",
       "      <td>35.0</td>\n",
       "      <td>IC 3</td>\n",
       "      <td>2021-10-24</td>\n",
       "      <td>2021-10-24 15:47:30</td>\n",
       "    </tr>\n",
       "    <tr>\n",
       "      <th>115773</th>\n",
       "      <td>2021-10-24 15:56:24</td>\n",
       "      <td>SA</td>\n",
       "      <td>18.0</td>\n",
       "      <td>2021-10-24 16:53:00</td>\n",
       "      <td>ZUE</td>\n",
       "      <td>35.0</td>\n",
       "      <td>IC 3</td>\n",
       "      <td>2021-10-24</td>\n",
       "      <td>2021-10-24 15:56:24</td>\n",
       "    </tr>\n",
       "  </tbody>\n",
       "</table>\n",
       "<p>115774 rows × 9 columns</p>\n",
       "</div>"
      ],
      "text/plain": [
       "                     start start_loc  count                 end end_loc  \\\n",
       "0      2021-03-21 06:34:30       ZUE    1.0 2021-03-21 07:28:00      BS   \n",
       "1      2021-03-26 05:08:30        CH    2.0 2021-03-26 06:22:18     ZUE   \n",
       "2      2021-03-26 06:34:30       ZUE    1.0 2021-03-26 07:28:00      BS   \n",
       "3      2021-03-27 05:08:30        CH    1.0 2021-03-27 06:22:18     ZUE   \n",
       "4      2021-04-24 05:08:30        CH    1.0 2021-04-24 06:22:18     ZUE   \n",
       "...                    ...       ...    ...                 ...     ...   \n",
       "115769 2021-10-17 15:47:30        LQ    7.0 2021-10-17 15:56:24      SA   \n",
       "115770 2021-10-17 15:56:24        SA    8.0 2021-10-17 16:53:00     ZUE   \n",
       "115771 2021-10-24 15:37:30        CH    7.0 2021-10-24 15:47:30      LQ   \n",
       "115772 2021-10-24 15:47:30        LQ   11.0 2021-10-24 15:56:24      SA   \n",
       "115773 2021-10-24 15:56:24        SA   18.0 2021-10-24 16:53:00     ZUE   \n",
       "\n",
       "        capacity  line travel_date       latest_res_dt  \n",
       "0           15.0  IC 3  2021-03-21 2021-03-21 06:34:30  \n",
       "1            9.0  IC 3  2021-03-26 2021-03-26 05:08:30  \n",
       "2            9.0  IC 3  2021-03-26 2021-03-26 06:34:30  \n",
       "3            9.0  IC 3  2021-03-27 2021-03-27 05:08:30  \n",
       "4            9.0  IC 3  2021-04-24 2021-04-24 05:08:30  \n",
       "...          ...   ...         ...                 ...  \n",
       "115769      37.0  IC 3  2021-10-17 2021-10-17 15:47:30  \n",
       "115770      37.0  IC 3  2021-10-17 2021-10-17 15:56:24  \n",
       "115771      35.0  IC 3  2021-10-24 2021-10-24 15:37:30  \n",
       "115772      35.0  IC 3  2021-10-24 2021-10-24 15:47:30  \n",
       "115773      35.0  IC 3  2021-10-24 2021-10-24 15:56:24  \n",
       "\n",
       "[115774 rows x 9 columns]"
      ]
     },
     "execution_count": 1,
     "metadata": {},
     "output_type": "execute_result"
    }
   ],
   "source": [
    "import pandas as pd\n",
    "\n",
    "# Load phases dataframe\n",
    "parse_dates = [\"start\", \"end\", \"travel_date\", \"latest_res_dt\"]\n",
    "df = pd.read_csv(\"model_data.csv\", parse_dates=parse_dates)\n",
    "df"
   ]
  },
  {
   "cell_type": "code",
   "execution_count": 2,
   "metadata": {},
   "outputs": [
    {
     "data": {
      "text/html": [
       "<div>\n",
       "<style scoped>\n",
       "    .dataframe tbody tr th:only-of-type {\n",
       "        vertical-align: middle;\n",
       "    }\n",
       "\n",
       "    .dataframe tbody tr th {\n",
       "        vertical-align: top;\n",
       "    }\n",
       "\n",
       "    .dataframe thead th {\n",
       "        text-align: right;\n",
       "    }\n",
       "</style>\n",
       "<table border=\"1\" class=\"dataframe\">\n",
       "  <thead>\n",
       "    <tr style=\"text-align: right;\">\n",
       "      <th></th>\n",
       "      <th>start</th>\n",
       "      <th>start_loc</th>\n",
       "      <th>count</th>\n",
       "      <th>end</th>\n",
       "      <th>end_loc</th>\n",
       "      <th>capacity</th>\n",
       "      <th>line</th>\n",
       "      <th>travel_date</th>\n",
       "      <th>latest_res_dt</th>\n",
       "      <th>book_in_advance</th>\n",
       "      <th>day_of_week</th>\n",
       "      <th>week</th>\n",
       "      <th>month</th>\n",
       "    </tr>\n",
       "  </thead>\n",
       "  <tbody>\n",
       "    <tr>\n",
       "      <th>0</th>\n",
       "      <td>2021-03-21 06:34:30</td>\n",
       "      <td>ZUE</td>\n",
       "      <td>1.0</td>\n",
       "      <td>2021-03-21 07:28:00</td>\n",
       "      <td>BS</td>\n",
       "      <td>15.0</td>\n",
       "      <td>IC 3</td>\n",
       "      <td>2021-03-21</td>\n",
       "      <td>2021-03-21 06:34:30</td>\n",
       "      <td>0.0</td>\n",
       "      <td>6</td>\n",
       "      <td>11</td>\n",
       "      <td>3</td>\n",
       "    </tr>\n",
       "    <tr>\n",
       "      <th>1</th>\n",
       "      <td>2021-03-26 05:08:30</td>\n",
       "      <td>CH</td>\n",
       "      <td>2.0</td>\n",
       "      <td>2021-03-26 06:22:18</td>\n",
       "      <td>ZUE</td>\n",
       "      <td>9.0</td>\n",
       "      <td>IC 3</td>\n",
       "      <td>2021-03-26</td>\n",
       "      <td>2021-03-26 05:08:30</td>\n",
       "      <td>0.0</td>\n",
       "      <td>4</td>\n",
       "      <td>12</td>\n",
       "      <td>3</td>\n",
       "    </tr>\n",
       "    <tr>\n",
       "      <th>2</th>\n",
       "      <td>2021-03-26 06:34:30</td>\n",
       "      <td>ZUE</td>\n",
       "      <td>1.0</td>\n",
       "      <td>2021-03-26 07:28:00</td>\n",
       "      <td>BS</td>\n",
       "      <td>9.0</td>\n",
       "      <td>IC 3</td>\n",
       "      <td>2021-03-26</td>\n",
       "      <td>2021-03-26 06:34:30</td>\n",
       "      <td>0.0</td>\n",
       "      <td>4</td>\n",
       "      <td>12</td>\n",
       "      <td>3</td>\n",
       "    </tr>\n",
       "    <tr>\n",
       "      <th>3</th>\n",
       "      <td>2021-03-27 05:08:30</td>\n",
       "      <td>CH</td>\n",
       "      <td>1.0</td>\n",
       "      <td>2021-03-27 06:22:18</td>\n",
       "      <td>ZUE</td>\n",
       "      <td>9.0</td>\n",
       "      <td>IC 3</td>\n",
       "      <td>2021-03-27</td>\n",
       "      <td>2021-03-27 05:08:30</td>\n",
       "      <td>0.0</td>\n",
       "      <td>5</td>\n",
       "      <td>12</td>\n",
       "      <td>3</td>\n",
       "    </tr>\n",
       "    <tr>\n",
       "      <th>4</th>\n",
       "      <td>2021-04-24 05:08:30</td>\n",
       "      <td>CH</td>\n",
       "      <td>1.0</td>\n",
       "      <td>2021-04-24 06:22:18</td>\n",
       "      <td>ZUE</td>\n",
       "      <td>9.0</td>\n",
       "      <td>IC 3</td>\n",
       "      <td>2021-04-24</td>\n",
       "      <td>2021-04-24 05:08:30</td>\n",
       "      <td>0.0</td>\n",
       "      <td>5</td>\n",
       "      <td>16</td>\n",
       "      <td>4</td>\n",
       "    </tr>\n",
       "    <tr>\n",
       "      <th>...</th>\n",
       "      <td>...</td>\n",
       "      <td>...</td>\n",
       "      <td>...</td>\n",
       "      <td>...</td>\n",
       "      <td>...</td>\n",
       "      <td>...</td>\n",
       "      <td>...</td>\n",
       "      <td>...</td>\n",
       "      <td>...</td>\n",
       "      <td>...</td>\n",
       "      <td>...</td>\n",
       "      <td>...</td>\n",
       "      <td>...</td>\n",
       "    </tr>\n",
       "    <tr>\n",
       "      <th>115769</th>\n",
       "      <td>2021-10-17 15:47:30</td>\n",
       "      <td>LQ</td>\n",
       "      <td>7.0</td>\n",
       "      <td>2021-10-17 15:56:24</td>\n",
       "      <td>SA</td>\n",
       "      <td>37.0</td>\n",
       "      <td>IC 3</td>\n",
       "      <td>2021-10-17</td>\n",
       "      <td>2021-10-17 15:47:30</td>\n",
       "      <td>0.0</td>\n",
       "      <td>6</td>\n",
       "      <td>41</td>\n",
       "      <td>10</td>\n",
       "    </tr>\n",
       "    <tr>\n",
       "      <th>115770</th>\n",
       "      <td>2021-10-17 15:56:24</td>\n",
       "      <td>SA</td>\n",
       "      <td>8.0</td>\n",
       "      <td>2021-10-17 16:53:00</td>\n",
       "      <td>ZUE</td>\n",
       "      <td>37.0</td>\n",
       "      <td>IC 3</td>\n",
       "      <td>2021-10-17</td>\n",
       "      <td>2021-10-17 15:56:24</td>\n",
       "      <td>0.0</td>\n",
       "      <td>6</td>\n",
       "      <td>41</td>\n",
       "      <td>10</td>\n",
       "    </tr>\n",
       "    <tr>\n",
       "      <th>115771</th>\n",
       "      <td>2021-10-24 15:37:30</td>\n",
       "      <td>CH</td>\n",
       "      <td>7.0</td>\n",
       "      <td>2021-10-24 15:47:30</td>\n",
       "      <td>LQ</td>\n",
       "      <td>35.0</td>\n",
       "      <td>IC 3</td>\n",
       "      <td>2021-10-24</td>\n",
       "      <td>2021-10-24 15:37:30</td>\n",
       "      <td>0.0</td>\n",
       "      <td>6</td>\n",
       "      <td>42</td>\n",
       "      <td>10</td>\n",
       "    </tr>\n",
       "    <tr>\n",
       "      <th>115772</th>\n",
       "      <td>2021-10-24 15:47:30</td>\n",
       "      <td>LQ</td>\n",
       "      <td>11.0</td>\n",
       "      <td>2021-10-24 15:56:24</td>\n",
       "      <td>SA</td>\n",
       "      <td>35.0</td>\n",
       "      <td>IC 3</td>\n",
       "      <td>2021-10-24</td>\n",
       "      <td>2021-10-24 15:47:30</td>\n",
       "      <td>0.0</td>\n",
       "      <td>6</td>\n",
       "      <td>42</td>\n",
       "      <td>10</td>\n",
       "    </tr>\n",
       "    <tr>\n",
       "      <th>115773</th>\n",
       "      <td>2021-10-24 15:56:24</td>\n",
       "      <td>SA</td>\n",
       "      <td>18.0</td>\n",
       "      <td>2021-10-24 16:53:00</td>\n",
       "      <td>ZUE</td>\n",
       "      <td>35.0</td>\n",
       "      <td>IC 3</td>\n",
       "      <td>2021-10-24</td>\n",
       "      <td>2021-10-24 15:56:24</td>\n",
       "      <td>0.0</td>\n",
       "      <td>6</td>\n",
       "      <td>42</td>\n",
       "      <td>10</td>\n",
       "    </tr>\n",
       "  </tbody>\n",
       "</table>\n",
       "<p>115774 rows × 13 columns</p>\n",
       "</div>"
      ],
      "text/plain": [
       "                     start start_loc  count                 end end_loc  \\\n",
       "0      2021-03-21 06:34:30       ZUE    1.0 2021-03-21 07:28:00      BS   \n",
       "1      2021-03-26 05:08:30        CH    2.0 2021-03-26 06:22:18     ZUE   \n",
       "2      2021-03-26 06:34:30       ZUE    1.0 2021-03-26 07:28:00      BS   \n",
       "3      2021-03-27 05:08:30        CH    1.0 2021-03-27 06:22:18     ZUE   \n",
       "4      2021-04-24 05:08:30        CH    1.0 2021-04-24 06:22:18     ZUE   \n",
       "...                    ...       ...    ...                 ...     ...   \n",
       "115769 2021-10-17 15:47:30        LQ    7.0 2021-10-17 15:56:24      SA   \n",
       "115770 2021-10-17 15:56:24        SA    8.0 2021-10-17 16:53:00     ZUE   \n",
       "115771 2021-10-24 15:37:30        CH    7.0 2021-10-24 15:47:30      LQ   \n",
       "115772 2021-10-24 15:47:30        LQ   11.0 2021-10-24 15:56:24      SA   \n",
       "115773 2021-10-24 15:56:24        SA   18.0 2021-10-24 16:53:00     ZUE   \n",
       "\n",
       "        capacity  line travel_date       latest_res_dt  book_in_advance  \\\n",
       "0           15.0  IC 3  2021-03-21 2021-03-21 06:34:30              0.0   \n",
       "1            9.0  IC 3  2021-03-26 2021-03-26 05:08:30              0.0   \n",
       "2            9.0  IC 3  2021-03-26 2021-03-26 06:34:30              0.0   \n",
       "3            9.0  IC 3  2021-03-27 2021-03-27 05:08:30              0.0   \n",
       "4            9.0  IC 3  2021-04-24 2021-04-24 05:08:30              0.0   \n",
       "...          ...   ...         ...                 ...              ...   \n",
       "115769      37.0  IC 3  2021-10-17 2021-10-17 15:47:30              0.0   \n",
       "115770      37.0  IC 3  2021-10-17 2021-10-17 15:56:24              0.0   \n",
       "115771      35.0  IC 3  2021-10-24 2021-10-24 15:37:30              0.0   \n",
       "115772      35.0  IC 3  2021-10-24 2021-10-24 15:47:30              0.0   \n",
       "115773      35.0  IC 3  2021-10-24 2021-10-24 15:56:24              0.0   \n",
       "\n",
       "        day_of_week  week  month  \n",
       "0                 6    11      3  \n",
       "1                 4    12      3  \n",
       "2                 4    12      3  \n",
       "3                 5    12      3  \n",
       "4                 5    16      4  \n",
       "...             ...   ...    ...  \n",
       "115769            6    41     10  \n",
       "115770            6    41     10  \n",
       "115771            6    42     10  \n",
       "115772            6    42     10  \n",
       "115773            6    42     10  \n",
       "\n",
       "[115774 rows x 13 columns]"
      ]
     },
     "execution_count": 2,
     "metadata": {},
     "output_type": "execute_result"
    }
   ],
   "source": [
    "df_book_in_advance = pd.to_timedelta(df[\"start\"] - df[\"latest_res_dt\"], unit=\"m\").dt.total_seconds()//60\n",
    "df_book_in_advance.drop(df_book_in_advance[df_book_in_advance < 0].index, inplace=True)\n",
    "df[\"book_in_advance\"] = df_book_in_advance\n",
    "df[\"day_of_week\"] = df[\"travel_date\"].dt.day_of_week\n",
    "df[\"week\"] = df[\"travel_date\"].dt.isocalendar().week\n",
    "df[\"month\"] = df[\"travel_date\"].dt.month\n",
    "df_data = df.drop([\"count\", \"travel_date\"], axis=1)\n",
    "df"
   ]
  },
  {
   "cell_type": "code",
   "execution_count": 3,
   "metadata": {},
   "outputs": [
    {
     "name": "stderr",
     "output_type": "stream",
     "text": [
      "/Users/oli/miniforge3/envs/tensorflow/lib/python3.9/site-packages/IPython/core/interactiveshell.py:3444: DtypeWarning: Columns (15) have mixed types.Specify dtype option on import or set low_memory=False.\n",
      "  exec(code_obj, self.user_global_ns, self.user_ns)\n"
     ]
    },
    {
     "data": {
      "text/html": [
       "<div>\n",
       "<style scoped>\n",
       "    .dataframe tbody tr th:only-of-type {\n",
       "        vertical-align: middle;\n",
       "    }\n",
       "\n",
       "    .dataframe tbody tr th {\n",
       "        vertical-align: top;\n",
       "    }\n",
       "\n",
       "    .dataframe thead th {\n",
       "        text-align: right;\n",
       "    }\n",
       "</style>\n",
       "<table border=\"1\" class=\"dataframe\">\n",
       "  <thead>\n",
       "    <tr style=\"text-align: right;\">\n",
       "      <th></th>\n",
       "      <th>abk_bahnhof</th>\n",
       "      <th>Name Haltestelle</th>\n",
       "      <th>lat</th>\n",
       "      <th>lon</th>\n",
       "    </tr>\n",
       "  </thead>\n",
       "  <tbody>\n",
       "    <tr>\n",
       "      <th>12</th>\n",
       "      <td>BNBS</td>\n",
       "      <td>Bern Bümpliz Süd</td>\n",
       "      <td>46.937487</td>\n",
       "      <td>7.395238</td>\n",
       "    </tr>\n",
       "    <tr>\n",
       "      <th>14</th>\n",
       "      <td>BLB</td>\n",
       "      <td>Blankenburg</td>\n",
       "      <td>46.541100</td>\n",
       "      <td>7.385320</td>\n",
       "    </tr>\n",
       "    <tr>\n",
       "      <th>22</th>\n",
       "      <td>BNWM</td>\n",
       "      <td>Bern Weyermannshaus</td>\n",
       "      <td>46.947325</td>\n",
       "      <td>7.410929</td>\n",
       "    </tr>\n",
       "    <tr>\n",
       "      <th>24</th>\n",
       "      <td>FBBF</td>\n",
       "      <td>Fraubrunnen, Bahnhof</td>\n",
       "      <td>47.086521</td>\n",
       "      <td>7.522735</td>\n",
       "    </tr>\n",
       "    <tr>\n",
       "      <th>30</th>\n",
       "      <td>ZWEI</td>\n",
       "      <td>Zweilütschinen</td>\n",
       "      <td>46.632700</td>\n",
       "      <td>7.899700</td>\n",
       "    </tr>\n",
       "    <tr>\n",
       "      <th>...</th>\n",
       "      <td>...</td>\n",
       "      <td>...</td>\n",
       "      <td>...</td>\n",
       "      <td>...</td>\n",
       "    </tr>\n",
       "    <tr>\n",
       "      <th>47054</th>\n",
       "      <td>BSZS</td>\n",
       "      <td>Basel Zentralstellwerk</td>\n",
       "      <td>47.543542</td>\n",
       "      <td>7.599316</td>\n",
       "    </tr>\n",
       "    <tr>\n",
       "      <th>47057</th>\n",
       "      <td>MUPT</td>\n",
       "      <td>Münster VS, Schulhaus</td>\n",
       "      <td>46.487462</td>\n",
       "      <td>8.267026</td>\n",
       "    </tr>\n",
       "    <tr>\n",
       "      <th>47099</th>\n",
       "      <td>MUTW</td>\n",
       "      <td>Mühlethal, Weiher</td>\n",
       "      <td>47.301864</td>\n",
       "      <td>7.974380</td>\n",
       "    </tr>\n",
       "    <tr>\n",
       "      <th>47112</th>\n",
       "      <td>OFAS</td>\n",
       "      <td>Oftringen, alte Strasse</td>\n",
       "      <td>47.308985</td>\n",
       "      <td>7.911185</td>\n",
       "    </tr>\n",
       "    <tr>\n",
       "      <th>47113</th>\n",
       "      <td>BRIA</td>\n",
       "      <td>Brittnau, Ausserdorf</td>\n",
       "      <td>47.260083</td>\n",
       "      <td>7.942674</td>\n",
       "    </tr>\n",
       "  </tbody>\n",
       "</table>\n",
       "<p>5091 rows × 4 columns</p>\n",
       "</div>"
      ],
      "text/plain": [
       "      abk_bahnhof         Name Haltestelle        lat       lon\n",
       "12           BNBS         Bern Bümpliz Süd  46.937487  7.395238\n",
       "14            BLB              Blankenburg  46.541100  7.385320\n",
       "22           BNWM      Bern Weyermannshaus  46.947325  7.410929\n",
       "24           FBBF     Fraubrunnen, Bahnhof  47.086521  7.522735\n",
       "30           ZWEI           Zweilütschinen  46.632700  7.899700\n",
       "...           ...                      ...        ...       ...\n",
       "47054        BSZS   Basel Zentralstellwerk  47.543542  7.599316\n",
       "47057        MUPT    Münster VS, Schulhaus  46.487462  8.267026\n",
       "47099        MUTW        Mühlethal, Weiher  47.301864  7.974380\n",
       "47112        OFAS  Oftringen, alte Strasse  47.308985  7.911185\n",
       "47113        BRIA     Brittnau, Ausserdorf  47.260083  7.942674\n",
       "\n",
       "[5091 rows x 4 columns]"
      ]
     },
     "execution_count": 3,
     "metadata": {},
     "output_type": "execute_result"
    }
   ],
   "source": [
    "train_stations = pd.read_csv(\"data_preprocessed/dienststellen.csv\")[[\"abk_bahnhof\", \"Name Haltestelle\", \"lat\", \"lon\"]].dropna()\n",
    "train_stations"
   ]
  },
  {
   "cell_type": "code",
   "execution_count": 4,
   "metadata": {},
   "outputs": [
    {
     "data": {
      "text/html": [
       "<div>\n",
       "<style scoped>\n",
       "    .dataframe tbody tr th:only-of-type {\n",
       "        vertical-align: middle;\n",
       "    }\n",
       "\n",
       "    .dataframe tbody tr th {\n",
       "        vertical-align: top;\n",
       "    }\n",
       "\n",
       "    .dataframe thead th {\n",
       "        text-align: right;\n",
       "    }\n",
       "</style>\n",
       "<table border=\"1\" class=\"dataframe\">\n",
       "  <thead>\n",
       "    <tr style=\"text-align: right;\">\n",
       "      <th></th>\n",
       "      <th>start</th>\n",
       "      <th>start_loc</th>\n",
       "      <th>count</th>\n",
       "      <th>end</th>\n",
       "      <th>end_loc</th>\n",
       "      <th>capacity</th>\n",
       "      <th>line</th>\n",
       "      <th>travel_date</th>\n",
       "      <th>latest_res_dt</th>\n",
       "      <th>book_in_advance</th>\n",
       "      <th>day_of_week</th>\n",
       "      <th>week</th>\n",
       "      <th>month</th>\n",
       "      <th>lat_from</th>\n",
       "      <th>lon_from</th>\n",
       "      <th>lat_to</th>\n",
       "      <th>lon_to</th>\n",
       "    </tr>\n",
       "  </thead>\n",
       "  <tbody>\n",
       "    <tr>\n",
       "      <th>0</th>\n",
       "      <td>2021-03-21 06:34:30</td>\n",
       "      <td>ZUE</td>\n",
       "      <td>1.0</td>\n",
       "      <td>2021-03-21 07:28:00</td>\n",
       "      <td>BS</td>\n",
       "      <td>15.0</td>\n",
       "      <td>IC 3</td>\n",
       "      <td>2021-03-21</td>\n",
       "      <td>2021-03-21 06:34:30</td>\n",
       "      <td>0.0</td>\n",
       "      <td>6</td>\n",
       "      <td>11</td>\n",
       "      <td>3</td>\n",
       "      <td>47.378177</td>\n",
       "      <td>8.540212</td>\n",
       "      <td>47.547412</td>\n",
       "      <td>7.589563</td>\n",
       "    </tr>\n",
       "    <tr>\n",
       "      <th>1</th>\n",
       "      <td>2021-03-26 06:34:30</td>\n",
       "      <td>ZUE</td>\n",
       "      <td>1.0</td>\n",
       "      <td>2021-03-26 07:28:00</td>\n",
       "      <td>BS</td>\n",
       "      <td>9.0</td>\n",
       "      <td>IC 3</td>\n",
       "      <td>2021-03-26</td>\n",
       "      <td>2021-03-26 06:34:30</td>\n",
       "      <td>0.0</td>\n",
       "      <td>4</td>\n",
       "      <td>12</td>\n",
       "      <td>3</td>\n",
       "      <td>47.378177</td>\n",
       "      <td>8.540212</td>\n",
       "      <td>47.547412</td>\n",
       "      <td>7.589563</td>\n",
       "    </tr>\n",
       "    <tr>\n",
       "      <th>2</th>\n",
       "      <td>2021-05-01 06:34:30</td>\n",
       "      <td>ZUE</td>\n",
       "      <td>2.0</td>\n",
       "      <td>2021-05-01 07:28:00</td>\n",
       "      <td>BS</td>\n",
       "      <td>9.0</td>\n",
       "      <td>IC 3</td>\n",
       "      <td>2021-05-01</td>\n",
       "      <td>2021-05-01 06:34:30</td>\n",
       "      <td>0.0</td>\n",
       "      <td>5</td>\n",
       "      <td>17</td>\n",
       "      <td>5</td>\n",
       "      <td>47.378177</td>\n",
       "      <td>8.540212</td>\n",
       "      <td>47.547412</td>\n",
       "      <td>7.589563</td>\n",
       "    </tr>\n",
       "    <tr>\n",
       "      <th>3</th>\n",
       "      <td>2021-05-08 06:34:30</td>\n",
       "      <td>ZUE</td>\n",
       "      <td>1.0</td>\n",
       "      <td>2021-05-08 07:28:00</td>\n",
       "      <td>BS</td>\n",
       "      <td>9.0</td>\n",
       "      <td>IC 3</td>\n",
       "      <td>2021-05-08</td>\n",
       "      <td>2021-05-08 06:34:30</td>\n",
       "      <td>0.0</td>\n",
       "      <td>5</td>\n",
       "      <td>18</td>\n",
       "      <td>5</td>\n",
       "      <td>47.378177</td>\n",
       "      <td>8.540212</td>\n",
       "      <td>47.547412</td>\n",
       "      <td>7.589563</td>\n",
       "    </tr>\n",
       "    <tr>\n",
       "      <th>4</th>\n",
       "      <td>2021-05-30 06:34:30</td>\n",
       "      <td>ZUE</td>\n",
       "      <td>2.0</td>\n",
       "      <td>2021-05-30 07:28:00</td>\n",
       "      <td>BS</td>\n",
       "      <td>13.0</td>\n",
       "      <td>IC 3</td>\n",
       "      <td>2021-05-30</td>\n",
       "      <td>2021-05-30 06:34:30</td>\n",
       "      <td>0.0</td>\n",
       "      <td>6</td>\n",
       "      <td>21</td>\n",
       "      <td>5</td>\n",
       "      <td>47.378177</td>\n",
       "      <td>8.540212</td>\n",
       "      <td>47.547412</td>\n",
       "      <td>7.589563</td>\n",
       "    </tr>\n",
       "    <tr>\n",
       "      <th>...</th>\n",
       "      <td>...</td>\n",
       "      <td>...</td>\n",
       "      <td>...</td>\n",
       "      <td>...</td>\n",
       "      <td>...</td>\n",
       "      <td>...</td>\n",
       "      <td>...</td>\n",
       "      <td>...</td>\n",
       "      <td>...</td>\n",
       "      <td>...</td>\n",
       "      <td>...</td>\n",
       "      <td>...</td>\n",
       "      <td>...</td>\n",
       "      <td>...</td>\n",
       "      <td>...</td>\n",
       "      <td>...</td>\n",
       "      <td>...</td>\n",
       "    </tr>\n",
       "    <tr>\n",
       "      <th>115769</th>\n",
       "      <td>2021-06-11 05:30:30</td>\n",
       "      <td>TH</td>\n",
       "      <td>1.0</td>\n",
       "      <td>2021-06-11 05:40:30</td>\n",
       "      <td>MS</td>\n",
       "      <td>12.0</td>\n",
       "      <td>IC 6/61</td>\n",
       "      <td>2021-06-11</td>\n",
       "      <td>2021-06-11 05:30:30</td>\n",
       "      <td>0.0</td>\n",
       "      <td>4</td>\n",
       "      <td>23</td>\n",
       "      <td>6</td>\n",
       "      <td>46.754853</td>\n",
       "      <td>7.629606</td>\n",
       "      <td>46.873354</td>\n",
       "      <td>7.559442</td>\n",
       "    </tr>\n",
       "    <tr>\n",
       "      <th>115770</th>\n",
       "      <td>2021-08-20 05:55:48</td>\n",
       "      <td>VI</td>\n",
       "      <td>2.0</td>\n",
       "      <td>2021-08-20 06:11:42</td>\n",
       "      <td>FR</td>\n",
       "      <td>15.0</td>\n",
       "      <td>IC 8</td>\n",
       "      <td>2021-08-20</td>\n",
       "      <td>2021-08-20 05:55:48</td>\n",
       "      <td>0.0</td>\n",
       "      <td>4</td>\n",
       "      <td>33</td>\n",
       "      <td>8</td>\n",
       "      <td>46.294029</td>\n",
       "      <td>7.881465</td>\n",
       "      <td>46.588908</td>\n",
       "      <td>7.651418</td>\n",
       "    </tr>\n",
       "    <tr>\n",
       "      <th>115771</th>\n",
       "      <td>2021-08-21 05:55:48</td>\n",
       "      <td>VI</td>\n",
       "      <td>2.0</td>\n",
       "      <td>2021-08-21 06:14:12</td>\n",
       "      <td>FR</td>\n",
       "      <td>9.0</td>\n",
       "      <td>IC 8</td>\n",
       "      <td>2021-08-21</td>\n",
       "      <td>2021-08-21 05:55:48</td>\n",
       "      <td>0.0</td>\n",
       "      <td>5</td>\n",
       "      <td>33</td>\n",
       "      <td>8</td>\n",
       "      <td>46.294029</td>\n",
       "      <td>7.881465</td>\n",
       "      <td>46.588908</td>\n",
       "      <td>7.651418</td>\n",
       "    </tr>\n",
       "    <tr>\n",
       "      <th>115772</th>\n",
       "      <td>2021-09-03 05:55:48</td>\n",
       "      <td>VI</td>\n",
       "      <td>1.0</td>\n",
       "      <td>2021-09-03 06:11:42</td>\n",
       "      <td>FR</td>\n",
       "      <td>9.0</td>\n",
       "      <td>IC 8</td>\n",
       "      <td>2021-09-03</td>\n",
       "      <td>2021-09-03 05:55:48</td>\n",
       "      <td>0.0</td>\n",
       "      <td>4</td>\n",
       "      <td>35</td>\n",
       "      <td>9</td>\n",
       "      <td>46.294029</td>\n",
       "      <td>7.881465</td>\n",
       "      <td>46.588908</td>\n",
       "      <td>7.651418</td>\n",
       "    </tr>\n",
       "    <tr>\n",
       "      <th>115773</th>\n",
       "      <td>2021-10-08 05:55:48</td>\n",
       "      <td>VI</td>\n",
       "      <td>2.0</td>\n",
       "      <td>2021-10-08 06:11:42</td>\n",
       "      <td>FR</td>\n",
       "      <td>17.0</td>\n",
       "      <td>IC 8</td>\n",
       "      <td>2021-10-08</td>\n",
       "      <td>2021-10-08 05:55:48</td>\n",
       "      <td>0.0</td>\n",
       "      <td>4</td>\n",
       "      <td>40</td>\n",
       "      <td>10</td>\n",
       "      <td>46.294029</td>\n",
       "      <td>7.881465</td>\n",
       "      <td>46.588908</td>\n",
       "      <td>7.651418</td>\n",
       "    </tr>\n",
       "  </tbody>\n",
       "</table>\n",
       "<p>115774 rows × 17 columns</p>\n",
       "</div>"
      ],
      "text/plain": [
       "                     start start_loc  count                 end end_loc  \\\n",
       "0      2021-03-21 06:34:30       ZUE    1.0 2021-03-21 07:28:00      BS   \n",
       "1      2021-03-26 06:34:30       ZUE    1.0 2021-03-26 07:28:00      BS   \n",
       "2      2021-05-01 06:34:30       ZUE    2.0 2021-05-01 07:28:00      BS   \n",
       "3      2021-05-08 06:34:30       ZUE    1.0 2021-05-08 07:28:00      BS   \n",
       "4      2021-05-30 06:34:30       ZUE    2.0 2021-05-30 07:28:00      BS   \n",
       "...                    ...       ...    ...                 ...     ...   \n",
       "115769 2021-06-11 05:30:30        TH    1.0 2021-06-11 05:40:30      MS   \n",
       "115770 2021-08-20 05:55:48        VI    2.0 2021-08-20 06:11:42      FR   \n",
       "115771 2021-08-21 05:55:48        VI    2.0 2021-08-21 06:14:12      FR   \n",
       "115772 2021-09-03 05:55:48        VI    1.0 2021-09-03 06:11:42      FR   \n",
       "115773 2021-10-08 05:55:48        VI    2.0 2021-10-08 06:11:42      FR   \n",
       "\n",
       "        capacity     line travel_date       latest_res_dt  book_in_advance  \\\n",
       "0           15.0     IC 3  2021-03-21 2021-03-21 06:34:30              0.0   \n",
       "1            9.0     IC 3  2021-03-26 2021-03-26 06:34:30              0.0   \n",
       "2            9.0     IC 3  2021-05-01 2021-05-01 06:34:30              0.0   \n",
       "3            9.0     IC 3  2021-05-08 2021-05-08 06:34:30              0.0   \n",
       "4           13.0     IC 3  2021-05-30 2021-05-30 06:34:30              0.0   \n",
       "...          ...      ...         ...                 ...              ...   \n",
       "115769      12.0  IC 6/61  2021-06-11 2021-06-11 05:30:30              0.0   \n",
       "115770      15.0     IC 8  2021-08-20 2021-08-20 05:55:48              0.0   \n",
       "115771       9.0     IC 8  2021-08-21 2021-08-21 05:55:48              0.0   \n",
       "115772       9.0     IC 8  2021-09-03 2021-09-03 05:55:48              0.0   \n",
       "115773      17.0     IC 8  2021-10-08 2021-10-08 05:55:48              0.0   \n",
       "\n",
       "        day_of_week  week  month   lat_from  lon_from     lat_to    lon_to  \n",
       "0                 6    11      3  47.378177  8.540212  47.547412  7.589563  \n",
       "1                 4    12      3  47.378177  8.540212  47.547412  7.589563  \n",
       "2                 5    17      5  47.378177  8.540212  47.547412  7.589563  \n",
       "3                 5    18      5  47.378177  8.540212  47.547412  7.589563  \n",
       "4                 6    21      5  47.378177  8.540212  47.547412  7.589563  \n",
       "...             ...   ...    ...        ...       ...        ...       ...  \n",
       "115769            4    23      6  46.754853  7.629606  46.873354  7.559442  \n",
       "115770            4    33      8  46.294029  7.881465  46.588908  7.651418  \n",
       "115771            5    33      8  46.294029  7.881465  46.588908  7.651418  \n",
       "115772            4    35      9  46.294029  7.881465  46.588908  7.651418  \n",
       "115773            4    40     10  46.294029  7.881465  46.588908  7.651418  \n",
       "\n",
       "[115774 rows x 17 columns]"
      ]
     },
     "execution_count": 4,
     "metadata": {},
     "output_type": "execute_result"
    }
   ],
   "source": [
    "# full join for start train station \n",
    "df = pd.merge(df, train_stations, left_on='start_loc', right_on='abk_bahnhof')\n",
    "df = df.drop(columns=['abk_bahnhof', \"Name Haltestelle\"]).rename(columns={\"lat\": \"lat_from\", \"lon\": \"lon_from\"})\n",
    "\n",
    "# full join for destination\n",
    "df = pd.merge(df, train_stations, left_on='end_loc', right_on='abk_bahnhof')\n",
    "df = df.drop(columns=[\"abk_bahnhof\", \"Name Haltestelle\"]).rename(columns={\"lat\": \"lat_to\", \"lon\": \"lon_to\"})\n",
    "df"
   ]
  },
  {
   "cell_type": "code",
   "execution_count": 5,
   "metadata": {},
   "outputs": [
    {
     "data": {
      "text/plain": [
       "{'BNBS': 'Bern Bümpliz Süd',\n",
       " 'BLB': 'Blankenburg',\n",
       " 'BNWM': 'Bern Weyermannshaus',\n",
       " 'FBBF': 'Fraubrunnen, Bahnhof',\n",
       " 'ZWEI': 'Zweilütschinen',\n",
       " 'GLF': 'Gerlafingen',\n",
       " 'SOAD': 'Solothurn Allmend',\n",
       " 'MRT': 'Murten/Morat',\n",
       " 'LYSM': 'Lyss Murgeliweg',\n",
       " 'SCAU': 'Schadau',\n",
       " 'MUCO': 'Münchenwiler-Courgevaux',\n",
       " 'GMMV': 'Gümmenen Viadukt',\n",
       " 'MOUW': 'Moosseedorf Unterwerk',\n",
       " 'LGXB': 'Lugano, Autosilo Balestra',\n",
       " 'BNEG': 'Bern, Egghölzli',\n",
       " 'TEN': 'Tenero',\n",
       " 'BNWY': 'Bern Wylerpark',\n",
       " 'JKLM': 'Bern JKLM',\n",
       " 'SAAN': 'Saanen',\n",
       " 'LG': 'Lugano',\n",
       " 'BN': 'Bern',\n",
       " 'SCHB': 'Schönbühl SBB',\n",
       " 'BNAS': 'Bern Europaplatz',\n",
       " 'MEZ': 'Mezzovico',\n",
       " 'LGUS': 'Löchligut Süd (Abzw)',\n",
       " 'HABF': 'Hasle-Rüegsau, Bahnhof',\n",
       " 'ISLI': 'Isleten-Isenthal',\n",
       " 'BELD': 'Bellinzona Sud',\n",
       " 'RUBM': 'Rüegsbach, Britternmatte',\n",
       " 'BRZS': 'Brienz (See)',\n",
       " 'BIOP': 'Biel/Bienne, Orpundplatz',\n",
       " 'KIEZ': 'Kirchberg BE, Einkaufszentrum',\n",
       " 'KIBS': 'Kirchberg BE, Bütikofenstrasse',\n",
       " 'SOAS': 'Solothurn [Gleis 21]',\n",
       " 'BRZ': 'Brienz',\n",
       " 'HEWH': 'Heimisbach, Wagnershaus',\n",
       " 'VERI': 'La Verrerie',\n",
       " 'KZUW': 'Kerzers Unterwerk',\n",
       " 'BISW': 'Biel/Bienne Stellwerk',\n",
       " 'GIVD': 'Givisiez dépôt',\n",
       " 'RHRP': 'Röthenbach b. H., Rest. Post',\n",
       " 'DAE': 'Därligen',\n",
       " 'WYPO': 'Wyssachen, Dorf',\n",
       " 'TBTB': 'Trub, Twärenbrücke',\n",
       " 'AND': 'Andermatt',\n",
       " 'ERNA': 'Erstfeld Nord (Abzw)',\n",
       " 'HBTS': 'Hauenstein Süd (Spw)',\n",
       " 'BDBT': 'Burgdorf, Bleichimatt',\n",
       " 'PALG': 'Palagnedra',\n",
       " 'TACJ': 'Tavannes [voie étroite]',\n",
       " 'HBK': 'Hindelbank',\n",
       " 'GRIN': 'Grindelwald',\n",
       " 'ERST': 'Eriswil, Station',\n",
       " 'CO': 'Cortébert',\n",
       " 'SEVA': 'Sévaz (embr)',\n",
       " 'OHTS': 'Ob.Hauensteintunnel Portal Süd',\n",
       " 'SIBF': 'Signau, Bahnhof',\n",
       " 'LUEL': 'Lütschental',\n",
       " 'SKKM': 'Sisikon km',\n",
       " 'BIAV': 'Biasca Ovest',\n",
       " 'BRZD': 'Brienz Dorf',\n",
       " 'GOEB': 'Göschenen, Bahnhof',\n",
       " 'TBLS': 'Trub, Längengrund Säge',\n",
       " 'FRNO': 'Fribourg Nord',\n",
       " 'RO': 'Rodi-Fiesso',\n",
       " 'MUNC': 'Münchringen',\n",
       " 'FINS': 'Finsterhennen',\n",
       " 'MOGS': 'Molincero Galleria Sud',\n",
       " 'MATE': 'Matten i.S.',\n",
       " 'ASOS': 'Aareschlucht, Ost',\n",
       " 'HAEO': 'Hägendorf Oberbau',\n",
       " 'TBUF': 'Trub, Unterfeld',\n",
       " 'LNKH': 'Langnau i.E., Kreuzstrasse',\n",
       " 'LNFR': 'Langnau i.E., Fansrütistrasse',\n",
       " 'FLUW': 'Flüelen Unterwerk',\n",
       " 'BDGN': 'Burgdorf, Gyrischachen',\n",
       " 'BDBL': 'Burgdorf, Blattnerweg',\n",
       " 'IOE': 'Interlaken Brünig (Gleisende)',\n",
       " 'GRY': 'Gruyères',\n",
       " 'SOVS': 'Solothurn, Vorstadt',\n",
       " 'ERSH': 'Eriswil, Schulhaus',\n",
       " 'TSOB': 'Trubschachen, Oelibrücke',\n",
       " 'CRCV': 'Crémines, centre du village',\n",
       " 'BIRT': 'Birchiwaldtunnel',\n",
       " 'LES': 'Lessoc',\n",
       " 'SPBB': 'Schüpbach, Bruuchbüel',\n",
       " 'GOGB': 'Gohl, Grindlenbach',\n",
       " 'GOAE': 'Gohl, Aeugsteren',\n",
       " 'WRLI': 'Wangenried, Linde',\n",
       " 'LOLU': 'Lohn-Lüterkofen',\n",
       " 'DKO': 'Däniken Ost',\n",
       " 'RIHO': 'Riedholz',\n",
       " 'LUGO': 'Lützelflüh-Goldbach',\n",
       " 'BIW': 'Biel/Bienne West',\n",
       " 'POLS': 'Pollegio binario di sorpasso',\n",
       " 'MBRU': 'Meinisberg, Rütti',\n",
       " 'PISI': 'Pieterlen, Schlössli',\n",
       " 'FHSH': 'Fankhaus (Trub), Schnidershus',\n",
       " 'SPEB': 'Schüpbach, Emmenbrücke',\n",
       " 'GOGM': 'Gohl, Gmünden',\n",
       " 'BVIS': 'Bellavista',\n",
       " 'AEF': 'Aefligen',\n",
       " 'LTHT': 'Langenthaltunnel NBS',\n",
       " 'EIGL': 'Eigergletscher',\n",
       " 'WUE': 'Wünnewil',\n",
       " 'OM': 'Obermatt',\n",
       " 'LHE': 'La Heutte',\n",
       " 'GIUO': 'Giubiasco Ovest',\n",
       " 'GBA': 'Griesbach',\n",
       " 'CDST': 'Cadenazzo, Stazione',\n",
       " 'HERG': 'Heimenhausen, Riedgasse',\n",
       " 'LYBS': 'Lyssach, Bernstrasse (Ikea)',\n",
       " 'SKBF': 'Sisikon, Bahnhof',\n",
       " 'HA': 'Hasle-Rüegsau',\n",
       " 'FIL': 'Fillistorf',\n",
       " 'BOEN': 'Bönigen',\n",
       " 'ERBF': 'Erstfeld, Bahnhof',\n",
       " 'LNSW': 'Langnau i.E., Sonnweg',\n",
       " 'EGHO': 'Eggiwil, Holzmatt',\n",
       " 'WAPO': 'Walliswil b. Wangen, Post',\n",
       " 'LTHW': 'Langenthal West (Abzw)',\n",
       " 'ZIE': 'St. Urban Ziegelei',\n",
       " 'SURB': 'St. Urban',\n",
       " 'CHRM': 'Wünnewil Chrummatt',\n",
       " 'PREL': 'Prêles',\n",
       " 'SCHG': 'Schlossberg (Signau)',\n",
       " 'LOTZ': 'Lotzwil',\n",
       " 'SOAZ': 'Solothurn, Amthausplatz',\n",
       " 'OBBS': 'Oberburg, Bärenstrasse',\n",
       " 'FRZR': 'Frutigen, Zrydsbrügg',\n",
       " 'ROME': 'Romont Est (racc)',\n",
       " 'SADI': 'Sarè (dira)',\n",
       " 'CAMT': 'Camedo transito',\n",
       " 'RTW': 'Riedtwil',\n",
       " 'WEFR': 'Wengi b. Frutigen, Dorf',\n",
       " 'KDI': 'Kleindietwil',\n",
       " 'LNFH': 'Langnau i.E., Friedhof',\n",
       " 'OZKR': 'Oberönz, Kreuz',\n",
       " 'RHPO': 'Röthenbach b. H., Post',\n",
       " 'LYKS': 'Lyssach, Kernenriedstrasse',\n",
       " 'SNAG': 'Scharnageln',\n",
       " 'BIG': 'Biglen',\n",
       " 'VAUL': 'Vaulruz-Nord',\n",
       " 'STAT': 'Stutzeck-Axenbergtunnel',\n",
       " 'GRRI': 'Grafenried',\n",
       " 'LAED': 'Lädeli',\n",
       " 'KIWH': 'Kirchberg BE, Wydenhof',\n",
       " 'BDSM': 'Burgdorf, Schlossmatt',\n",
       " 'OEN': 'Oensingen',\n",
       " 'DUED': 'Düdingen',\n",
       " 'CHAV': 'Chavannes',\n",
       " 'RZO': 'Ranzo-S. Abbondio',\n",
       " 'MAG': 'Magadino-Vira',\n",
       " 'CHSM': 'Chiasso Smistamento',\n",
       " 'LTNH': 'Langenthal, Neuhof',\n",
       " 'SEBP': 'Seeberg BE, Stalderhof',\n",
       " 'LNHU': 'Langnau i.E., Hübeli',\n",
       " 'ZOZE': 'Zollbrück, Zentrum',\n",
       " 'ZOFS': 'Zollbrück, Frittenbachstrasse',\n",
       " 'CD': 'Cadenazzo',\n",
       " 'KABF': 'Kandersteg, Bahnhof',\n",
       " 'STPN': 'St. Petersinsel Nord',\n",
       " 'MIBA': 'Mitholz, Balmhorn',\n",
       " 'MAOG': 'Galleria Maroggia',\n",
       " 'BIBU': 'Biel/Bienne, Bubenbergstrasse',\n",
       " 'HWFR': 'Huttwil, Friedhof',\n",
       " 'LENSS': 'Lengnau Schutzstrecke',\n",
       " 'LTBL': 'Langenthal, Bleichestrasse',\n",
       " 'LTID': 'Langenthal, Industrie Nord',\n",
       " 'LTGA': 'Langenthal, Gaswerkstrasse',\n",
       " 'OHDB': 'Oberhard BE',\n",
       " 'TAVS': 'Taverne-Torricella Sud (bif)',\n",
       " 'LTRM': 'Langenthal, Rumimatte',\n",
       " 'LTEW': 'Langenthal, Elzweg',\n",
       " 'LAVSS': 'Lavorgo Schutzstrecke',\n",
       " 'UHDB': 'Unterhard BE',\n",
       " 'KIER': 'Kirchberg BE, Elsässer',\n",
       " 'WENE': 'Wengi-Ey (Abzw)',\n",
       " 'CAME': 'Camedo',\n",
       " 'BDKO': 'Burgdorf, Kornhaus',\n",
       " 'LTHA': 'Langenthal [Gleis 4-5]',\n",
       " 'HELO': 'Heimiswil, Löwen',\n",
       " 'HSDO': 'Hasle b.B., Dorf',\n",
       " 'BDZI': 'Burgdorf, Ziegelei',\n",
       " 'BDPO': 'Burgdorf, Parkhaus Oberstadt',\n",
       " 'PTIO': 'Ponte Ticino Ovest (c bin)',\n",
       " 'BOLI': 'Bolligen',\n",
       " 'SOLD': 'Solduno',\n",
       " 'BTH': 'Balsthal',\n",
       " 'RUB': 'Rubigen',\n",
       " 'KF': 'Konolfingen',\n",
       " 'SCSC': 'Pian Scairolo Sottocentrale',\n",
       " 'PIBF': 'Pieterlen, Bahnhof',\n",
       " 'SIFO': 'Sigirino finestra ouvest',\n",
       " 'BDFW': 'Burgdorf West (Abzw)',\n",
       " 'SIGN': 'Signau',\n",
       " 'SF': 'Seftigen',\n",
       " 'BWA': 'Burgistein',\n",
       " 'VG': 'Villars-sur-Glâne',\n",
       " 'LTHI': 'Langenthal Industriegleis',\n",
       " 'GIUE': 'Giubiasco Est (c bin)',\n",
       " 'LTHS': 'Langenthal Süd',\n",
       " 'LTTK': 'Langenthal, Tell/Kantonalbank',\n",
       " 'HWSZ': 'Huttwil Sportzentrum',\n",
       " 'INDO': 'Inkwil, Dorf',\n",
       " 'NZHI': 'Niederönz, Schürchhaus',\n",
       " 'HWBF': 'Huttwil, Bahnhof',\n",
       " 'NS': 'Niederscherli',\n",
       " 'SCBG': 'Schwarzenburg',\n",
       " 'AEOS': 'Aeschi SO, Ost',\n",
       " 'BINA': 'Biel/Bienne, Nidaugasse',\n",
       " 'TA': 'Tavannes',\n",
       " 'WYGR': 'Wynigen, Grüttermatt',\n",
       " 'MADI': 'Madiswil',\n",
       " 'SWG': 'Sumiswald-Grünen',\n",
       " 'GUBU': 'Gutenburg',\n",
       " 'AEDO': 'Aeschi SO, Dorf',\n",
       " 'THO': 'Thörishaus Station',\n",
       " 'GH': 'Grosshöchstetten',\n",
       " 'SAGG': 'Safnern, Gürweg',\n",
       " 'GRO': 'Grolley',\n",
       " 'DOM': 'Domdidier',\n",
       " 'MEUF': 'Melchnau, Unterdorf',\n",
       " 'RUDS': 'Rudswil',\n",
       " 'ERUD': 'Ersigen, Unterdorf',\n",
       " 'ERPO': 'Ersigen, Gemeindehaus',\n",
       " 'LOUD': 'Lotzwil, Unterdorf',\n",
       " 'KALB': 'Kaltacker, Leumberg',\n",
       " 'HEKI': 'Heimiswil, Kipf',\n",
       " 'BIA': 'Biasca',\n",
       " 'BIBT': 'Biel/Bienne [Gleis 11/voie 11]',\n",
       " 'BRUE': 'Brünig-Hasliberg',\n",
       " 'BRG': 'Bargen BE',\n",
       " 'SOUW': 'Solothurn, Ulmenweg',\n",
       " 'BUWY': 'Bützberg, Wyssenried',\n",
       " 'MEFA': 'Melchnau, Fabrik',\n",
       " 'GLNC': 'Rue-Gillarens',\n",
       " 'ZGRD': 'Zauggenried',\n",
       " 'LAEN': 'Oberhofen a. T., Längenschach.',\n",
       " 'OHDS': 'Oberhofen am Thunersee',\n",
       " 'ZAE': 'Zäziwil',\n",
       " 'ADE': 'Adelboden, Post',\n",
       " 'FRTF': 'Frutigen, Tellenfeld',\n",
       " 'STOI': 'Stöckli',\n",
       " 'SUSZ': 'Subingen, Schulzentrum',\n",
       " 'NB': 'Niederbipp',\n",
       " 'HUEN': 'Hüniken',\n",
       " 'DERP': 'Derendingen, Ritterplatz',\n",
       " 'AARW': 'Aarwangen',\n",
       " 'FADO': 'Faulensee, Dorf',\n",
       " 'GWPO': 'Grasswil, Post',\n",
       " 'BITL': 'Biel/Bienne, Taubenloch',\n",
       " 'ETDO': 'Etziken, Dorf',\n",
       " 'KGBI': 'Kandergrund, Bifige',\n",
       " 'THOB': 'Thörishaus Brücke',\n",
       " 'STU': 'Studen BE',\n",
       " 'LENK': 'Lenk im Simmental',\n",
       " 'ZOO': 'Crémines-Zoo',\n",
       " 'CREM': 'Crémines',\n",
       " 'BROV': 'Broc-Village',\n",
       " 'OD': 'Oberdiessbach',\n",
       " 'SIV': 'Siviriez',\n",
       " 'BUSB': 'Busswil BE, Bahnhof',\n",
       " 'MUEB': 'Münchenbuchsee',\n",
       " 'DON': 'Dotzigen',\n",
       " 'LYN': 'Lyss Nord',\n",
       " 'KIRG': 'Kirchberg BE, Rosenweg',\n",
       " 'KZ': 'Kerzers',\n",
       " 'CRFR': 'Cressier FR',\n",
       " 'GHZ': 'Grauholztunnel',\n",
       " 'BNAE': 'Bern Depot Aebimatte',\n",
       " 'LNGP': 'Langnau i.E., Gerbeplatz',\n",
       " 'BUBA': 'Büren an der Aare, Bahnhof',\n",
       " 'BNO': 'Bern Ost (Spw)',\n",
       " 'RCH': 'Riedbach',\n",
       " 'STUA': 'Studen Auto',\n",
       " 'ROM': 'Romont FR',\n",
       " 'LATS': 'Längenschachen (See)',\n",
       " 'THAB': 'Thun (Abzw)',\n",
       " 'ZWGE': 'Zweisimmen Gleisende',\n",
       " 'EGLI': 'Eggli',\n",
       " 'WANS': 'Wanzwil Süd (Abzw)',\n",
       " 'WAO': 'Wanzwil Ost (Abzw)',\n",
       " 'WAPT': 'Wattwil, Post',\n",
       " 'SGBP': 'St. Gallen, Boppartshof',\n",
       " 'KURZ': 'Kurzrickenbach Seepark',\n",
       " 'SA': 'Sargans',\n",
       " 'SGKG': 'St. Gallen, Kirche St. Georgen',\n",
       " 'CLSS': 'Colombier sous-station',\n",
       " 'LTO': 'Lausanne-Triage Ouest',\n",
       " 'CHVI': 'Chavornay-Industrie',\n",
       " 'ROCS': 'Roche VD sous-station',\n",
       " 'ZUEH': 'Zürich, Hegibachplatz',\n",
       " 'ZUEB': 'Zürich, Balgrist',\n",
       " 'CHCH': 'Château-de-Chillon (lac)',\n",
       " 'NYCG': 'Nyon (lac)',\n",
       " 'STVI': 'St-Triphon-Village',\n",
       " 'GIBU': 'Gilly-Bursinel',\n",
       " 'HUEW': 'Hüntwangen-Wil',\n",
       " 'VTZ': 'Vitznau',\n",
       " 'RODN': 'Rochers-de-Naye',\n",
       " 'TOV': 'Toveyre',\n",
       " 'SIR': 'Sirnach',\n",
       " 'LSA': 'La Sarraz',\n",
       " 'TREL': 'Trélex',\n",
       " 'STCE': 'St-Cergue',\n",
       " 'PLAN': 'Les Plantaz',\n",
       " 'REIT': 'Reichenau-Tamins',\n",
       " 'WTOE': 'Winterthur Töss',\n",
       " 'KRA': 'Kradolf',\n",
       " 'RMZ': 'Rämismühle-Zell',\n",
       " 'ECL': 'Eclépens',\n",
       " 'HD': 'Hallwil',\n",
       " 'BGVL': 'Brugg AG VL',\n",
       " 'CHAJ': 'Chardonne-Jongny',\n",
       " 'TECG': 'Territet (lac)',\n",
       " 'ROCG': 'Rolle (lac)',\n",
       " 'BEMG': 'Betten Talstation',\n",
       " 'CFO': 'La Chaux-de-Fonds Les Forges',\n",
       " 'BLHW': 'Bütschwil, Hofwiesen',\n",
       " 'LGSL': 'Lichtensteig, St. Loreto',\n",
       " 'RONW': 'Roggliswil, Niederwil',\n",
       " 'YND': 'Yvonand',\n",
       " 'DE': 'Domat/Ems',\n",
       " 'DAM': 'Davos Monstein',\n",
       " 'WEIA': 'Winterthur Eichliacker (Vzw)',\n",
       " 'HDKN': 'Hendschiken Nord (Abzw)',\n",
       " 'SURS': 'St. Urban, Sonnhalden',\n",
       " 'SGSL': 'St. Gallen, St.Leonhard',\n",
       " 'SBSW': 'Strengelbach, Schürliweg',\n",
       " 'GRVT': 'Tunnel de Grandvaux',\n",
       " 'BRGG': 'Brunegg',\n",
       " 'RENO': 'Renens VD Ouest (bif)',\n",
       " 'GLCO': 'Glion-Collège',\n",
       " 'GROB': 'Grengiols, Oberdeisch',\n",
       " 'MELN': 'Mellikon',\n",
       " 'FCKH': 'Frick Hübeli',\n",
       " 'ECTS': 'Les Echets',\n",
       " 'LEI': 'Leibstadt',\n",
       " 'ZVBO': 'Zürich Vorbahnhof Ost',\n",
       " 'SILS': 'Sils im Domleschg (Abzw)',\n",
       " 'ROBO': 'Rotenboden',\n",
       " 'VUAP': 'La Vuarpillière',\n",
       " 'SAOS': 'Sargans Ost',\n",
       " 'UWWI': 'Unterwasser, Wäldli',\n",
       " 'SCRN': 'Scheuren',\n",
       " 'AU': 'Au ZH',\n",
       " 'ZWIP': 'Zürich Wipkingen',\n",
       " 'ZGV': 'Zürich HB Cargo GV',\n",
       " 'TOEM': 'Tössmühle',\n",
       " 'ARN': 'Arnegg',\n",
       " 'BAE': 'Bäch SZ',\n",
       " 'MSET': 'Tunnel Bahnhof Museumstrasse',\n",
       " 'LIEB': 'Liebegg',\n",
       " 'HGTN': 'Hirschengrabentunnel II',\n",
       " 'BGH': 'Burghalden',\n",
       " 'ULKI': 'Ulrichen, Kirche',\n",
       " 'ETKA': 'Ebnat, Kappel',\n",
       " 'ETGB': 'Ebnat, Gieselbach',\n",
       " 'ECLT': \"Tunnel d'Eclépens (Mormont)\",\n",
       " 'SLN': 'Sisseln',\n",
       " 'WGAT': 'Windgällentunnel',\n",
       " 'MGPG': 'Galleria Precassino-Meggiagra',\n",
       " 'MGTS': 'Mittalgrabentunnel Süd',\n",
       " 'HEIM': 'Heimbach (Spw)',\n",
       " 'AVRC': 'Avry',\n",
       " 'ESW': 'Einspurtunnel Wöschnau',\n",
       " 'STSA': 'St-Saphorin',\n",
       " 'PFAD': 'Pfaffnau, Dorfplatz',\n",
       " 'LVE': 'Le Verney (embr)',\n",
       " 'EWUW': 'Etzwilen Unterwerk',\n",
       " 'WIKA': 'Wikon, Hotel Adelboden',\n",
       " 'ROPO': 'Roggliswil, Post',\n",
       " 'CR': 'Croy-Romainmôtier',\n",
       " 'LON': 'Lonay-Préverenges',\n",
       " 'SCLC': 'St-Cergue Les Cheseaux',\n",
       " 'GIVI': 'Givrins',\n",
       " 'CRTT': 'Tunnel des Crêtes',\n",
       " 'VISB': 'Visp, Schwimmbad',\n",
       " 'TRUN': 'Trun',\n",
       " 'DENA': 'Denges A (bif)',\n",
       " 'ARCA': 'Archy A (bif)',\n",
       " 'DAYO': 'Le Day Ouest',\n",
       " 'DTF': 'Dietfurt',\n",
       " 'BEDI': 'Bernina Diavolezza',\n",
       " 'SL': 'St-Léonard',\n",
       " 'TCOE': 'Tunnel des Combes Est',\n",
       " 'BALL': 'Ballens',\n",
       " 'ONBP': 'Onnens-Bonvillars PMP',\n",
       " 'AISN': 'Airolo Schaltposten',\n",
       " 'WAKW': 'Wassen Kraftwerk',\n",
       " 'FASS': 'Faido Sottocentrale',\n",
       " 'BDON': 'Lausanne, Bourdonnette',\n",
       " 'KALP': 'Kalpetran',\n",
       " 'DIAB': 'Les Diablerets',\n",
       " 'LAFA': 'La Faverge',\n",
       " 'ASKO': 'Amsteg Kabelstollen Ost',\n",
       " 'MSPI': 'Münsterlingen Spital',\n",
       " 'NGKF': 'Niedergesteln, Kiesfang',\n",
       " 'LUISS': 'Luins Section de protection',\n",
       " 'BEAC': 'Beauregard',\n",
       " 'WM': 'Wimmis',\n",
       " 'NAEO': 'Nätschen Ost',\n",
       " 'DKDF': 'Däniken (Df)',\n",
       " 'SIGG': 'Siggere',\n",
       " 'CHIC': 'Chiasso Confine',\n",
       " 'SED': 'Sedrun',\n",
       " 'VVPL': 'Vevey (funi)',\n",
       " 'PTM': 'Punt Muragl',\n",
       " 'RU': 'Rupperswil',\n",
       " 'EG': 'Egerkingen',\n",
       " 'ISEL': 'Iseltwald (See)',\n",
       " 'BRLA': 'Breitlauenen',\n",
       " 'PLP': 'Planalp',\n",
       " 'OLBW': 'Olten Borntunnel West',\n",
       " 'GBGW': 'Gotthardbasistunnel West',\n",
       " 'FROS': 'Friedental Ostportal',\n",
       " 'DIPE': 'Dieni, Pendicularas',\n",
       " 'CELS': 'Celerina Staz',\n",
       " 'NGWM': 'Niedergesteln, Wannumoos',\n",
       " 'VT': 'Villeret',\n",
       " 'EBLI': 'Ebligen',\n",
       " 'BRZW': 'Brienz West',\n",
       " 'ETZ': 'Etziken',\n",
       " 'BUSN': 'Busswil Nord',\n",
       " 'HBGO': 'Herzogenbuchsee Gishübeltu Ost',\n",
       " 'BGLP': 'Bürglen UR, Dorf',\n",
       " 'PUN': 'Pully-Nord',\n",
       " 'TSTW': 'Thunstetten West',\n",
       " 'FUSP': 'Fürten (Spw)',\n",
       " 'SCOO': 'Schönenwerd SO Ost (Spw)',\n",
       " 'FMUE': 'Fluhmühle (Abzw)',\n",
       " 'BEAI': 'Bel-Air LEB',\n",
       " 'FFWE': 'Frauenfeld West',\n",
       " 'DISL': 'Disla Fehlerprofil',\n",
       " 'OE': 'Oey-Diemtigen',\n",
       " 'OBB': 'Oberburg',\n",
       " 'WBOL': 'Wangen bei Olten',\n",
       " 'DK': 'Däniken SO',\n",
       " 'TSCH': 'Trubschachen',\n",
       " 'TOUV': 'La Tour-de-Trême',\n",
       " 'LSO': 'Lausanne-Ouchy (lac)',\n",
       " 'MSCH': 'Münsterlingen-Scherzingen',\n",
       " 'RCY': 'Le Rocheray',\n",
       " 'TOL': 'Tolochenaz',\n",
       " 'BEMM': 'Belmont-sur-Montreux',\n",
       " 'ENN': 'Enney',\n",
       " 'FRUW': 'Frutigen Unterwerk',\n",
       " 'LSCG': \"Lausanne (Centre d'expl)\",\n",
       " 'TUIE': 'Tuilerie',\n",
       " 'COSS01': 'Cossonay-Ville',\n",
       " 'FOU': 'Founex',\n",
       " 'EX': 'Exergillod',\n",
       " 'BOT': 'Bottighofen',\n",
       " 'LAPU': 'La Punt Chamues-ch',\n",
       " 'STGE': 'St. German (Abzw)',\n",
       " 'VILN': 'Villnachern Neumühli',\n",
       " 'RUAZ': 'La Ruaz',\n",
       " 'CHDF': 'Chiasso Smistamento (Df)',\n",
       " 'GRV': 'Grandvaux',\n",
       " 'SEIN': 'Seon Industrieanlagen',\n",
       " 'ORIN': 'Orbe-Industrie (marchandises)',\n",
       " 'DER': 'Derendingen',\n",
       " 'MHZB': 'BZ Mitholz Ost (LBT)',\n",
       " 'SZEG': 'Salzegg',\n",
       " 'GOTS': 'Gottardo Sud (c bin)',\n",
       " 'DOUY': 'La Douay',\n",
       " 'LNTO': 'Neustadttunnel Ost (Vzw)',\n",
       " 'CAMS': 'Camorino Sud',\n",
       " 'POZZ': 'Pozzo Negro (dira)',\n",
       " 'MITH': 'Mitholz (Spw)',\n",
       " 'RECH': 'Recherswil (NBS)',\n",
       " 'MTRC': 'Matran PP',\n",
       " 'LSCH': 'Lausanne-Chauderon',\n",
       " 'VERX': 'Vernex (diag)',\n",
       " 'PT': 'Le Pont',\n",
       " 'UNDO': 'Chavannes-R., UNIL-Chamberonne',\n",
       " 'BGW': 'Bremgarten West',\n",
       " 'IL': 'Illnau',\n",
       " 'FIBF': 'Fiesch, Bahnhof',\n",
       " 'SGMW': 'St. Gallen, Moosweiher',\n",
       " 'MOWG': 'Mörel Wassererfassung',\n",
       " 'PALP': 'Palézieux Pont',\n",
       " 'FERD': 'Ferden (Spw)',\n",
       " 'CLIE': 'Clies',\n",
       " 'CFG': 'La Chaux-de-Fonds-Grenier',\n",
       " 'SGFB': 'St. Gallen, Fürstenlandbrücke',\n",
       " 'SS': 'Sursee',\n",
       " 'EGL': 'Eglisau',\n",
       " 'SLG': 'Sulgen',\n",
       " 'BOSS': 'Bossière',\n",
       " 'VEY': 'Veytaux-Chillon',\n",
       " 'NEBN': 'Nebikon Nord (Abzw)',\n",
       " 'LSBL': 'Lausanne Bellerive',\n",
       " 'VESA': 'Versam-Safien',\n",
       " 'TABR': 'Tavanasa-Breil/Brigels',\n",
       " 'FF': 'Frauenfeld',\n",
       " 'LZBR': 'Luzern Brünig',\n",
       " 'BUVC': 'Bugnei, via Alpsu',\n",
       " 'GABU': 'Gampel, Burketen',\n",
       " 'URD': 'Urdorf',\n",
       " 'KOL': 'Kollbrunn',\n",
       " 'WSEE': 'Winterthur Seen',\n",
       " 'WEBM': 'Weberei Matzingen',\n",
       " 'CHAN': 'Chantemerle-près-Blonay',\n",
       " 'ACKS': 'Ackersand Süd',\n",
       " 'SURO': 'Surovas',\n",
       " 'ST': 'St-Triphon',\n",
       " 'GTSX': 'Gütsch',\n",
       " 'REBR': 'Reiden Nord',\n",
       " 'LZTB': 'Luzern Tiefbahnhof',\n",
       " 'PALB': 'Palézieux Est (bif)',\n",
       " 'ALPN': 'Alp Nouva',\n",
       " 'MONB': 'Montebello Barriere',\n",
       " 'BGWE': 'Brugg AG West',\n",
       " 'BURA': 'Buchs SG, Rathaus',\n",
       " 'VILZ': 'Visp Lonza',\n",
       " 'SCEN': 'Schwiedernen',\n",
       " 'REV': 'Reverolle',\n",
       " 'DAG': 'Dagmersellen',\n",
       " 'LSLE': 'Lausanne-Flon LEB',\n",
       " 'BOWS': 'Boniswil Süd',\n",
       " 'SEG': 'Segnas',\n",
       " 'CHXX': 'Chur, Postautostation',\n",
       " 'CHBA': 'Chur, Bahnhofplatz',\n",
       " 'WLBF': 'Wattwil, Bahnhof',\n",
       " 'JTAL': 'Jakobstal',\n",
       " 'DFFQ': 'Dietfurt, Feldeck',\n",
       " 'MOLY': 'Lausanne, Montelly',\n",
       " 'SLSS': 'St-Léonard sous-station',\n",
       " 'STAW': 'Stalden West',\n",
       " 'SLSP': 'St-Léonard Section Protection',\n",
       " 'MOEL': 'Mörel',\n",
       " 'BITS': 'Bitsch',\n",
       " 'RARO': 'Raron Betriebszentrale Ost',\n",
       " 'DTGB': 'Dietikon Güterbahnhof',\n",
       " 'SGPG': 'St. Gallen, Post St. Georgen',\n",
       " 'ASJH': 'Alt St. Johann, Horb',\n",
       " 'SETS': 'Sedrun Entlüftungsstollen',\n",
       " 'LT': 'Lausanne-Triage',\n",
       " 'LSAL': 'Les Salines',\n",
       " 'WSHE': 'Wallisellen Herti (Vzw)',\n",
       " 'BRTW': 'Brüttenertunnel Ber. Winterthu',\n",
       " 'SARO': 'Sargans, Rose',\n",
       " 'SAGU': 'Sargans, Gutshof',\n",
       " 'OFPC': 'Oftringen, Perry-Center',\n",
       " 'ARRE': 'Arnegg, Restaurant Ilge',\n",
       " 'STG': 'Steg',\n",
       " 'GIB': 'Gibswil',\n",
       " 'ALHI': 'Altbüron, Hiltbrunnen',\n",
       " 'DTLN': 'Dietlikon Nord (Vzw)',\n",
       " 'RDSO': 'Reiden, Sonne',\n",
       " 'SSMN': 'Sedrun SMF Nord',\n",
       " 'CRS': 'Crans-s.-S., Grand-Place',\n",
       " 'EFG': 'Effingen',\n",
       " 'ET': 'Ettingen, Bahnhof',\n",
       " 'BLG': 'Baldegg',\n",
       " 'STOG': 'Stockgraben (Spw)',\n",
       " 'BRIO': 'Brusio',\n",
       " 'HGO': 'Horgen Oberdorf',\n",
       " 'ILZ': 'Ilanz',\n",
       " 'RECE': \"Renens Centre d'Exploitation\",\n",
       " 'VIMG': 'Visp MGB-bvz',\n",
       " 'LZSH': 'Luzern Steghof (Abzw)',\n",
       " 'OWT': 'Oberwinterthur',\n",
       " 'CELE': 'Celerina',\n",
       " 'AFCS': 'Acla da Fontauna, center sport',\n",
       " 'LSPD': 'Lausanne Poste directeur',\n",
       " 'CHBL': 'Château-de-Blonay',\n",
       " 'BECA': 'Bernina Cambrena Blinklicht',\n",
       " 'FILE': 'Filet',\n",
       " 'COUP': 'Courroux, Birse',\n",
       " 'GRES': 'Grésaley',\n",
       " 'NE': 'Neuchâtel',\n",
       " 'TRIB': 'Triboltingen',\n",
       " 'RBLL': 'RBL L-Gruppe',\n",
       " 'DOPP': 'Doppleschwand-Romoos',\n",
       " 'DT': 'Dietikon',\n",
       " 'TEBF': 'Teufen AR, Bahnhof',\n",
       " 'PUIP': 'Puidoux Pont',\n",
       " 'PUIS': 'Puidoux-Chexbres sous-station',\n",
       " 'CHGN': 'Chigny',\n",
       " 'VIL': 'Villeneuve VD',\n",
       " 'SNGH': 'Stein SG, Dorf',\n",
       " 'VUAR': 'Vuarennes',\n",
       " 'STUW': 'Stein-Säckingen Unterwerk',\n",
       " 'GRSA': 'Grossdietwil, Sandgruebe',\n",
       " 'LTP': 'Lausanne-Triage P1',\n",
       " 'NYD': 'Nyon Dépôt',\n",
       " 'SHAU': 'Siegershausen',\n",
       " 'ZWIE': 'Zürich Wiedikon',\n",
       " 'ZOER': 'Zürich Oerlikon',\n",
       " 'GLZB': 'Glanzenberg',\n",
       " 'UST': 'Uster',\n",
       " 'HURU': 'Hürlistein Unterwerk',\n",
       " 'TRLI': 'Zürich Triemli',\n",
       " 'ESSL': 'Esslingen',\n",
       " 'ZUM': 'Zumikon',\n",
       " 'BRO': 'Bronschhofen',\n",
       " 'WWUE': 'Winterthur Wülflingen',\n",
       " 'EMB': 'Embrach-Rorbas',\n",
       " 'ZTB': 'Zürich Tiefenbrunnen',\n",
       " 'SENK': 'Sennwald, Kirche',\n",
       " 'SAT': 'Sattel-Aegeri',\n",
       " 'GESO': 'Genève-Souterraine',\n",
       " 'TOES': 'Tössmühle Süd (Vzw)',\n",
       " 'AJPO': 'Alt St. Johann, Dorf',\n",
       " 'RUFU': 'Rupperswil Frequenzumformerwer',\n",
       " 'DTFS': 'Dietfurt Süd',\n",
       " 'DTSS': 'Dietikon Schöneggstrasse',\n",
       " 'RTRW': 'Rothrist West (Abzw)',\n",
       " 'KER': 'Kerns-Kägiswil',\n",
       " 'ZASO': 'Zürich Altstetten Ost (Abzw)',\n",
       " 'SANO': 'Sargans Nord',\n",
       " 'HAEW': 'Häggenschwil-Winden',\n",
       " 'BROA': 'Bronschhofen AMP',\n",
       " 'FET': 'Fehraltorf',\n",
       " 'SGFN': 'St. Gallen St. Fiden Nord',\n",
       " 'ABOS': 'Aarburg-Oftringen Süd (Abzw)',\n",
       " 'RTWE': 'Rothrist, Weier',\n",
       " 'LQUW': 'Landquart Unterwerk',\n",
       " 'NIDS': 'Nidelbad Süd (Abzw)',\n",
       " 'HAF': 'Hafen Bäch (Spw)',\n",
       " 'ZIZ': 'Zizers',\n",
       " 'WARI': 'Wattwil, Rietwis',\n",
       " 'RITH': 'St. Gallen Riethüsli',\n",
       " 'BOSN': 'Bonstetten Nord (Abzw)',\n",
       " 'LQRI': 'Landquart Ried',\n",
       " 'LSN': 'Lausen',\n",
       " 'MORO': 'Mörschwil Ost',\n",
       " 'AGIP': 'Monthey Agip (embr)',\n",
       " 'TCHA': 'Tunnel de Champel',\n",
       " 'TD': 'Tann-Dürnten',\n",
       " 'DSTO': 'Dietikon Stoffelbach',\n",
       " 'MOE': 'Möhlin',\n",
       " 'STMR': 'Steinmaur',\n",
       " 'CHUS': 'Le Châtelard VS usine',\n",
       " 'SBGU': 'Sihlbrugg Unterwerk',\n",
       " 'OWTU': 'Oberwinterthur Unterhaltanlage',\n",
       " 'RTGE': 'Rothrist, Gemeindehaus',\n",
       " 'OFKH': 'Oftringen,Kallernhag/Center A1',\n",
       " 'BUGI': 'Grabs, Industrie',\n",
       " 'ZMUE': 'Zürich Mülligen',\n",
       " 'FETI': 'Fehraltorf Industrie',\n",
       " 'ETGH': 'Ebnat, Gemeindehaus',\n",
       " 'DI': 'Dielsdorf',\n",
       " 'BUD': 'Buchs-Dällikon',\n",
       " 'SULB': 'Sulzbrunn',\n",
       " 'JON': 'Jonction (Genève)',\n",
       " 'FUBI': 'Furet (bif)',\n",
       " 'TALR': 'Tankanlage Rümlang',\n",
       " 'SLV': 'Salvan',\n",
       " 'CXN': 'Croix-du-Nant',\n",
       " 'FU': 'Full',\n",
       " 'ZVB': 'Zürich Vorbahnhof',\n",
       " 'WGRU': 'Winterthur Grüze Unterwerk',\n",
       " 'ZBGT': 'Zürichbergtunnel',\n",
       " 'SALS': 'Sattel, Lutzistrasse',\n",
       " 'WAWS': 'Wattwil, Wis',\n",
       " 'ZMA': 'Zürich Manegg',\n",
       " 'KAET': 'Zürich Käferbergtunnel Mitte',\n",
       " 'ZTRS': 'Zürich Riesbachtunnel Süd',\n",
       " 'ZSEO': 'Zürich Seebach Ost (Abzw)',\n",
       " 'FUM': 'Les Fumeaux',\n",
       " 'FRET': 'Les Frêtes',\n",
       " 'WPOS': 'Winterthur Post',\n",
       " 'SEVB': 'Sevelen, Büeli',\n",
       " 'MO': 'Mosen',\n",
       " 'NPLI': 'Neuchâtel,Place Pury Littorail',\n",
       " 'TOST': 'Tössmühle Ost',\n",
       " 'NEVS': 'Neuchâtel-Vauseyon',\n",
       " 'SIIN': 'Siggenthal Industrie',\n",
       " 'BVEM': 'Barrage du Vieux-Emosson',\n",
       " 'RM': 'Rümikon-Mellikon',\n",
       " 'NGUT': 'Neugut (Abzw)',\n",
       " 'GELF': 'Gelfingen',\n",
       " 'DEU': 'Les Deurres',\n",
       " 'CP': 'Corcelles-Peseux',\n",
       " 'KAAG': 'Kaiserstuhl AG',\n",
       " 'SEVR': 'Sevelen, Rathaus',\n",
       " 'RILN': 'Riedern GL, Lerchen',\n",
       " 'ODBW': 'Oberdorf BL Winkelweg',\n",
       " 'BRNI': 'Brunni',\n",
       " 'ROBS': 'Roggwil-Berg Süd',\n",
       " 'REDF': 'Reichenburg, Dorf',\n",
       " 'DGWE': 'Degersheim West (Abzw)',\n",
       " 'LSBT': 'Lichtensteig SOB',\n",
       " 'ZOEP': 'Zürich Oerlikon Pumpstation',\n",
       " 'BELV': 'Bellevue NE',\n",
       " 'NWWE': 'Niederwald West',\n",
       " 'LQGB': 'Landquart GB',\n",
       " 'BRTL': 'Brüttenertunnel',\n",
       " 'ZST1': 'Zürich Stadelhofen TC-Raum 1',\n",
       " 'VILB': 'Villmergen, Bahnhof',\n",
       " 'ZHEB': 'Zürich Herdern Blockstelle',\n",
       " 'OFBB': 'Oftringen, Bühnenberg-Sonnmatt',\n",
       " 'ZBST': 'Zürich Birchsteg (Abzw)',\n",
       " 'HGHI': 'Horgen Hirsacher',\n",
       " 'ZUEA': 'Zürich HB Gleisfeld A',\n",
       " 'VMGI': 'Villmergen Industrie',\n",
       " 'GUEB': 'Gübsensee',\n",
       " 'BOVI': 'Bouveret, village',\n",
       " 'ZDGL': 'Zürich Langstr Dienstgebäude',\n",
       " 'ZBDZ': 'Zürich BDZ Kohlendreieck',\n",
       " 'BGF': 'Berghof',\n",
       " 'ZLK': 'Zürich LängsKanal (2.UG)',\n",
       " 'ZASC': 'Zürich Altstetten Connex',\n",
       " 'ODBL': 'Oberdorf BL',\n",
       " 'HOE': 'Hölstein',\n",
       " 'SPHC': 'Schopfhalde',\n",
       " 'MUO': 'Muolen',\n",
       " 'EISE': 'Einsiedeln Gleisende',\n",
       " 'HW': 'Horw',\n",
       " 'GRF': 'Grüenfeld',\n",
       " 'WOL': 'Wollerau',\n",
       " 'SAM': 'Samstagern',\n",
       " 'KAI': 'Kaiserstuhl OW',\n",
       " 'LUN': 'Lungern',\n",
       " 'AAWS': 'Aarau AVA',\n",
       " 'GEUE': 'Geuensee',\n",
       " 'RIEL': 'Rielasingen',\n",
       " 'BRFO': 'Brig MGB-fo',\n",
       " 'WILN': 'Wilen bei Wollerau',\n",
       " 'SCHI': 'Schindellegi-Feusisberg',\n",
       " 'STBG': 'Steinerberg',\n",
       " 'NEU': 'Neuthal',\n",
       " 'BAEW': 'Bäretswil',\n",
       " 'HEIN': 'Widen Heinrüti',\n",
       " 'ERDM': 'Erdmannlistein',\n",
       " 'WOBD': 'Wohlen BDWM-bd',\n",
       " 'HIT': 'Hirschthal',\n",
       " 'MUH': 'Muhen',\n",
       " 'BUAG': 'Buchs AG',\n",
       " 'IS': 'Iselle di Trasquera',\n",
       " 'MUEW': 'Münster West',\n",
       " 'BADH': 'Basel Bad Rbf KH (Abzw)',\n",
       " 'STM': 'Stammheim',\n",
       " 'SEU': 'Seuzach',\n",
       " 'ZG': 'Zug',\n",
       " 'CHAM': 'Cham',\n",
       " 'AA': 'Aarau',\n",
       " 'CRNY': 'Tunnel de la Croix Nord',\n",
       " 'BSAU': 'Basel Auhafen',\n",
       " 'SAF': 'Safenwil',\n",
       " 'GSAG': 'Emmenbrücke Gersag',\n",
       " 'TSBL': 'Tunnel St-Blaise',\n",
       " 'STNF': 'Steinen Frauholzstrasse',\n",
       " 'GOLO': 'Goldach Ost',\n",
       " 'HEIT': 'Heitersbergtunnel',\n",
       " 'PORS': 'Porrentruy Sud',\n",
       " 'RBG': 'Rothenburg',\n",
       " 'STER': 'St. Erhard-Knutwil',\n",
       " 'STDG': 'Staz. della Galleria Sempione',\n",
       " 'BR': 'Brig',\n",
       " 'GAMS': 'Gamsen SBB',\n",
       " 'ZGCA': 'Zug Casino',\n",
       " 'RSEE': 'Rotseeweg',\n",
       " 'CHNN': 'Chambrelien Nord (bif)',\n",
       " 'BSHA': 'Hagnau (Abzw)',\n",
       " 'IM': 'Immensee',\n",
       " 'KUE': 'Küssnacht am Rigi',\n",
       " 'SAL': 'Salgesch',\n",
       " 'RID': 'Riddes',\n",
       " 'PDS': 'Les Paluds',\n",
       " 'SHNO': 'Schaffhausen Nord',\n",
       " 'LOTO': 'Lottstetten Ost',\n",
       " 'QUAD': 'Quadra',\n",
       " 'MH': 'Mühlehorn',\n",
       " 'MEP': 'Marin-Epagnier',\n",
       " 'GESS': 'Genève sous-station',\n",
       " 'REST': 'Reggenschwil Steinachtobel',\n",
       " 'COTD': 'Cottendart (embr)',\n",
       " 'RBLT': 'RBL Tivoli',\n",
       " 'CABA': 'Lancy-Bachet',\n",
       " 'DIET': 'Dietwil',\n",
       " 'FREU': 'Freudenberg',\n",
       " 'GEC': 'Les Geneveys-sur-Coffrane',\n",
       " 'CHN': 'Chambrelien',\n",
       " 'NOI': 'Noiraigue',\n",
       " 'VERF': 'Les Verrières-Frontière',\n",
       " 'LPFR': 'La Plaine-Frontière',\n",
       " 'GEPR': 'Genève-La-Praille',\n",
       " 'SCHH': 'Schüpfheim',\n",
       " 'SY': 'Satigny',\n",
       " 'ABOL': 'Aarburg-Oftringen Längacker',\n",
       " 'JONN': 'Jona Nord',\n",
       " 'RUTS': 'Rüti ZH Täussitunnel Süd',\n",
       " 'ASPW': 'Aspwald (Jona)',\n",
       " 'KLWU': 'Killwangen-Spreitenbach Uwerk',\n",
       " 'MUND': 'Mundbach (Spw)',\n",
       " 'SB': 'Sandbüchel',\n",
       " 'WBG': 'Warmesberg',\n",
       " 'RITI': 'Rietli',\n",
       " 'RBLN': 'RBL Nord (Abzw)',\n",
       " 'WUER': 'Würenlos',\n",
       " 'BRBE': 'Basel SBB RB Gr E',\n",
       " 'KRET': 'Kreuzlibergtunnel',\n",
       " 'AANT': 'Aarauer Stadttunnel',\n",
       " 'HOCT': 'Hochfluhtunnel',\n",
       " 'FOTT': 'Tunnel de Fontelats',\n",
       " 'RIKT': 'Rickentunnel',\n",
       " 'WE': 'Wettingen',\n",
       " 'NH': 'Neuhausen',\n",
       " 'CCH': 'Courchavon',\n",
       " 'CTM': 'Courtemaîche',\n",
       " 'CG': 'Courgenay',\n",
       " 'DUG': 'Duggingen',\n",
       " 'LFN': 'Laufen',\n",
       " 'LSB': 'Liesberg',\n",
       " 'MRST': 'Morschach-Tunnel Brunnen (SZ)',\n",
       " 'GEST': 'Genève-Stade',\n",
       " 'RUDB': 'Ruderbach',\n",
       " 'HEBG': 'Heerbrugg',\n",
       " 'STA': 'Staad SG',\n",
       " 'RS': 'Rorschach',\n",
       " 'RSHF': 'Rorschach Hafen',\n",
       " 'GF': 'Glattfelden',\n",
       " 'PFZ': 'Pfäffikon ZH',\n",
       " 'BSJA': 'Basel St. Jakob',\n",
       " 'SOM': 'Sommerau',\n",
       " 'TK': 'Tecknau',\n",
       " 'IT': 'Itingen',\n",
       " 'FRE': 'Frenkendorf-Füllinsdorf',\n",
       " 'NHRH': 'Neuhausen Rheinfall',\n",
       " 'TLOG': 'Tunnel des Loges',\n",
       " 'ZGFR': 'Zug Fridbach',\n",
       " 'WEIS': 'Weissbad',\n",
       " 'APPZ': 'Appenzell',\n",
       " 'LIN': 'Linthal',\n",
       " 'NID': 'Nidfurn-Haslen',\n",
       " 'LA': 'Lachen SZ',\n",
       " 'KIL': 'Kilchberg ZH',\n",
       " 'BSGO': 'Basel SBB GB Ost',\n",
       " 'KKOW': 'Kölliken Oberdorf West',\n",
       " 'GAMU': 'Gamsen Unterwerk',\n",
       " 'WFUW': 'Weinfelden Unterwerk',\n",
       " 'CHOU': 'Chiasso Olimpino I',\n",
       " 'SILB': 'Silberen (Abzw)',\n",
       " 'HEAB': 'Herisau AB',\n",
       " 'LUET': 'Lütisburg',\n",
       " 'KAB': 'Kaltbrunn',\n",
       " 'SUET': 'Schützenmatttunnel',\n",
       " 'STSO': 'Stein-Säckingen Ost (Abzw)',\n",
       " 'SRBO': 'Schaffhausen RB Ost (Ende SBB)',\n",
       " 'SMLG': 'St. Margrethen Landesgrenze',\n",
       " 'GLBS': 'Glattbrugg Süd (Abzw)',\n",
       " 'NWGE': 'Niederweningen (Gleisende)',\n",
       " 'KHF': 'Kehlhof',\n",
       " 'BNG': 'Bussnang',\n",
       " 'MAE': 'Märwil',\n",
       " 'STR': 'Stein am Rhein',\n",
       " 'TROG': 'Trogen Gleisende',\n",
       " 'KLWW': 'Killwangen West (Abzw)',\n",
       " 'ZGW': 'Zug West',\n",
       " 'ZFN': 'Zofingen Nord (Abzw)',\n",
       " 'PRW': 'Pratteln West',\n",
       " 'PRO': 'Pratteln Ost (Abzw)',\n",
       " 'PINC': 'Pino confine',\n",
       " 'AW': 'Amriswil',\n",
       " 'ERL': 'Erlen',\n",
       " 'PFU': 'Pfungen',\n",
       " 'HUCH': 'Hünenberg Chämleten',\n",
       " 'GDMF': 'Goldau Mühlefluh (Verzw)',\n",
       " 'STE': 'Steinhausen',\n",
       " 'KNO': 'Knonau',\n",
       " 'MTM': 'Mettmenstetten',\n",
       " 'BNZ': 'Benzenschwil',\n",
       " 'PIL': 'Pilatus Kulm',\n",
       " 'MARE': 'Les Marécottes',\n",
       " 'GEBS': 'Geschinen, Baschi',\n",
       " 'GOTP': 'Goldau, Tierpark',\n",
       " 'OBSB': 'Obstalden, Bödeli',\n",
       " 'TUSO': 'Turtmann, Soleil',\n",
       " 'TRUS': 'Trient usine',\n",
       " 'PASM': 'Passmal (B)',\n",
       " 'SPBU': 'Speicher, Buchen',\n",
       " 'ABOA': 'Aarburg-Oftringen (Abzw)',\n",
       " 'ALIT': 'Areuse Littorail',\n",
       " 'CNAL': 'Colombier NE Allées Littorail',\n",
       " 'MTGR': 'Murgenthal, Rank',\n",
       " 'ZGME': 'Zug, Metalli/Bahnhof',\n",
       " 'FIMI': 'Filzbach, Milchzentrale',\n",
       " 'TRUB': 'Trübbach',\n",
       " 'HLIM': 'Oberwil BL, Hüslimatt',\n",
       " 'GREP': 'Greppen',\n",
       " 'BNWE': 'Bern Weissenbühl',\n",
       " 'BNBZ': 'Bern Bümpliz Nord',\n",
       " 'SWB': 'Schwäbis',\n",
       " 'UEA': 'Uetendorf Allmend',\n",
       " 'OISH': 'Oberwil i.S., Heidenweidli',\n",
       " 'BWMS': 'Bern Weyermannshaus (Spw)',\n",
       " 'GAS': 'Gasel',\n",
       " 'INS': 'Ins',\n",
       " 'BNV': 'Bern Hochschulstr 6 Gebäude V',\n",
       " 'LATR': 'Lattrigen',\n",
       " 'RD': 'Rodersdorf, Station',\n",
       " 'MERS': 'Merligen (See)',\n",
       " 'BNWU': 'Bern Wylerfeld Unterwerk',\n",
       " 'OWA': 'Oberwangen',\n",
       " 'MAR': 'Maroggia-Melano',\n",
       " 'UNZO': 'Unterzollikofen',\n",
       " 'BND': 'Bern Mittelstr 43 Gebäude D',\n",
       " 'LOGA': 'Locarno Galleria (incr)',\n",
       " 'WOBO': 'Worbboden',\n",
       " 'BK': 'Brenzikofen',\n",
       " 'POBR': 'Ponte Brolla',\n",
       " 'LY': 'Lyss',\n",
       " 'NWA': 'Niederwangen',\n",
       " 'GAB': 'Galgenbühl (Agl)',\n",
       " 'MINU': 'Minusio',\n",
       " 'BOLD': 'Boltigen, Dorf',\n",
       " 'BWY': 'Bern Wyler',\n",
       " 'BNS2': 'Bern Stellwerk 2',\n",
       " 'COUR': 'Courtepin',\n",
       " 'BNHA': 'Bern Haslerstrasse 30',\n",
       " 'BHOL': 'Bern Depot Holligen (Dsta)',\n",
       " 'AEKI': 'Aeschi SO, Kirche',\n",
       " 'GIES': 'Giessbach See',\n",
       " 'STPS': 'Stalvedro portale sud',\n",
       " 'SMAG': 'Galleria San Martino',\n",
       " 'POLD': 'Pollegio Sud (Dira)',\n",
       " 'PON': 'Pontenet',\n",
       " 'AFWB': 'Affoltern-Weier, Bahnhof',\n",
       " 'WASM': 'Wasen i.E., Stegmatt',\n",
       " 'TSUD': 'Trubschachen, Unterdorf',\n",
       " 'OLH': 'Olten Hammer',\n",
       " 'BLK2': 'Blindleistungskompensator 2',\n",
       " 'LIG': 'Ligerz',\n",
       " 'MRAB': 'Meiringen Alpbach',\n",
       " 'PPSU': 'Tunnel de Pierre-Pertuis Sud',\n",
       " 'BELC': 'Bellinzona Collegamento',\n",
       " 'GOE': 'Göschenen',\n",
       " 'WASG': 'Wasen i.E., Sparenegg',\n",
       " 'SEL': 'Selzach',\n",
       " 'HWNS': 'Huttwil, Schwarzenbach',\n",
       " 'RUOR': 'Rüegsbach, Oberrinderbach',\n",
       " 'BF': 'Belfaux CFF',\n",
       " 'LAV': 'Lavorgo',\n",
       " 'AFBA': 'Affoltern i.E., Bannholz',\n",
       " 'TBLP': 'Trub, Löwenplatz',\n",
       " 'BULI': 'Buchli',\n",
       " 'CORC': 'Corcelles BE',\n",
       " 'WEAL': 'Wengernalp',\n",
       " 'IWBF': 'Interlaken West, Bahnhof',\n",
       " 'INTR': 'Intragna',\n",
       " 'RUBH': 'Rüegsbach, Bachhaus',\n",
       " 'TBGS': 'Trub, Grundsäge',\n",
       " 'TBDO': 'Trub, Dorf',\n",
       " 'SPBI': 'Schüpbach, Buebenei',\n",
       " 'DR': 'Därstetten',\n",
       " 'ROG': 'Roggwil-Wynau',\n",
       " 'BELE': 'Bellach Industrie',\n",
       " 'WATT': 'Wattinger-Tunnel Wassen (UR)',\n",
       " 'BDEY': 'Burgdorf, Eybrücke',\n",
       " 'ROFB': 'Röthenbach i.E., Fischbach',\n",
       " 'THBU': 'Thalbrücke',\n",
       " 'SMGS': 'San Martino Galleria Sud',\n",
       " 'LDAI': 'Les Daillettes',\n",
       " 'BDUW': 'Burgdorf Unterwerk',\n",
       " 'RUPO': 'Rüegsbach, Dorf',\n",
       " 'FHSS': 'Fankhaus (Trub), Schulhaus',\n",
       " 'FHGG': 'Fankhaus (Trub), Gärstengraben',\n",
       " 'MORS': 'Moutier, Rue de Soleure',\n",
       " 'WENG': 'Wengen',\n",
       " 'EGW': 'Eggwald (Spw)',\n",
       " 'OHD': 'Oberhofen a. T., Dorf',\n",
       " 'SPFU': 'Schüpbach, Furen',\n",
       " 'LABE': 'Langnau i.E., Berufsschule',\n",
       " 'GOSC': 'Gohl, Schulhaus Chammershus',\n",
       " 'WEGG': 'Winteregg',\n",
       " 'GOKW': 'Göschenen Kraftwerk',\n",
       " 'BOAN': 'Bodio cunicolo di aggira. nord',\n",
       " 'KAUW': 'Kandersteg Unterwerk',\n",
       " 'ALLI': 'Allières',\n",
       " 'ROHX': 'Roches BE',\n",
       " 'FAWA': 'Fanelwald',\n",
       " 'NBBF': 'Niederbipp, Bahnhof',\n",
       " 'SOGR': 'Solothurn, Grenchenstrasse',\n",
       " 'OFDH': 'Oberfrittenbach, Deckhus',\n",
       " 'SOAL': 'Solothurn, Allmend',\n",
       " 'SCOE': 'Schönenwerd SO',\n",
       " 'LUT': 'Luterbach-Attisholz',\n",
       " 'PDAT': 'Galleria Pardorea',\n",
       " 'BOWE': 'Bönigen Werkstätte BLS',\n",
       " 'BIDO': 'Biel/Bienne Depot Ost',\n",
       " 'BKI': 'Bätterkinden',\n",
       " 'SIPO': 'Siporex (embr)',\n",
       " 'GOSH': 'Gohl, Schulhaus',\n",
       " 'BABD': 'Bärau, Bäraugrund',\n",
       " 'LNUB': 'Langnau i.E., unt. Beichlenstr',\n",
       " 'LNCP': 'Langnau i.E., Sonnegg',\n",
       " 'LNLS': 'Langnau i.E., Lindenstrasse',\n",
       " 'EGZT': 'Eggiwil, Zilmatt',\n",
       " 'AESA': 'Aeschau, Säge',\n",
       " 'OBFP': 'Oberalppass, Bahnhof',\n",
       " 'GOLD': 'Goldswil (See)',\n",
       " 'HOGU': 'Gümligen, Hofgut',\n",
       " 'LNHM': 'Langnau i.E., Hinterdorf Mühle',\n",
       " 'OFIB': 'Oberfrittenbach, Im Bach',\n",
       " 'NM': 'Neumühle',\n",
       " ...}"
      ]
     },
     "execution_count": 5,
     "metadata": {},
     "output_type": "execute_result"
    }
   ],
   "source": [
    "station_mapping = {}\n",
    "for _, row in train_stations.iterrows():\n",
    "    station_mapping[row[\"abk_bahnhof\"]] = row[\"Name Haltestelle\"]\n",
    "station_mapping"
   ]
  },
  {
   "cell_type": "markdown",
   "metadata": {},
   "source": [
    "## Find all sequences where you have to book in advance"
   ]
  },
  {
   "cell_type": "code",
   "execution_count": 6,
   "metadata": {},
   "outputs": [
    {
     "data": {
      "text/html": [
       "<div>\n",
       "<style scoped>\n",
       "    .dataframe tbody tr th:only-of-type {\n",
       "        vertical-align: middle;\n",
       "    }\n",
       "\n",
       "    .dataframe tbody tr th {\n",
       "        vertical-align: top;\n",
       "    }\n",
       "\n",
       "    .dataframe thead th {\n",
       "        text-align: right;\n",
       "    }\n",
       "</style>\n",
       "<table border=\"1\" class=\"dataframe\">\n",
       "  <thead>\n",
       "    <tr style=\"text-align: right;\">\n",
       "      <th></th>\n",
       "      <th>start_loc</th>\n",
       "      <th>end_loc</th>\n",
       "      <th>book_in_advance</th>\n",
       "    </tr>\n",
       "  </thead>\n",
       "  <tbody>\n",
       "    <tr>\n",
       "      <th>12</th>\n",
       "      <td>BEL</td>\n",
       "      <td>GD</td>\n",
       "      <td>375</td>\n",
       "    </tr>\n",
       "    <tr>\n",
       "      <th>48</th>\n",
       "      <td>BN</td>\n",
       "      <td>ZUE</td>\n",
       "      <td>213</td>\n",
       "    </tr>\n",
       "    <tr>\n",
       "      <th>267</th>\n",
       "      <td>ZUE</td>\n",
       "      <td>BN</td>\n",
       "      <td>159</td>\n",
       "    </tr>\n",
       "    <tr>\n",
       "      <th>84</th>\n",
       "      <td>GD</td>\n",
       "      <td>BEL</td>\n",
       "      <td>154</td>\n",
       "    </tr>\n",
       "    <tr>\n",
       "      <th>250</th>\n",
       "      <td>YV</td>\n",
       "      <td>NE</td>\n",
       "      <td>128</td>\n",
       "    </tr>\n",
       "    <tr>\n",
       "      <th>...</th>\n",
       "      <td>...</td>\n",
       "      <td>...</td>\n",
       "      <td>...</td>\n",
       "    </tr>\n",
       "    <tr>\n",
       "      <th>152</th>\n",
       "      <td>MOR</td>\n",
       "      <td>ZUE</td>\n",
       "      <td>1</td>\n",
       "    </tr>\n",
       "    <tr>\n",
       "      <th>150</th>\n",
       "      <td>MOR</td>\n",
       "      <td>SO</td>\n",
       "      <td>1</td>\n",
       "    </tr>\n",
       "    <tr>\n",
       "      <th>149</th>\n",
       "      <td>MOR</td>\n",
       "      <td>OL</td>\n",
       "      <td>1</td>\n",
       "    </tr>\n",
       "    <tr>\n",
       "      <th>138</th>\n",
       "      <td>LST</td>\n",
       "      <td>BS</td>\n",
       "      <td>1</td>\n",
       "    </tr>\n",
       "    <tr>\n",
       "      <th>147</th>\n",
       "      <td>MOR</td>\n",
       "      <td>MOR</td>\n",
       "      <td>1</td>\n",
       "    </tr>\n",
       "  </tbody>\n",
       "</table>\n",
       "<p>294 rows × 3 columns</p>\n",
       "</div>"
      ],
      "text/plain": [
       "    start_loc end_loc  book_in_advance\n",
       "12        BEL      GD              375\n",
       "48         BN     ZUE              213\n",
       "267       ZUE      BN              159\n",
       "84         GD     BEL              154\n",
       "250        YV      NE              128\n",
       "..        ...     ...              ...\n",
       "152       MOR     ZUE                1\n",
       "150       MOR      SO                1\n",
       "149       MOR      OL                1\n",
       "138       LST      BS                1\n",
       "147       MOR     MOR                1\n",
       "\n",
       "[294 rows x 3 columns]"
      ]
     },
     "execution_count": 6,
     "metadata": {},
     "output_type": "execute_result"
    }
   ],
   "source": [
    "df_book_in_advance = df[df[\"book_in_advance\"] > 0]\n",
    "booked_in_advance_grouped = df_book_in_advance.groupby(by=[\"start_loc\", \"end_loc\"])[\"book_in_advance\"].count().reset_index()\n",
    "booked_in_advance_grouped = booked_in_advance_grouped.sort_values([\"book_in_advance\"], ascending=False)\n",
    "booked_in_advance_grouped"
   ]
  },
  {
   "cell_type": "code",
   "execution_count": 7,
   "metadata": {},
   "outputs": [
    {
     "data": {
      "text/html": [
       "<div>\n",
       "<style scoped>\n",
       "    .dataframe tbody tr th:only-of-type {\n",
       "        vertical-align: middle;\n",
       "    }\n",
       "\n",
       "    .dataframe tbody tr th {\n",
       "        vertical-align: top;\n",
       "    }\n",
       "\n",
       "    .dataframe thead th {\n",
       "        text-align: right;\n",
       "    }\n",
       "</style>\n",
       "<table border=\"1\" class=\"dataframe\">\n",
       "  <thead>\n",
       "    <tr style=\"text-align: right;\">\n",
       "      <th></th>\n",
       "      <th>month</th>\n",
       "      <th>start_loc</th>\n",
       "      <th>end_loc</th>\n",
       "      <th>book_in_advance</th>\n",
       "    </tr>\n",
       "  </thead>\n",
       "  <tbody>\n",
       "    <tr>\n",
       "      <th>0</th>\n",
       "      <td>3</td>\n",
       "      <td>Bellinzona</td>\n",
       "      <td>Arth-Goldau</td>\n",
       "      <td>5</td>\n",
       "    </tr>\n",
       "    <tr>\n",
       "      <th>2</th>\n",
       "      <td>3</td>\n",
       "      <td>Bellinzona</td>\n",
       "      <td>Zug</td>\n",
       "      <td>2</td>\n",
       "    </tr>\n",
       "    <tr>\n",
       "      <th>3</th>\n",
       "      <td>3</td>\n",
       "      <td>Biel/Bienne</td>\n",
       "      <td>Yverdon-les-Bains</td>\n",
       "      <td>1</td>\n",
       "    </tr>\n",
       "    <tr>\n",
       "      <th>4</th>\n",
       "      <td>3</td>\n",
       "      <td>Arth-Goldau</td>\n",
       "      <td>Bellinzona</td>\n",
       "      <td>1</td>\n",
       "    </tr>\n",
       "    <tr>\n",
       "      <th>5</th>\n",
       "      <td>3</td>\n",
       "      <td>Lugano</td>\n",
       "      <td>Olten</td>\n",
       "      <td>1</td>\n",
       "    </tr>\n",
       "    <tr>\n",
       "      <th>6</th>\n",
       "      <td>3</td>\n",
       "      <td>Lugano</td>\n",
       "      <td>Zürich HB</td>\n",
       "      <td>1</td>\n",
       "    </tr>\n",
       "    <tr>\n",
       "      <th>7</th>\n",
       "      <td>3</td>\n",
       "      <td>Lausanne</td>\n",
       "      <td>Yverdon-les-Bains</td>\n",
       "      <td>1</td>\n",
       "    </tr>\n",
       "    <tr>\n",
       "      <th>8</th>\n",
       "      <td>3</td>\n",
       "      <td>Luzern</td>\n",
       "      <td>Lugano</td>\n",
       "      <td>1</td>\n",
       "    </tr>\n",
       "    <tr>\n",
       "      <th>9</th>\n",
       "      <td>3</td>\n",
       "      <td>Solothurn</td>\n",
       "      <td>Olten</td>\n",
       "      <td>1</td>\n",
       "    </tr>\n",
       "    <tr>\n",
       "      <th>10</th>\n",
       "      <td>3</td>\n",
       "      <td>Zug</td>\n",
       "      <td>Bellinzona</td>\n",
       "      <td>1</td>\n",
       "    </tr>\n",
       "    <tr>\n",
       "      <th>11</th>\n",
       "      <td>3</td>\n",
       "      <td>Zürich HB</td>\n",
       "      <td>Bellinzona</td>\n",
       "      <td>1</td>\n",
       "    </tr>\n",
       "    <tr>\n",
       "      <th>12</th>\n",
       "      <td>3</td>\n",
       "      <td>Zürich HB</td>\n",
       "      <td>Lugano</td>\n",
       "      <td>1</td>\n",
       "    </tr>\n",
       "    <tr>\n",
       "      <th>13</th>\n",
       "      <td>3</td>\n",
       "      <td>Zürich HB</td>\n",
       "      <td>Olten</td>\n",
       "      <td>1</td>\n",
       "    </tr>\n",
       "    <tr>\n",
       "      <th>14</th>\n",
       "      <td>3</td>\n",
       "      <td>Zürich HB</td>\n",
       "      <td>Solothurn</td>\n",
       "      <td>1</td>\n",
       "    </tr>\n",
       "    <tr>\n",
       "      <th>1</th>\n",
       "      <td>3</td>\n",
       "      <td>Bellinzona</td>\n",
       "      <td>Luzern</td>\n",
       "      <td>1</td>\n",
       "    </tr>\n",
       "  </tbody>\n",
       "</table>\n",
       "</div>"
      ],
      "text/plain": [
       "    month    start_loc            end_loc  book_in_advance\n",
       "0       3   Bellinzona        Arth-Goldau                5\n",
       "2       3   Bellinzona                Zug                2\n",
       "3       3  Biel/Bienne  Yverdon-les-Bains                1\n",
       "4       3  Arth-Goldau         Bellinzona                1\n",
       "5       3       Lugano              Olten                1\n",
       "6       3       Lugano          Zürich HB                1\n",
       "7       3     Lausanne  Yverdon-les-Bains                1\n",
       "8       3       Luzern             Lugano                1\n",
       "9       3    Solothurn              Olten                1\n",
       "10      3          Zug         Bellinzona                1\n",
       "11      3    Zürich HB         Bellinzona                1\n",
       "12      3    Zürich HB             Lugano                1\n",
       "13      3    Zürich HB              Olten                1\n",
       "14      3    Zürich HB          Solothurn                1\n",
       "1       3   Bellinzona             Luzern                1"
      ]
     },
     "metadata": {},
     "output_type": "display_data"
    },
    {
     "data": {
      "text/html": [
       "<div>\n",
       "<style scoped>\n",
       "    .dataframe tbody tr th:only-of-type {\n",
       "        vertical-align: middle;\n",
       "    }\n",
       "\n",
       "    .dataframe tbody tr th {\n",
       "        vertical-align: top;\n",
       "    }\n",
       "\n",
       "    .dataframe thead th {\n",
       "        text-align: right;\n",
       "    }\n",
       "</style>\n",
       "<table border=\"1\" class=\"dataframe\">\n",
       "  <thead>\n",
       "    <tr style=\"text-align: right;\">\n",
       "      <th></th>\n",
       "      <th>month</th>\n",
       "      <th>start_loc</th>\n",
       "      <th>end_loc</th>\n",
       "      <th>book_in_advance</th>\n",
       "    </tr>\n",
       "  </thead>\n",
       "  <tbody>\n",
       "    <tr>\n",
       "      <th>24</th>\n",
       "      <td>4</td>\n",
       "      <td>Bellinzona</td>\n",
       "      <td>Arth-Goldau</td>\n",
       "      <td>37</td>\n",
       "    </tr>\n",
       "    <tr>\n",
       "      <th>150</th>\n",
       "      <td>4</td>\n",
       "      <td>Zürich HB</td>\n",
       "      <td>Bern</td>\n",
       "      <td>27</td>\n",
       "    </tr>\n",
       "    <tr>\n",
       "      <th>46</th>\n",
       "      <td>4</td>\n",
       "      <td>Bern</td>\n",
       "      <td>Zürich HB</td>\n",
       "      <td>26</td>\n",
       "    </tr>\n",
       "    <tr>\n",
       "      <th>60</th>\n",
       "      <td>4</td>\n",
       "      <td>Arth-Goldau</td>\n",
       "      <td>Bellinzona</td>\n",
       "      <td>22</td>\n",
       "    </tr>\n",
       "    <tr>\n",
       "      <th>138</th>\n",
       "      <td>4</td>\n",
       "      <td>Yverdon-les-Bains</td>\n",
       "      <td>Neuchâtel</td>\n",
       "      <td>18</td>\n",
       "    </tr>\n",
       "    <tr>\n",
       "      <th>...</th>\n",
       "      <td>...</td>\n",
       "      <td>...</td>\n",
       "      <td>...</td>\n",
       "      <td>...</td>\n",
       "    </tr>\n",
       "    <tr>\n",
       "      <th>90</th>\n",
       "      <td>4</td>\n",
       "      <td>Moutier</td>\n",
       "      <td>Biel/Bienne</td>\n",
       "      <td>1</td>\n",
       "    </tr>\n",
       "    <tr>\n",
       "      <th>92</th>\n",
       "      <td>4</td>\n",
       "      <td>Moutier</td>\n",
       "      <td>Delémont</td>\n",
       "      <td>1</td>\n",
       "    </tr>\n",
       "    <tr>\n",
       "      <th>93</th>\n",
       "      <td>4</td>\n",
       "      <td>Neuchâtel</td>\n",
       "      <td>Aarau</td>\n",
       "      <td>1</td>\n",
       "    </tr>\n",
       "    <tr>\n",
       "      <th>95</th>\n",
       "      <td>4</td>\n",
       "      <td>Neuchâtel</td>\n",
       "      <td>Lausanne</td>\n",
       "      <td>1</td>\n",
       "    </tr>\n",
       "    <tr>\n",
       "      <th>96</th>\n",
       "      <td>4</td>\n",
       "      <td>Neuchâtel</td>\n",
       "      <td>Morges</td>\n",
       "      <td>1</td>\n",
       "    </tr>\n",
       "  </tbody>\n",
       "</table>\n",
       "<p>149 rows × 4 columns</p>\n",
       "</div>"
      ],
      "text/plain": [
       "     month          start_loc      end_loc  book_in_advance\n",
       "24       4         Bellinzona  Arth-Goldau               37\n",
       "150      4          Zürich HB         Bern               27\n",
       "46       4               Bern    Zürich HB               26\n",
       "60       4        Arth-Goldau   Bellinzona               22\n",
       "138      4  Yverdon-les-Bains    Neuchâtel               18\n",
       "..     ...                ...          ...              ...\n",
       "90       4            Moutier  Biel/Bienne                1\n",
       "92       4            Moutier     Delémont                1\n",
       "93       4          Neuchâtel        Aarau                1\n",
       "95       4          Neuchâtel     Lausanne                1\n",
       "96       4          Neuchâtel       Morges                1\n",
       "\n",
       "[149 rows x 4 columns]"
      ]
     },
     "metadata": {},
     "output_type": "display_data"
    },
    {
     "data": {
      "text/html": [
       "<div>\n",
       "<style scoped>\n",
       "    .dataframe tbody tr th:only-of-type {\n",
       "        vertical-align: middle;\n",
       "    }\n",
       "\n",
       "    .dataframe tbody tr th {\n",
       "        vertical-align: top;\n",
       "    }\n",
       "\n",
       "    .dataframe thead th {\n",
       "        text-align: right;\n",
       "    }\n",
       "</style>\n",
       "<table border=\"1\" class=\"dataframe\">\n",
       "  <thead>\n",
       "    <tr style=\"text-align: right;\">\n",
       "      <th></th>\n",
       "      <th>month</th>\n",
       "      <th>start_loc</th>\n",
       "      <th>end_loc</th>\n",
       "      <th>book_in_advance</th>\n",
       "    </tr>\n",
       "  </thead>\n",
       "  <tbody>\n",
       "    <tr>\n",
       "      <th>170</th>\n",
       "      <td>5</td>\n",
       "      <td>Bellinzona</td>\n",
       "      <td>Arth-Goldau</td>\n",
       "      <td>75</td>\n",
       "    </tr>\n",
       "    <tr>\n",
       "      <th>193</th>\n",
       "      <td>5</td>\n",
       "      <td>Bern</td>\n",
       "      <td>Zürich HB</td>\n",
       "      <td>35</td>\n",
       "    </tr>\n",
       "    <tr>\n",
       "      <th>216</th>\n",
       "      <td>5</td>\n",
       "      <td>Arth-Goldau</td>\n",
       "      <td>Bellinzona</td>\n",
       "      <td>34</td>\n",
       "    </tr>\n",
       "    <tr>\n",
       "      <th>303</th>\n",
       "      <td>5</td>\n",
       "      <td>Yverdon-les-Bains</td>\n",
       "      <td>Neuchâtel</td>\n",
       "      <td>28</td>\n",
       "    </tr>\n",
       "    <tr>\n",
       "      <th>270</th>\n",
       "      <td>5</td>\n",
       "      <td>Olten</td>\n",
       "      <td>Solothurn</td>\n",
       "      <td>27</td>\n",
       "    </tr>\n",
       "    <tr>\n",
       "      <th>...</th>\n",
       "      <td>...</td>\n",
       "      <td>...</td>\n",
       "      <td>...</td>\n",
       "      <td>...</td>\n",
       "    </tr>\n",
       "    <tr>\n",
       "      <th>260</th>\n",
       "      <td>5</td>\n",
       "      <td>Oensingen</td>\n",
       "      <td>Solothurn</td>\n",
       "      <td>1</td>\n",
       "    </tr>\n",
       "    <tr>\n",
       "      <th>261</th>\n",
       "      <td>5</td>\n",
       "      <td>Oensingen</td>\n",
       "      <td>Zürich HB</td>\n",
       "      <td>1</td>\n",
       "    </tr>\n",
       "    <tr>\n",
       "      <th>264</th>\n",
       "      <td>5</td>\n",
       "      <td>Olten</td>\n",
       "      <td>Bern</td>\n",
       "      <td>1</td>\n",
       "    </tr>\n",
       "    <tr>\n",
       "      <th>265</th>\n",
       "      <td>5</td>\n",
       "      <td>Olten</td>\n",
       "      <td>Basel SBB</td>\n",
       "      <td>1</td>\n",
       "    </tr>\n",
       "    <tr>\n",
       "      <th>267</th>\n",
       "      <td>5</td>\n",
       "      <td>Olten</td>\n",
       "      <td>Neuchâtel</td>\n",
       "      <td>1</td>\n",
       "    </tr>\n",
       "  </tbody>\n",
       "</table>\n",
       "<p>163 rows × 4 columns</p>\n",
       "</div>"
      ],
      "text/plain": [
       "     month          start_loc      end_loc  book_in_advance\n",
       "170      5         Bellinzona  Arth-Goldau               75\n",
       "193      5               Bern    Zürich HB               35\n",
       "216      5        Arth-Goldau   Bellinzona               34\n",
       "303      5  Yverdon-les-Bains    Neuchâtel               28\n",
       "270      5              Olten    Solothurn               27\n",
       "..     ...                ...          ...              ...\n",
       "260      5          Oensingen    Solothurn                1\n",
       "261      5          Oensingen    Zürich HB                1\n",
       "264      5              Olten         Bern                1\n",
       "265      5              Olten    Basel SBB                1\n",
       "267      5              Olten    Neuchâtel                1\n",
       "\n",
       "[163 rows x 4 columns]"
      ]
     },
     "metadata": {},
     "output_type": "display_data"
    },
    {
     "data": {
      "text/html": [
       "<div>\n",
       "<style scoped>\n",
       "    .dataframe tbody tr th:only-of-type {\n",
       "        vertical-align: middle;\n",
       "    }\n",
       "\n",
       "    .dataframe tbody tr th {\n",
       "        vertical-align: top;\n",
       "    }\n",
       "\n",
       "    .dataframe thead th {\n",
       "        text-align: right;\n",
       "    }\n",
       "</style>\n",
       "<table border=\"1\" class=\"dataframe\">\n",
       "  <thead>\n",
       "    <tr style=\"text-align: right;\">\n",
       "      <th></th>\n",
       "      <th>month</th>\n",
       "      <th>start_loc</th>\n",
       "      <th>end_loc</th>\n",
       "      <th>book_in_advance</th>\n",
       "    </tr>\n",
       "  </thead>\n",
       "  <tbody>\n",
       "    <tr>\n",
       "      <th>354</th>\n",
       "      <td>6</td>\n",
       "      <td>Bern</td>\n",
       "      <td>Zürich HB</td>\n",
       "      <td>32</td>\n",
       "    </tr>\n",
       "    <tr>\n",
       "      <th>334</th>\n",
       "      <td>6</td>\n",
       "      <td>Bellinzona</td>\n",
       "      <td>Arth-Goldau</td>\n",
       "      <td>29</td>\n",
       "    </tr>\n",
       "    <tr>\n",
       "      <th>450</th>\n",
       "      <td>6</td>\n",
       "      <td>Zürich HB</td>\n",
       "      <td>Bern</td>\n",
       "      <td>17</td>\n",
       "    </tr>\n",
       "    <tr>\n",
       "      <th>404</th>\n",
       "      <td>6</td>\n",
       "      <td>Neuchâtel</td>\n",
       "      <td>Biel/Bienne</td>\n",
       "      <td>17</td>\n",
       "    </tr>\n",
       "    <tr>\n",
       "      <th>371</th>\n",
       "      <td>6</td>\n",
       "      <td>Arth-Goldau</td>\n",
       "      <td>Bellinzona</td>\n",
       "      <td>16</td>\n",
       "    </tr>\n",
       "    <tr>\n",
       "      <th>...</th>\n",
       "      <td>...</td>\n",
       "      <td>...</td>\n",
       "      <td>...</td>\n",
       "      <td>...</td>\n",
       "    </tr>\n",
       "    <tr>\n",
       "      <th>447</th>\n",
       "      <td>6</td>\n",
       "      <td>Zug</td>\n",
       "      <td>Zürich HB</td>\n",
       "      <td>1</td>\n",
       "    </tr>\n",
       "    <tr>\n",
       "      <th>448</th>\n",
       "      <td>6</td>\n",
       "      <td>Zürich HB</td>\n",
       "      <td>Aarau</td>\n",
       "      <td>1</td>\n",
       "    </tr>\n",
       "    <tr>\n",
       "      <th>452</th>\n",
       "      <td>6</td>\n",
       "      <td>Zürich HB</td>\n",
       "      <td>Chur</td>\n",
       "      <td>1</td>\n",
       "    </tr>\n",
       "    <tr>\n",
       "      <th>455</th>\n",
       "      <td>6</td>\n",
       "      <td>Zürich HB</td>\n",
       "      <td>Lausanne</td>\n",
       "      <td>1</td>\n",
       "    </tr>\n",
       "    <tr>\n",
       "      <th>456</th>\n",
       "      <td>6</td>\n",
       "      <td>Zürich HB</td>\n",
       "      <td>Neuchâtel</td>\n",
       "      <td>1</td>\n",
       "    </tr>\n",
       "  </tbody>\n",
       "</table>\n",
       "<p>136 rows × 4 columns</p>\n",
       "</div>"
      ],
      "text/plain": [
       "     month    start_loc      end_loc  book_in_advance\n",
       "354      6         Bern    Zürich HB               32\n",
       "334      6   Bellinzona  Arth-Goldau               29\n",
       "450      6    Zürich HB         Bern               17\n",
       "404      6    Neuchâtel  Biel/Bienne               17\n",
       "371      6  Arth-Goldau   Bellinzona               16\n",
       "..     ...          ...          ...              ...\n",
       "447      6          Zug    Zürich HB                1\n",
       "448      6    Zürich HB        Aarau                1\n",
       "452      6    Zürich HB         Chur                1\n",
       "455      6    Zürich HB     Lausanne                1\n",
       "456      6    Zürich HB    Neuchâtel                1\n",
       "\n",
       "[136 rows x 4 columns]"
      ]
     },
     "metadata": {},
     "output_type": "display_data"
    },
    {
     "data": {
      "text/html": [
       "<div>\n",
       "<style scoped>\n",
       "    .dataframe tbody tr th:only-of-type {\n",
       "        vertical-align: middle;\n",
       "    }\n",
       "\n",
       "    .dataframe tbody tr th {\n",
       "        vertical-align: top;\n",
       "    }\n",
       "\n",
       "    .dataframe thead th {\n",
       "        text-align: right;\n",
       "    }\n",
       "</style>\n",
       "<table border=\"1\" class=\"dataframe\">\n",
       "  <thead>\n",
       "    <tr style=\"text-align: right;\">\n",
       "      <th></th>\n",
       "      <th>month</th>\n",
       "      <th>start_loc</th>\n",
       "      <th>end_loc</th>\n",
       "      <th>book_in_advance</th>\n",
       "    </tr>\n",
       "  </thead>\n",
       "  <tbody>\n",
       "    <tr>\n",
       "      <th>468</th>\n",
       "      <td>7</td>\n",
       "      <td>Bellinzona</td>\n",
       "      <td>Arth-Goldau</td>\n",
       "      <td>67</td>\n",
       "    </tr>\n",
       "    <tr>\n",
       "      <th>494</th>\n",
       "      <td>7</td>\n",
       "      <td>Bern</td>\n",
       "      <td>Zürich HB</td>\n",
       "      <td>60</td>\n",
       "    </tr>\n",
       "    <tr>\n",
       "      <th>627</th>\n",
       "      <td>7</td>\n",
       "      <td>Zürich HB</td>\n",
       "      <td>Bern</td>\n",
       "      <td>51</td>\n",
       "    </tr>\n",
       "    <tr>\n",
       "      <th>617</th>\n",
       "      <td>7</td>\n",
       "      <td>Yverdon-les-Bains</td>\n",
       "      <td>Neuchâtel</td>\n",
       "      <td>31</td>\n",
       "    </tr>\n",
       "    <tr>\n",
       "      <th>576</th>\n",
       "      <td>7</td>\n",
       "      <td>Olten</td>\n",
       "      <td>Solothurn</td>\n",
       "      <td>27</td>\n",
       "    </tr>\n",
       "    <tr>\n",
       "      <th>...</th>\n",
       "      <td>...</td>\n",
       "      <td>...</td>\n",
       "      <td>...</td>\n",
       "      <td>...</td>\n",
       "    </tr>\n",
       "    <tr>\n",
       "      <th>503</th>\n",
       "      <td>7</td>\n",
       "      <td>Basel SBB</td>\n",
       "      <td>Lugano</td>\n",
       "      <td>1</td>\n",
       "    </tr>\n",
       "    <tr>\n",
       "      <th>504</th>\n",
       "      <td>7</td>\n",
       "      <td>Basel SBB</td>\n",
       "      <td>Olten</td>\n",
       "      <td>1</td>\n",
       "    </tr>\n",
       "    <tr>\n",
       "      <th>505</th>\n",
       "      <td>7</td>\n",
       "      <td>Basel SBB</td>\n",
       "      <td>Zürich HB</td>\n",
       "      <td>1</td>\n",
       "    </tr>\n",
       "    <tr>\n",
       "      <th>506</th>\n",
       "      <td>7</td>\n",
       "      <td>Chur</td>\n",
       "      <td>Landquart</td>\n",
       "      <td>1</td>\n",
       "    </tr>\n",
       "    <tr>\n",
       "      <th>467</th>\n",
       "      <td>7</td>\n",
       "      <td>Bellinzona</td>\n",
       "      <td>Flüelen</td>\n",
       "      <td>1</td>\n",
       "    </tr>\n",
       "  </tbody>\n",
       "</table>\n",
       "<p>184 rows × 4 columns</p>\n",
       "</div>"
      ],
      "text/plain": [
       "     month          start_loc      end_loc  book_in_advance\n",
       "468      7         Bellinzona  Arth-Goldau               67\n",
       "494      7               Bern    Zürich HB               60\n",
       "627      7          Zürich HB         Bern               51\n",
       "617      7  Yverdon-les-Bains    Neuchâtel               31\n",
       "576      7              Olten    Solothurn               27\n",
       "..     ...                ...          ...              ...\n",
       "503      7          Basel SBB       Lugano                1\n",
       "504      7          Basel SBB        Olten                1\n",
       "505      7          Basel SBB    Zürich HB                1\n",
       "506      7               Chur    Landquart                1\n",
       "467      7         Bellinzona      Flüelen                1\n",
       "\n",
       "[184 rows x 4 columns]"
      ]
     },
     "metadata": {},
     "output_type": "display_data"
    },
    {
     "data": {
      "text/html": [
       "<div>\n",
       "<style scoped>\n",
       "    .dataframe tbody tr th:only-of-type {\n",
       "        vertical-align: middle;\n",
       "    }\n",
       "\n",
       "    .dataframe tbody tr th {\n",
       "        vertical-align: top;\n",
       "    }\n",
       "\n",
       "    .dataframe thead th {\n",
       "        text-align: right;\n",
       "    }\n",
       "</style>\n",
       "<table border=\"1\" class=\"dataframe\">\n",
       "  <thead>\n",
       "    <tr style=\"text-align: right;\">\n",
       "      <th></th>\n",
       "      <th>month</th>\n",
       "      <th>start_loc</th>\n",
       "      <th>end_loc</th>\n",
       "      <th>book_in_advance</th>\n",
       "    </tr>\n",
       "  </thead>\n",
       "  <tbody>\n",
       "    <tr>\n",
       "      <th>654</th>\n",
       "      <td>8</td>\n",
       "      <td>Bellinzona</td>\n",
       "      <td>Arth-Goldau</td>\n",
       "      <td>90</td>\n",
       "    </tr>\n",
       "    <tr>\n",
       "      <th>679</th>\n",
       "      <td>8</td>\n",
       "      <td>Bern</td>\n",
       "      <td>Zürich HB</td>\n",
       "      <td>43</td>\n",
       "    </tr>\n",
       "    <tr>\n",
       "      <th>815</th>\n",
       "      <td>8</td>\n",
       "      <td>Zürich HB</td>\n",
       "      <td>Bern</td>\n",
       "      <td>34</td>\n",
       "    </tr>\n",
       "    <tr>\n",
       "      <th>702</th>\n",
       "      <td>8</td>\n",
       "      <td>Arth-Goldau</td>\n",
       "      <td>Bellinzona</td>\n",
       "      <td>32</td>\n",
       "    </tr>\n",
       "    <tr>\n",
       "      <th>784</th>\n",
       "      <td>8</td>\n",
       "      <td>Solothurn</td>\n",
       "      <td>Olten</td>\n",
       "      <td>29</td>\n",
       "    </tr>\n",
       "    <tr>\n",
       "      <th>...</th>\n",
       "      <td>...</td>\n",
       "      <td>...</td>\n",
       "      <td>...</td>\n",
       "      <td>...</td>\n",
       "    </tr>\n",
       "    <tr>\n",
       "      <th>652</th>\n",
       "      <td>8</td>\n",
       "      <td>Bellinzona</td>\n",
       "      <td>Basel SBB</td>\n",
       "      <td>1</td>\n",
       "    </tr>\n",
       "    <tr>\n",
       "      <th>661</th>\n",
       "      <td>8</td>\n",
       "      <td>Biel/Bienne</td>\n",
       "      <td>Delémont</td>\n",
       "      <td>1</td>\n",
       "    </tr>\n",
       "    <tr>\n",
       "      <th>664</th>\n",
       "      <td>8</td>\n",
       "      <td>Biel/Bienne</td>\n",
       "      <td>Laufen</td>\n",
       "      <td>1</td>\n",
       "    </tr>\n",
       "    <tr>\n",
       "      <th>666</th>\n",
       "      <td>8</td>\n",
       "      <td>Biel/Bienne</td>\n",
       "      <td>Morges</td>\n",
       "      <td>1</td>\n",
       "    </tr>\n",
       "    <tr>\n",
       "      <th>674</th>\n",
       "      <td>8</td>\n",
       "      <td>Bern</td>\n",
       "      <td>Genève</td>\n",
       "      <td>1</td>\n",
       "    </tr>\n",
       "  </tbody>\n",
       "</table>\n",
       "<p>184 rows × 4 columns</p>\n",
       "</div>"
      ],
      "text/plain": [
       "     month    start_loc      end_loc  book_in_advance\n",
       "654      8   Bellinzona  Arth-Goldau               90\n",
       "679      8         Bern    Zürich HB               43\n",
       "815      8    Zürich HB         Bern               34\n",
       "702      8  Arth-Goldau   Bellinzona               32\n",
       "784      8    Solothurn        Olten               29\n",
       "..     ...          ...          ...              ...\n",
       "652      8   Bellinzona    Basel SBB                1\n",
       "661      8  Biel/Bienne     Delémont                1\n",
       "664      8  Biel/Bienne       Laufen                1\n",
       "666      8  Biel/Bienne       Morges                1\n",
       "674      8         Bern       Genève                1\n",
       "\n",
       "[184 rows x 4 columns]"
      ]
     },
     "metadata": {},
     "output_type": "display_data"
    },
    {
     "data": {
      "text/html": [
       "<div>\n",
       "<style scoped>\n",
       "    .dataframe tbody tr th:only-of-type {\n",
       "        vertical-align: middle;\n",
       "    }\n",
       "\n",
       "    .dataframe tbody tr th {\n",
       "        vertical-align: top;\n",
       "    }\n",
       "\n",
       "    .dataframe thead th {\n",
       "        text-align: right;\n",
       "    }\n",
       "</style>\n",
       "<table border=\"1\" class=\"dataframe\">\n",
       "  <thead>\n",
       "    <tr style=\"text-align: right;\">\n",
       "      <th></th>\n",
       "      <th>month</th>\n",
       "      <th>start_loc</th>\n",
       "      <th>end_loc</th>\n",
       "      <th>book_in_advance</th>\n",
       "    </tr>\n",
       "  </thead>\n",
       "  <tbody>\n",
       "    <tr>\n",
       "      <th>835</th>\n",
       "      <td>9</td>\n",
       "      <td>Bellinzona</td>\n",
       "      <td>Arth-Goldau</td>\n",
       "      <td>41</td>\n",
       "    </tr>\n",
       "    <tr>\n",
       "      <th>863</th>\n",
       "      <td>9</td>\n",
       "      <td>Arth-Goldau</td>\n",
       "      <td>Bellinzona</td>\n",
       "      <td>13</td>\n",
       "    </tr>\n",
       "    <tr>\n",
       "      <th>936</th>\n",
       "      <td>9</td>\n",
       "      <td>Yverdon-les-Bains</td>\n",
       "      <td>Neuchâtel</td>\n",
       "      <td>12</td>\n",
       "    </tr>\n",
       "    <tr>\n",
       "      <th>945</th>\n",
       "      <td>9</td>\n",
       "      <td>Zürich HB</td>\n",
       "      <td>Landquart</td>\n",
       "      <td>12</td>\n",
       "    </tr>\n",
       "    <tr>\n",
       "      <th>853</th>\n",
       "      <td>9</td>\n",
       "      <td>Bern</td>\n",
       "      <td>Zürich HB</td>\n",
       "      <td>12</td>\n",
       "    </tr>\n",
       "    <tr>\n",
       "      <th>...</th>\n",
       "      <td>...</td>\n",
       "      <td>...</td>\n",
       "      <td>...</td>\n",
       "      <td>...</td>\n",
       "    </tr>\n",
       "    <tr>\n",
       "      <th>859</th>\n",
       "      <td>9</td>\n",
       "      <td>Chur</td>\n",
       "      <td>Landquart</td>\n",
       "      <td>1</td>\n",
       "    </tr>\n",
       "    <tr>\n",
       "      <th>860</th>\n",
       "      <td>9</td>\n",
       "      <td>Delémont</td>\n",
       "      <td>Biel/Bienne</td>\n",
       "      <td>1</td>\n",
       "    </tr>\n",
       "    <tr>\n",
       "      <th>894</th>\n",
       "      <td>9</td>\n",
       "      <td>Morges</td>\n",
       "      <td>Neuchâtel</td>\n",
       "      <td>1</td>\n",
       "    </tr>\n",
       "    <tr>\n",
       "      <th>893</th>\n",
       "      <td>9</td>\n",
       "      <td>Morges</td>\n",
       "      <td>Genève</td>\n",
       "      <td>1</td>\n",
       "    </tr>\n",
       "    <tr>\n",
       "      <th>861</th>\n",
       "      <td>9</td>\n",
       "      <td>Flüelen</td>\n",
       "      <td>Bellinzona</td>\n",
       "      <td>1</td>\n",
       "    </tr>\n",
       "  </tbody>\n",
       "</table>\n",
       "<p>119 rows × 4 columns</p>\n",
       "</div>"
      ],
      "text/plain": [
       "     month          start_loc      end_loc  book_in_advance\n",
       "835      9         Bellinzona  Arth-Goldau               41\n",
       "863      9        Arth-Goldau   Bellinzona               13\n",
       "936      9  Yverdon-les-Bains    Neuchâtel               12\n",
       "945      9          Zürich HB    Landquart               12\n",
       "853      9               Bern    Zürich HB               12\n",
       "..     ...                ...          ...              ...\n",
       "859      9               Chur    Landquart                1\n",
       "860      9           Delémont  Biel/Bienne                1\n",
       "894      9             Morges    Neuchâtel                1\n",
       "893      9             Morges       Genève                1\n",
       "861      9            Flüelen   Bellinzona                1\n",
       "\n",
       "[119 rows x 4 columns]"
      ]
     },
     "metadata": {},
     "output_type": "display_data"
    },
    {
     "data": {
      "text/html": [
       "<div>\n",
       "<style scoped>\n",
       "    .dataframe tbody tr th:only-of-type {\n",
       "        vertical-align: middle;\n",
       "    }\n",
       "\n",
       "    .dataframe tbody tr th {\n",
       "        vertical-align: top;\n",
       "    }\n",
       "\n",
       "    .dataframe thead th {\n",
       "        text-align: right;\n",
       "    }\n",
       "</style>\n",
       "<table border=\"1\" class=\"dataframe\">\n",
       "  <thead>\n",
       "    <tr style=\"text-align: right;\">\n",
       "      <th></th>\n",
       "      <th>month</th>\n",
       "      <th>start_loc</th>\n",
       "      <th>end_loc</th>\n",
       "      <th>book_in_advance</th>\n",
       "    </tr>\n",
       "  </thead>\n",
       "  <tbody>\n",
       "    <tr>\n",
       "      <th>953</th>\n",
       "      <td>10</td>\n",
       "      <td>Bellinzona</td>\n",
       "      <td>Arth-Goldau</td>\n",
       "      <td>31</td>\n",
       "    </tr>\n",
       "    <tr>\n",
       "      <th>968</th>\n",
       "      <td>10</td>\n",
       "      <td>Arth-Goldau</td>\n",
       "      <td>Bellinzona</td>\n",
       "      <td>15</td>\n",
       "    </tr>\n",
       "    <tr>\n",
       "      <th>1022</th>\n",
       "      <td>10</td>\n",
       "      <td>Zürich HB</td>\n",
       "      <td>Landquart</td>\n",
       "      <td>8</td>\n",
       "    </tr>\n",
       "    <tr>\n",
       "      <th>1006</th>\n",
       "      <td>10</td>\n",
       "      <td>Visp</td>\n",
       "      <td>Thun</td>\n",
       "      <td>7</td>\n",
       "    </tr>\n",
       "    <tr>\n",
       "      <th>1005</th>\n",
       "      <td>10</td>\n",
       "      <td>Visp</td>\n",
       "      <td>Spiez</td>\n",
       "      <td>6</td>\n",
       "    </tr>\n",
       "    <tr>\n",
       "      <th>...</th>\n",
       "      <td>...</td>\n",
       "      <td>...</td>\n",
       "      <td>...</td>\n",
       "      <td>...</td>\n",
       "    </tr>\n",
       "    <tr>\n",
       "      <th>1008</th>\n",
       "      <td>10</td>\n",
       "      <td>Visp</td>\n",
       "      <td>Zürich HB</td>\n",
       "      <td>1</td>\n",
       "    </tr>\n",
       "    <tr>\n",
       "      <th>984</th>\n",
       "      <td>10</td>\n",
       "      <td>Luzern</td>\n",
       "      <td>Arth-Goldau</td>\n",
       "      <td>1</td>\n",
       "    </tr>\n",
       "    <tr>\n",
       "      <th>951</th>\n",
       "      <td>10</td>\n",
       "      <td>Aarau</td>\n",
       "      <td>Zürich HB</td>\n",
       "      <td>1</td>\n",
       "    </tr>\n",
       "    <tr>\n",
       "      <th>973</th>\n",
       "      <td>10</td>\n",
       "      <td>Arth-Goldau</td>\n",
       "      <td>Zürich HB</td>\n",
       "      <td>1</td>\n",
       "    </tr>\n",
       "    <tr>\n",
       "      <th>1024</th>\n",
       "      <td>10</td>\n",
       "      <td>Zürich HB</td>\n",
       "      <td>Weinfelden</td>\n",
       "      <td>1</td>\n",
       "    </tr>\n",
       "  </tbody>\n",
       "</table>\n",
       "<p>75 rows × 4 columns</p>\n",
       "</div>"
      ],
      "text/plain": [
       "      month    start_loc      end_loc  book_in_advance\n",
       "953      10   Bellinzona  Arth-Goldau               31\n",
       "968      10  Arth-Goldau   Bellinzona               15\n",
       "1022     10    Zürich HB    Landquart                8\n",
       "1006     10         Visp         Thun                7\n",
       "1005     10         Visp        Spiez                6\n",
       "...     ...          ...          ...              ...\n",
       "1008     10         Visp    Zürich HB                1\n",
       "984      10       Luzern  Arth-Goldau                1\n",
       "951      10        Aarau    Zürich HB                1\n",
       "973      10  Arth-Goldau    Zürich HB                1\n",
       "1024     10    Zürich HB   Weinfelden                1\n",
       "\n",
       "[75 rows x 4 columns]"
      ]
     },
     "metadata": {},
     "output_type": "display_data"
    }
   ],
   "source": [
    "grouped_by_month = df_book_in_advance.groupby(by=[\"month\", \"start_loc\", \"end_loc\"])[\"book_in_advance\"].count().reset_index()\n",
    "grouped_by_month = grouped_by_month.sort_values(\"book_in_advance\", ascending=False)\n",
    "for month in range(3,11):\n",
    "    #grouped_by_month[grouped_by_month[\"month\"] == month].replace(station_mapping).to_csv(f\"busiest_tracks/{month}-21.csv\", index=False)\n",
    "    display(grouped_by_month[grouped_by_month[\"month\"] == month].replace(station_mapping))"
   ]
  },
  {
   "cell_type": "code",
   "execution_count": 8,
   "metadata": {},
   "outputs": [
    {
     "data": {
      "text/html": [
       "<div>\n",
       "<style scoped>\n",
       "    .dataframe tbody tr th:only-of-type {\n",
       "        vertical-align: middle;\n",
       "    }\n",
       "\n",
       "    .dataframe tbody tr th {\n",
       "        vertical-align: top;\n",
       "    }\n",
       "\n",
       "    .dataframe thead th {\n",
       "        text-align: right;\n",
       "    }\n",
       "</style>\n",
       "<table border=\"1\" class=\"dataframe\">\n",
       "  <thead>\n",
       "    <tr style=\"text-align: right;\">\n",
       "      <th></th>\n",
       "      <th>start_loc</th>\n",
       "      <th>end_loc</th>\n",
       "      <th>book_in_advance</th>\n",
       "    </tr>\n",
       "  </thead>\n",
       "  <tbody>\n",
       "    <tr>\n",
       "      <th>12</th>\n",
       "      <td>Bellinzona</td>\n",
       "      <td>Arth-Goldau</td>\n",
       "      <td>375</td>\n",
       "    </tr>\n",
       "    <tr>\n",
       "      <th>48</th>\n",
       "      <td>Bern</td>\n",
       "      <td>Zürich HB</td>\n",
       "      <td>213</td>\n",
       "    </tr>\n",
       "    <tr>\n",
       "      <th>267</th>\n",
       "      <td>Zürich HB</td>\n",
       "      <td>Bern</td>\n",
       "      <td>159</td>\n",
       "    </tr>\n",
       "    <tr>\n",
       "      <th>84</th>\n",
       "      <td>Arth-Goldau</td>\n",
       "      <td>Bellinzona</td>\n",
       "      <td>154</td>\n",
       "    </tr>\n",
       "    <tr>\n",
       "      <th>250</th>\n",
       "      <td>Yverdon-les-Bains</td>\n",
       "      <td>Neuchâtel</td>\n",
       "      <td>128</td>\n",
       "    </tr>\n",
       "    <tr>\n",
       "      <th>...</th>\n",
       "      <td>...</td>\n",
       "      <td>...</td>\n",
       "      <td>...</td>\n",
       "    </tr>\n",
       "    <tr>\n",
       "      <th>152</th>\n",
       "      <td>Morges</td>\n",
       "      <td>Zürich HB</td>\n",
       "      <td>1</td>\n",
       "    </tr>\n",
       "    <tr>\n",
       "      <th>150</th>\n",
       "      <td>Morges</td>\n",
       "      <td>Solothurn</td>\n",
       "      <td>1</td>\n",
       "    </tr>\n",
       "    <tr>\n",
       "      <th>149</th>\n",
       "      <td>Morges</td>\n",
       "      <td>Olten</td>\n",
       "      <td>1</td>\n",
       "    </tr>\n",
       "    <tr>\n",
       "      <th>138</th>\n",
       "      <td>Liestal</td>\n",
       "      <td>Basel SBB</td>\n",
       "      <td>1</td>\n",
       "    </tr>\n",
       "    <tr>\n",
       "      <th>147</th>\n",
       "      <td>Morges</td>\n",
       "      <td>Morges</td>\n",
       "      <td>1</td>\n",
       "    </tr>\n",
       "  </tbody>\n",
       "</table>\n",
       "<p>294 rows × 3 columns</p>\n",
       "</div>"
      ],
      "text/plain": [
       "             start_loc      end_loc  book_in_advance\n",
       "12          Bellinzona  Arth-Goldau              375\n",
       "48                Bern    Zürich HB              213\n",
       "267          Zürich HB         Bern              159\n",
       "84         Arth-Goldau   Bellinzona              154\n",
       "250  Yverdon-les-Bains    Neuchâtel              128\n",
       "..                 ...          ...              ...\n",
       "152             Morges    Zürich HB                1\n",
       "150             Morges    Solothurn                1\n",
       "149             Morges        Olten                1\n",
       "138            Liestal    Basel SBB                1\n",
       "147             Morges       Morges                1\n",
       "\n",
       "[294 rows x 3 columns]"
      ]
     },
     "execution_count": 8,
     "metadata": {},
     "output_type": "execute_result"
    }
   ],
   "source": [
    "booked_in_advance_grouped.replace(station_mapping)"
   ]
  },
  {
   "cell_type": "markdown",
   "metadata": {},
   "source": [
    "### Get list of all train stations"
   ]
  },
  {
   "cell_type": "code",
   "execution_count": 9,
   "metadata": {},
   "outputs": [],
   "source": [
    "all_stations = sorted(set(df[\"start_loc\"].replace(station_mapping)))"
   ]
  },
  {
   "cell_type": "code",
   "execution_count": 10,
   "metadata": {},
   "outputs": [
    {
     "data": {
      "text/html": [
       "<div>\n",
       "<style scoped>\n",
       "    .dataframe tbody tr th:only-of-type {\n",
       "        vertical-align: middle;\n",
       "    }\n",
       "\n",
       "    .dataframe tbody tr th {\n",
       "        vertical-align: top;\n",
       "    }\n",
       "\n",
       "    .dataframe thead th {\n",
       "        text-align: right;\n",
       "    }\n",
       "</style>\n",
       "<table border=\"1\" class=\"dataframe\">\n",
       "  <thead>\n",
       "    <tr style=\"text-align: right;\">\n",
       "      <th></th>\n",
       "      <th>lat_from</th>\n",
       "      <th>lon_from</th>\n",
       "      <th>lat_to</th>\n",
       "      <th>lon_to</th>\n",
       "      <th>book_in_advance</th>\n",
       "    </tr>\n",
       "  </thead>\n",
       "  <tbody>\n",
       "    <tr>\n",
       "      <th>12</th>\n",
       "      <td>46.195432</td>\n",
       "      <td>9.029519</td>\n",
       "      <td>47.049045</td>\n",
       "      <td>8.549446</td>\n",
       "      <td>375</td>\n",
       "    </tr>\n",
       "    <tr>\n",
       "      <th>97</th>\n",
       "      <td>46.948832</td>\n",
       "      <td>7.439131</td>\n",
       "      <td>47.378177</td>\n",
       "      <td>8.540212</td>\n",
       "      <td>213</td>\n",
       "    </tr>\n",
       "    <tr>\n",
       "      <th>217</th>\n",
       "      <td>47.378177</td>\n",
       "      <td>8.540212</td>\n",
       "      <td>46.948832</td>\n",
       "      <td>7.439131</td>\n",
       "      <td>159</td>\n",
       "    </tr>\n",
       "    <tr>\n",
       "      <th>120</th>\n",
       "      <td>47.049045</td>\n",
       "      <td>8.549446</td>\n",
       "      <td>46.195432</td>\n",
       "      <td>9.029519</td>\n",
       "      <td>154</td>\n",
       "    </tr>\n",
       "    <tr>\n",
       "      <th>71</th>\n",
       "      <td>46.781545</td>\n",
       "      <td>6.640944</td>\n",
       "      <td>46.996727</td>\n",
       "      <td>6.935702</td>\n",
       "      <td>128</td>\n",
       "    </tr>\n",
       "    <tr>\n",
       "      <th>...</th>\n",
       "      <td>...</td>\n",
       "      <td>...</td>\n",
       "      <td>...</td>\n",
       "      <td>...</td>\n",
       "      <td>...</td>\n",
       "    </tr>\n",
       "    <tr>\n",
       "      <th>167</th>\n",
       "      <td>47.204192</td>\n",
       "      <td>7.542689</td>\n",
       "      <td>46.781545</td>\n",
       "      <td>6.640944</td>\n",
       "      <td>1</td>\n",
       "    </tr>\n",
       "    <tr>\n",
       "      <th>166</th>\n",
       "      <td>47.204192</td>\n",
       "      <td>7.542689</td>\n",
       "      <td>46.516792</td>\n",
       "      <td>6.629092</td>\n",
       "      <td>1</td>\n",
       "    </tr>\n",
       "    <tr>\n",
       "      <th>165</th>\n",
       "      <td>47.204192</td>\n",
       "      <td>7.542689</td>\n",
       "      <td>46.210213</td>\n",
       "      <td>6.142452</td>\n",
       "      <td>1</td>\n",
       "    </tr>\n",
       "    <tr>\n",
       "      <th>163</th>\n",
       "      <td>47.191698</td>\n",
       "      <td>7.389619</td>\n",
       "      <td>47.419346</td>\n",
       "      <td>7.502636</td>\n",
       "      <td>1</td>\n",
       "    </tr>\n",
       "    <tr>\n",
       "      <th>293</th>\n",
       "      <td>47.566224</td>\n",
       "      <td>9.106368</td>\n",
       "      <td>47.565523</td>\n",
       "      <td>9.379371</td>\n",
       "      <td>1</td>\n",
       "    </tr>\n",
       "  </tbody>\n",
       "</table>\n",
       "<p>294 rows × 5 columns</p>\n",
       "</div>"
      ],
      "text/plain": [
       "      lat_from  lon_from     lat_to    lon_to  book_in_advance\n",
       "12   46.195432  9.029519  47.049045  8.549446              375\n",
       "97   46.948832  7.439131  47.378177  8.540212              213\n",
       "217  47.378177  8.540212  46.948832  7.439131              159\n",
       "120  47.049045  8.549446  46.195432  9.029519              154\n",
       "71   46.781545  6.640944  46.996727  6.935702              128\n",
       "..         ...       ...        ...       ...              ...\n",
       "167  47.204192  7.542689  46.781545  6.640944                1\n",
       "166  47.204192  7.542689  46.516792  6.629092                1\n",
       "165  47.204192  7.542689  46.210213  6.142452                1\n",
       "163  47.191698  7.389619  47.419346  7.502636                1\n",
       "293  47.566224  9.106368  47.565523  9.379371                1\n",
       "\n",
       "[294 rows x 5 columns]"
      ]
     },
     "execution_count": 10,
     "metadata": {},
     "output_type": "execute_result"
    }
   ],
   "source": [
    "df_book_in_advance = df[df[\"book_in_advance\"] > 0]\n",
    "booked_in_advance_grouped_coord = df_book_in_advance.groupby(by=[\"lat_from\", \"lon_from\", \"lat_to\", \"lon_to\"])[\"book_in_advance\"].count().reset_index()\n",
    "booked_in_advance_grouped_coord = booked_in_advance_grouped_coord.sort_values([\"book_in_advance\"], ascending=False)\n",
    "booked_in_advance_grouped_coord"
   ]
  },
  {
   "cell_type": "code",
   "execution_count": 12,
   "metadata": {},
   "outputs": [
    {
     "data": {
      "text/plain": [
       "['Aarau',\n",
       " 'Amriswil',\n",
       " 'Arth-Goldau',\n",
       " 'Basel SBB',\n",
       " 'Bellinzona',\n",
       " 'Bern',\n",
       " 'Biasca',\n",
       " 'Biel/Bienne',\n",
       " 'Brig',\n",
       " 'Chiasso',\n",
       " 'Chur',\n",
       " 'Delémont',\n",
       " 'Flawil',\n",
       " 'Flüelen',\n",
       " 'Frauenfeld',\n",
       " 'Fribourg/Freiburg',\n",
       " 'Frutigen',\n",
       " 'Genève',\n",
       " 'Genève-Aéroport',\n",
       " 'Gossau SG',\n",
       " 'Grenchen Nord',\n",
       " 'Grenchen Süd',\n",
       " 'Interlaken Ost',\n",
       " 'Landquart',\n",
       " 'Laufen',\n",
       " 'Lausanne',\n",
       " 'Lenzburg',\n",
       " 'Liestal',\n",
       " 'Locarno',\n",
       " 'Lugano',\n",
       " 'Luzern',\n",
       " 'Mendrisio',\n",
       " 'Morges',\n",
       " 'Moutier',\n",
       " 'Münsingen',\n",
       " 'Neuchâtel',\n",
       " 'Nyon',\n",
       " 'Oensingen',\n",
       " 'Olten',\n",
       " 'Romanshorn',\n",
       " 'Sargans',\n",
       " 'Sissach',\n",
       " 'Solothurn',\n",
       " 'Spiez',\n",
       " 'St. Gallen',\n",
       " 'Thun',\n",
       " 'Uzwil',\n",
       " 'Visp',\n",
       " 'Weinfelden',\n",
       " 'Wil SG',\n",
       " 'Winterthur',\n",
       " 'Yverdon-les-Bains',\n",
       " 'Zug',\n",
       " 'Zürich Flughafen',\n",
       " 'Zürich HB',\n",
       " 'Zürich Oerlikon']"
      ]
     },
     "execution_count": 12,
     "metadata": {},
     "output_type": "execute_result"
    }
   ],
   "source": [
    "all_stations"
   ]
  },
  {
   "cell_type": "code",
   "execution_count": 13,
   "metadata": {},
   "outputs": [
    {
     "data": {
      "text/html": [
       "<div>\n",
       "<style scoped>\n",
       "    .dataframe tbody tr th:only-of-type {\n",
       "        vertical-align: middle;\n",
       "    }\n",
       "\n",
       "    .dataframe tbody tr th {\n",
       "        vertical-align: top;\n",
       "    }\n",
       "\n",
       "    .dataframe thead th {\n",
       "        text-align: right;\n",
       "    }\n",
       "</style>\n",
       "<table border=\"1\" class=\"dataframe\">\n",
       "  <thead>\n",
       "    <tr style=\"text-align: right;\">\n",
       "      <th></th>\n",
       "      <th>abk_bahnhof</th>\n",
       "      <th>Name Haltestelle</th>\n",
       "      <th>lat</th>\n",
       "      <th>lon</th>\n",
       "    </tr>\n",
       "  </thead>\n",
       "  <tbody>\n",
       "    <tr>\n",
       "      <th>148</th>\n",
       "      <td>LG</td>\n",
       "      <td>Lugano</td>\n",
       "      <td>46.005501</td>\n",
       "      <td>8.946995</td>\n",
       "    </tr>\n",
       "    <tr>\n",
       "      <th>149</th>\n",
       "      <td>BN</td>\n",
       "      <td>Bern</td>\n",
       "      <td>46.948832</td>\n",
       "      <td>7.439131</td>\n",
       "    </tr>\n",
       "    <tr>\n",
       "      <th>682</th>\n",
       "      <td>OEN</td>\n",
       "      <td>Oensingen</td>\n",
       "      <td>47.285035</td>\n",
       "      <td>7.709870</td>\n",
       "    </tr>\n",
       "    <tr>\n",
       "      <th>1119</th>\n",
       "      <td>BIA</td>\n",
       "      <td>Biasca</td>\n",
       "      <td>46.351984</td>\n",
       "      <td>8.974179</td>\n",
       "    </tr>\n",
       "    <tr>\n",
       "      <th>1596</th>\n",
       "      <td>SA</td>\n",
       "      <td>Sargans</td>\n",
       "      <td>47.044824</td>\n",
       "      <td>9.446260</td>\n",
       "    </tr>\n",
       "    <tr>\n",
       "      <th>2927</th>\n",
       "      <td>FF</td>\n",
       "      <td>Frauenfeld</td>\n",
       "      <td>47.558163</td>\n",
       "      <td>8.896560</td>\n",
       "    </tr>\n",
       "    <tr>\n",
       "      <th>3377</th>\n",
       "      <td>NE</td>\n",
       "      <td>Neuchâtel</td>\n",
       "      <td>46.996727</td>\n",
       "      <td>6.935702</td>\n",
       "    </tr>\n",
       "    <tr>\n",
       "      <th>3588</th>\n",
       "      <td>ZOER</td>\n",
       "      <td>Zürich Oerlikon</td>\n",
       "      <td>47.411530</td>\n",
       "      <td>8.544140</td>\n",
       "    </tr>\n",
       "    <tr>\n",
       "      <th>5313</th>\n",
       "      <td>ZG</td>\n",
       "      <td>Zug</td>\n",
       "      <td>47.173707</td>\n",
       "      <td>8.515049</td>\n",
       "    </tr>\n",
       "    <tr>\n",
       "      <th>5315</th>\n",
       "      <td>AA</td>\n",
       "      <td>Aarau</td>\n",
       "      <td>47.391360</td>\n",
       "      <td>8.051274</td>\n",
       "    </tr>\n",
       "    <tr>\n",
       "      <th>5328</th>\n",
       "      <td>BR</td>\n",
       "      <td>Brig</td>\n",
       "      <td>46.319423</td>\n",
       "      <td>7.988095</td>\n",
       "    </tr>\n",
       "    <tr>\n",
       "      <th>5382</th>\n",
       "      <td>LFN</td>\n",
       "      <td>Laufen</td>\n",
       "      <td>47.419346</td>\n",
       "      <td>7.502636</td>\n",
       "    </tr>\n",
       "    <tr>\n",
       "      <th>5433</th>\n",
       "      <td>AW</td>\n",
       "      <td>Amriswil</td>\n",
       "      <td>47.550450</td>\n",
       "      <td>9.302227</td>\n",
       "    </tr>\n",
       "    <tr>\n",
       "      <th>7087</th>\n",
       "      <td>GN</td>\n",
       "      <td>Grenchen Nord</td>\n",
       "      <td>47.191698</td>\n",
       "      <td>7.389619</td>\n",
       "    </tr>\n",
       "    <tr>\n",
       "      <th>7103</th>\n",
       "      <td>MOU</td>\n",
       "      <td>Moutier</td>\n",
       "      <td>47.280673</td>\n",
       "      <td>7.381044</td>\n",
       "    </tr>\n",
       "    <tr>\n",
       "      <th>7593</th>\n",
       "      <td>SO</td>\n",
       "      <td>Solothurn</td>\n",
       "      <td>47.204192</td>\n",
       "      <td>7.542689</td>\n",
       "    </tr>\n",
       "    <tr>\n",
       "      <th>7777</th>\n",
       "      <td>GS</td>\n",
       "      <td>Grenchen Süd</td>\n",
       "      <td>47.188775</td>\n",
       "      <td>7.398180</td>\n",
       "    </tr>\n",
       "    <tr>\n",
       "      <th>7821</th>\n",
       "      <td>IO</td>\n",
       "      <td>Interlaken Ost</td>\n",
       "      <td>46.690500</td>\n",
       "      <td>7.869000</td>\n",
       "    </tr>\n",
       "    <tr>\n",
       "      <th>8831</th>\n",
       "      <td>OL</td>\n",
       "      <td>Olten</td>\n",
       "      <td>47.351935</td>\n",
       "      <td>7.907700</td>\n",
       "    </tr>\n",
       "    <tr>\n",
       "      <th>8975</th>\n",
       "      <td>SP</td>\n",
       "      <td>Spiez</td>\n",
       "      <td>46.686396</td>\n",
       "      <td>7.680103</td>\n",
       "    </tr>\n",
       "    <tr>\n",
       "      <th>9029</th>\n",
       "      <td>FR</td>\n",
       "      <td>Frutigen</td>\n",
       "      <td>46.588908</td>\n",
       "      <td>7.651418</td>\n",
       "    </tr>\n",
       "    <tr>\n",
       "      <th>12521</th>\n",
       "      <td>NY</td>\n",
       "      <td>Nyon</td>\n",
       "      <td>46.384419</td>\n",
       "      <td>6.235966</td>\n",
       "    </tr>\n",
       "    <tr>\n",
       "      <th>12737</th>\n",
       "      <td>GE</td>\n",
       "      <td>Genève</td>\n",
       "      <td>46.210213</td>\n",
       "      <td>6.142452</td>\n",
       "    </tr>\n",
       "    <tr>\n",
       "      <th>13158</th>\n",
       "      <td>LO</td>\n",
       "      <td>Locarno</td>\n",
       "      <td>46.172420</td>\n",
       "      <td>8.801361</td>\n",
       "    </tr>\n",
       "    <tr>\n",
       "      <th>13633</th>\n",
       "      <td>VI</td>\n",
       "      <td>Visp</td>\n",
       "      <td>46.294029</td>\n",
       "      <td>7.881465</td>\n",
       "    </tr>\n",
       "    <tr>\n",
       "      <th>13859</th>\n",
       "      <td>TH</td>\n",
       "      <td>Thun</td>\n",
       "      <td>46.754853</td>\n",
       "      <td>7.629606</td>\n",
       "    </tr>\n",
       "    <tr>\n",
       "      <th>14496</th>\n",
       "      <td>CH</td>\n",
       "      <td>Chur</td>\n",
       "      <td>46.853084</td>\n",
       "      <td>9.528938</td>\n",
       "    </tr>\n",
       "    <tr>\n",
       "      <th>14693</th>\n",
       "      <td>BI</td>\n",
       "      <td>Biel/Bienne</td>\n",
       "      <td>47.132898</td>\n",
       "      <td>7.242911</td>\n",
       "    </tr>\n",
       "    <tr>\n",
       "      <th>15102</th>\n",
       "      <td>W</td>\n",
       "      <td>Winterthur</td>\n",
       "      <td>47.500334</td>\n",
       "      <td>8.723821</td>\n",
       "    </tr>\n",
       "    <tr>\n",
       "      <th>15248</th>\n",
       "      <td>MEN</td>\n",
       "      <td>Mendrisio</td>\n",
       "      <td>45.869109</td>\n",
       "      <td>8.978611</td>\n",
       "    </tr>\n",
       "    <tr>\n",
       "      <th>15362</th>\n",
       "      <td>FL</td>\n",
       "      <td>Flüelen</td>\n",
       "      <td>46.901730</td>\n",
       "      <td>8.624303</td>\n",
       "    </tr>\n",
       "    <tr>\n",
       "      <th>15539</th>\n",
       "      <td>CHI</td>\n",
       "      <td>Chiasso</td>\n",
       "      <td>45.832168</td>\n",
       "      <td>9.031450</td>\n",
       "    </tr>\n",
       "    <tr>\n",
       "      <th>15683</th>\n",
       "      <td>SG</td>\n",
       "      <td>St. Gallen</td>\n",
       "      <td>47.423179</td>\n",
       "      <td>9.369897</td>\n",
       "    </tr>\n",
       "    <tr>\n",
       "      <th>17154</th>\n",
       "      <td>SIS</td>\n",
       "      <td>Sissach</td>\n",
       "      <td>47.462754</td>\n",
       "      <td>7.812028</td>\n",
       "    </tr>\n",
       "    <tr>\n",
       "      <th>17186</th>\n",
       "      <td>FLA</td>\n",
       "      <td>Flawil</td>\n",
       "      <td>47.415189</td>\n",
       "      <td>9.189786</td>\n",
       "    </tr>\n",
       "    <tr>\n",
       "      <th>17188</th>\n",
       "      <td>UZW</td>\n",
       "      <td>Uzwil</td>\n",
       "      <td>47.436444</td>\n",
       "      <td>9.130992</td>\n",
       "    </tr>\n",
       "    <tr>\n",
       "      <th>17713</th>\n",
       "      <td>LB</td>\n",
       "      <td>Lenzburg</td>\n",
       "      <td>47.391200</td>\n",
       "      <td>8.170393</td>\n",
       "    </tr>\n",
       "    <tr>\n",
       "      <th>19999</th>\n",
       "      <td>MOR</td>\n",
       "      <td>Morges</td>\n",
       "      <td>46.511101</td>\n",
       "      <td>6.493970</td>\n",
       "    </tr>\n",
       "    <tr>\n",
       "      <th>22608</th>\n",
       "      <td>LZ</td>\n",
       "      <td>Luzern</td>\n",
       "      <td>47.050178</td>\n",
       "      <td>8.310183</td>\n",
       "    </tr>\n",
       "    <tr>\n",
       "      <th>22807</th>\n",
       "      <td>ZUE</td>\n",
       "      <td>Zürich HB</td>\n",
       "      <td>47.378177</td>\n",
       "      <td>8.540212</td>\n",
       "    </tr>\n",
       "    <tr>\n",
       "      <th>27283</th>\n",
       "      <td>DMT</td>\n",
       "      <td>Delémont</td>\n",
       "      <td>47.362013</td>\n",
       "      <td>7.350063</td>\n",
       "    </tr>\n",
       "    <tr>\n",
       "      <th>27322</th>\n",
       "      <td>GSS</td>\n",
       "      <td>Gossau SG</td>\n",
       "      <td>47.411832</td>\n",
       "      <td>9.253051</td>\n",
       "    </tr>\n",
       "    <tr>\n",
       "      <th>27350</th>\n",
       "      <td>ZFH</td>\n",
       "      <td>Zürich Flughafen</td>\n",
       "      <td>47.450386</td>\n",
       "      <td>8.562402</td>\n",
       "    </tr>\n",
       "    <tr>\n",
       "      <th>27360</th>\n",
       "      <td>WF</td>\n",
       "      <td>Weinfelden</td>\n",
       "      <td>47.566224</td>\n",
       "      <td>9.106368</td>\n",
       "    </tr>\n",
       "    <tr>\n",
       "      <th>35051</th>\n",
       "      <td>RH</td>\n",
       "      <td>Romanshorn</td>\n",
       "      <td>47.565523</td>\n",
       "      <td>9.379371</td>\n",
       "    </tr>\n",
       "    <tr>\n",
       "      <th>39191</th>\n",
       "      <td>LST</td>\n",
       "      <td>Liestal</td>\n",
       "      <td>47.484461</td>\n",
       "      <td>7.731367</td>\n",
       "    </tr>\n",
       "    <tr>\n",
       "      <th>39318</th>\n",
       "      <td>MS</td>\n",
       "      <td>Münsingen</td>\n",
       "      <td>46.873354</td>\n",
       "      <td>7.559442</td>\n",
       "    </tr>\n",
       "    <tr>\n",
       "      <th>39658</th>\n",
       "      <td>BEL</td>\n",
       "      <td>Bellinzona</td>\n",
       "      <td>46.195432</td>\n",
       "      <td>9.029519</td>\n",
       "    </tr>\n",
       "    <tr>\n",
       "      <th>40454</th>\n",
       "      <td>FRI</td>\n",
       "      <td>Fribourg/Freiburg</td>\n",
       "      <td>46.803148</td>\n",
       "      <td>7.151047</td>\n",
       "    </tr>\n",
       "    <tr>\n",
       "      <th>41300</th>\n",
       "      <td>YV</td>\n",
       "      <td>Yverdon-les-Bains</td>\n",
       "      <td>46.781545</td>\n",
       "      <td>6.640944</td>\n",
       "    </tr>\n",
       "    <tr>\n",
       "      <th>42671</th>\n",
       "      <td>LS</td>\n",
       "      <td>Lausanne</td>\n",
       "      <td>46.516792</td>\n",
       "      <td>6.629092</td>\n",
       "    </tr>\n",
       "    <tr>\n",
       "      <th>42881</th>\n",
       "      <td>LQ</td>\n",
       "      <td>Landquart</td>\n",
       "      <td>46.967440</td>\n",
       "      <td>9.554045</td>\n",
       "    </tr>\n",
       "    <tr>\n",
       "      <th>43010</th>\n",
       "      <td>GEAP</td>\n",
       "      <td>Genève-Aéroport</td>\n",
       "      <td>46.232539</td>\n",
       "      <td>6.111986</td>\n",
       "    </tr>\n",
       "    <tr>\n",
       "      <th>44551</th>\n",
       "      <td>GD</td>\n",
       "      <td>Arth-Goldau</td>\n",
       "      <td>47.049045</td>\n",
       "      <td>8.549446</td>\n",
       "    </tr>\n",
       "    <tr>\n",
       "      <th>44626</th>\n",
       "      <td>BS</td>\n",
       "      <td>Basel SBB</td>\n",
       "      <td>47.547412</td>\n",
       "      <td>7.589563</td>\n",
       "    </tr>\n",
       "    <tr>\n",
       "      <th>44635</th>\n",
       "      <td>WIL</td>\n",
       "      <td>Wil SG</td>\n",
       "      <td>47.462413</td>\n",
       "      <td>9.040993</td>\n",
       "    </tr>\n",
       "  </tbody>\n",
       "</table>\n",
       "</div>"
      ],
      "text/plain": [
       "      abk_bahnhof   Name Haltestelle        lat       lon\n",
       "148            LG             Lugano  46.005501  8.946995\n",
       "149            BN               Bern  46.948832  7.439131\n",
       "682           OEN          Oensingen  47.285035  7.709870\n",
       "1119          BIA             Biasca  46.351984  8.974179\n",
       "1596           SA            Sargans  47.044824  9.446260\n",
       "2927           FF         Frauenfeld  47.558163  8.896560\n",
       "3377           NE          Neuchâtel  46.996727  6.935702\n",
       "3588         ZOER    Zürich Oerlikon  47.411530  8.544140\n",
       "5313           ZG                Zug  47.173707  8.515049\n",
       "5315           AA              Aarau  47.391360  8.051274\n",
       "5328           BR               Brig  46.319423  7.988095\n",
       "5382          LFN             Laufen  47.419346  7.502636\n",
       "5433           AW           Amriswil  47.550450  9.302227\n",
       "7087           GN      Grenchen Nord  47.191698  7.389619\n",
       "7103          MOU            Moutier  47.280673  7.381044\n",
       "7593           SO          Solothurn  47.204192  7.542689\n",
       "7777           GS       Grenchen Süd  47.188775  7.398180\n",
       "7821           IO     Interlaken Ost  46.690500  7.869000\n",
       "8831           OL              Olten  47.351935  7.907700\n",
       "8975           SP              Spiez  46.686396  7.680103\n",
       "9029           FR           Frutigen  46.588908  7.651418\n",
       "12521          NY               Nyon  46.384419  6.235966\n",
       "12737          GE             Genève  46.210213  6.142452\n",
       "13158          LO            Locarno  46.172420  8.801361\n",
       "13633          VI               Visp  46.294029  7.881465\n",
       "13859          TH               Thun  46.754853  7.629606\n",
       "14496          CH               Chur  46.853084  9.528938\n",
       "14693          BI        Biel/Bienne  47.132898  7.242911\n",
       "15102           W         Winterthur  47.500334  8.723821\n",
       "15248         MEN          Mendrisio  45.869109  8.978611\n",
       "15362          FL            Flüelen  46.901730  8.624303\n",
       "15539         CHI            Chiasso  45.832168  9.031450\n",
       "15683          SG         St. Gallen  47.423179  9.369897\n",
       "17154         SIS            Sissach  47.462754  7.812028\n",
       "17186         FLA             Flawil  47.415189  9.189786\n",
       "17188         UZW              Uzwil  47.436444  9.130992\n",
       "17713          LB           Lenzburg  47.391200  8.170393\n",
       "19999         MOR             Morges  46.511101  6.493970\n",
       "22608          LZ             Luzern  47.050178  8.310183\n",
       "22807         ZUE          Zürich HB  47.378177  8.540212\n",
       "27283         DMT           Delémont  47.362013  7.350063\n",
       "27322         GSS          Gossau SG  47.411832  9.253051\n",
       "27350         ZFH   Zürich Flughafen  47.450386  8.562402\n",
       "27360          WF         Weinfelden  47.566224  9.106368\n",
       "35051          RH         Romanshorn  47.565523  9.379371\n",
       "39191         LST            Liestal  47.484461  7.731367\n",
       "39318          MS          Münsingen  46.873354  7.559442\n",
       "39658         BEL         Bellinzona  46.195432  9.029519\n",
       "40454         FRI  Fribourg/Freiburg  46.803148  7.151047\n",
       "41300          YV  Yverdon-les-Bains  46.781545  6.640944\n",
       "42671          LS           Lausanne  46.516792  6.629092\n",
       "42881          LQ          Landquart  46.967440  9.554045\n",
       "43010        GEAP    Genève-Aéroport  46.232539  6.111986\n",
       "44551          GD        Arth-Goldau  47.049045  8.549446\n",
       "44626          BS          Basel SBB  47.547412  7.589563\n",
       "44635         WIL             Wil SG  47.462413  9.040993"
      ]
     },
     "execution_count": 13,
     "metadata": {},
     "output_type": "execute_result"
    }
   ],
   "source": [
    "import numpy as np\n",
    "IC_train_stations = train_stations[np.isin(train_stations[\"Name Haltestelle\"], all_stations)]\n",
    "IC_train_stations"
   ]
  },
  {
   "cell_type": "code",
   "execution_count": 14,
   "metadata": {},
   "outputs": [
    {
     "data": {
      "text/html": [
       "<div>\n",
       "<style scoped>\n",
       "    .dataframe tbody tr th:only-of-type {\n",
       "        vertical-align: middle;\n",
       "    }\n",
       "\n",
       "    .dataframe tbody tr th {\n",
       "        vertical-align: top;\n",
       "    }\n",
       "\n",
       "    .dataframe thead th {\n",
       "        text-align: right;\n",
       "    }\n",
       "</style>\n",
       "<table border=\"1\" class=\"dataframe\">\n",
       "  <thead>\n",
       "    <tr style=\"text-align: right;\">\n",
       "      <th></th>\n",
       "      <th>lat_from</th>\n",
       "      <th>lon_from</th>\n",
       "      <th>lat_to</th>\n",
       "      <th>lon_to</th>\n",
       "      <th>book_in_advance</th>\n",
       "    </tr>\n",
       "  </thead>\n",
       "  <tbody>\n",
       "    <tr>\n",
       "      <th>12</th>\n",
       "      <td>46.195432</td>\n",
       "      <td>9.029519</td>\n",
       "      <td>47.049045</td>\n",
       "      <td>8.549446</td>\n",
       "      <td>375</td>\n",
       "    </tr>\n",
       "    <tr>\n",
       "      <th>97</th>\n",
       "      <td>46.948832</td>\n",
       "      <td>7.439131</td>\n",
       "      <td>47.378177</td>\n",
       "      <td>8.540212</td>\n",
       "      <td>213</td>\n",
       "    </tr>\n",
       "    <tr>\n",
       "      <th>217</th>\n",
       "      <td>47.378177</td>\n",
       "      <td>8.540212</td>\n",
       "      <td>46.948832</td>\n",
       "      <td>7.439131</td>\n",
       "      <td>159</td>\n",
       "    </tr>\n",
       "    <tr>\n",
       "      <th>120</th>\n",
       "      <td>47.049045</td>\n",
       "      <td>8.549446</td>\n",
       "      <td>46.195432</td>\n",
       "      <td>9.029519</td>\n",
       "      <td>154</td>\n",
       "    </tr>\n",
       "    <tr>\n",
       "      <th>71</th>\n",
       "      <td>46.781545</td>\n",
       "      <td>6.640944</td>\n",
       "      <td>46.996727</td>\n",
       "      <td>6.935702</td>\n",
       "      <td>128</td>\n",
       "    </tr>\n",
       "    <tr>\n",
       "      <th>...</th>\n",
       "      <td>...</td>\n",
       "      <td>...</td>\n",
       "      <td>...</td>\n",
       "      <td>...</td>\n",
       "      <td>...</td>\n",
       "    </tr>\n",
       "    <tr>\n",
       "      <th>167</th>\n",
       "      <td>47.204192</td>\n",
       "      <td>7.542689</td>\n",
       "      <td>46.781545</td>\n",
       "      <td>6.640944</td>\n",
       "      <td>1</td>\n",
       "    </tr>\n",
       "    <tr>\n",
       "      <th>166</th>\n",
       "      <td>47.204192</td>\n",
       "      <td>7.542689</td>\n",
       "      <td>46.516792</td>\n",
       "      <td>6.629092</td>\n",
       "      <td>1</td>\n",
       "    </tr>\n",
       "    <tr>\n",
       "      <th>165</th>\n",
       "      <td>47.204192</td>\n",
       "      <td>7.542689</td>\n",
       "      <td>46.210213</td>\n",
       "      <td>6.142452</td>\n",
       "      <td>1</td>\n",
       "    </tr>\n",
       "    <tr>\n",
       "      <th>163</th>\n",
       "      <td>47.191698</td>\n",
       "      <td>7.389619</td>\n",
       "      <td>47.419346</td>\n",
       "      <td>7.502636</td>\n",
       "      <td>1</td>\n",
       "    </tr>\n",
       "    <tr>\n",
       "      <th>293</th>\n",
       "      <td>47.566224</td>\n",
       "      <td>9.106368</td>\n",
       "      <td>47.565523</td>\n",
       "      <td>9.379371</td>\n",
       "      <td>1</td>\n",
       "    </tr>\n",
       "  </tbody>\n",
       "</table>\n",
       "<p>294 rows × 5 columns</p>\n",
       "</div>"
      ],
      "text/plain": [
       "      lat_from  lon_from     lat_to    lon_to  book_in_advance\n",
       "12   46.195432  9.029519  47.049045  8.549446              375\n",
       "97   46.948832  7.439131  47.378177  8.540212              213\n",
       "217  47.378177  8.540212  46.948832  7.439131              159\n",
       "120  47.049045  8.549446  46.195432  9.029519              154\n",
       "71   46.781545  6.640944  46.996727  6.935702              128\n",
       "..         ...       ...        ...       ...              ...\n",
       "167  47.204192  7.542689  46.781545  6.640944                1\n",
       "166  47.204192  7.542689  46.516792  6.629092                1\n",
       "165  47.204192  7.542689  46.210213  6.142452                1\n",
       "163  47.191698  7.389619  47.419346  7.502636                1\n",
       "293  47.566224  9.106368  47.565523  9.379371                1\n",
       "\n",
       "[294 rows x 5 columns]"
      ]
     },
     "execution_count": 14,
     "metadata": {},
     "output_type": "execute_result"
    }
   ],
   "source": [
    "booked_in_advance_grouped_coord"
   ]
  },
  {
   "cell_type": "code",
   "execution_count": 38,
   "metadata": {},
   "outputs": [
    {
     "data": {
      "application/vnd.plotly.v1+json": {
       "config": {
        "plotlyServerURL": "https://plot.ly"
       },
       "data": [
        {
         "hoverinfo": "text",
         "lat": [
          46.00550055,
          46.94883229,
          47.28503511,
          46.35198415,
          47.04482351,
          47.5581634,
          46.99672679,
          47.41153004,
          47.17370698,
          47.39135951,
          46.31942271,
          47.41934648,
          47.55044972,
          47.19169821,
          47.28067252,
          47.2041925,
          47.18877469,
          46.6905,
          47.35193476,
          46.68639567,
          46.58890754,
          46.38441897,
          46.2102129,
          46.17242019,
          46.29402914,
          46.75485273,
          46.85308416,
          47.13289787,
          47.50033381,
          45.86910861,
          46.90173017,
          45.83216803,
          47.42317895,
          47.46275412,
          47.41518938,
          47.436444,
          47.39119976,
          46.5111012,
          47.05017783,
          47.37817667,
          47.3620127,
          47.41183158,
          47.45038563,
          47.56622426,
          47.56552286,
          47.48446117,
          46.87335415,
          46.19543179,
          46.80314817,
          46.78154519,
          46.51679184,
          46.96744043,
          46.23253853,
          47.04904488,
          47.54741206,
          47.46241324
         ],
         "lon": [
          8.946995309,
          7.43913089,
          7.709870322,
          8.974179217,
          9.446260475,
          8.896559673,
          6.935701694,
          8.54413991,
          8.515049341,
          8.051273719,
          7.988094739,
          7.502636131,
          9.302227201,
          7.389618663,
          7.381044296,
          7.542689211,
          7.398180061,
          7.869000004,
          7.907699648,
          7.680103058,
          7.651418315,
          6.235966131,
          6.142451595,
          8.801360899,
          7.881465476,
          7.629605829,
          9.528937733,
          7.242910603,
          8.723821055,
          8.97861092,
          8.624302653,
          9.031449562,
          9.369896663,
          7.81202757,
          9.189785591,
          9.130991819,
          8.170392889,
          6.493969501,
          8.310183207,
          8.540212349,
          7.350063323,
          9.253050693,
          8.56240182,
          9.106368222,
          9.379371292,
          7.731367481,
          7.559442396,
          9.029518512,
          7.151046883,
          6.640944002,
          6.629092303,
          9.554044692,
          6.111985573,
          8.549446301,
          7.58956279,
          9.04099305
         ],
         "marker": {
          "color": "rgb(255, 0, 0)",
          "line": {
           "color": "rgba(68, 68, 68, 0)",
           "width": 3
          },
          "size": 5
         },
         "mode": "markers",
         "text": [
          "Lugano",
          "Bern",
          "Oensingen",
          "Biasca",
          "Sargans",
          "Frauenfeld",
          "Neuchâtel",
          "Zürich Oerlikon",
          "Zug",
          "Aarau",
          "Brig",
          "Laufen",
          "Amriswil",
          "Grenchen Nord",
          "Moutier",
          "Solothurn",
          "Grenchen Süd",
          "Interlaken Ost",
          "Olten",
          "Spiez",
          "Frutigen",
          "Nyon",
          "Genève",
          "Locarno",
          "Visp",
          "Thun",
          "Chur",
          "Biel/Bienne",
          "Winterthur",
          "Mendrisio",
          "Flüelen",
          "Chiasso",
          "St. Gallen",
          "Sissach",
          "Flawil",
          "Uzwil",
          "Lenzburg",
          "Morges",
          "Luzern",
          "Zürich HB",
          "Delémont",
          "Gossau SG",
          "Zürich Flughafen",
          "Weinfelden",
          "Romanshorn",
          "Liestal",
          "Münsingen",
          "Bellinzona",
          "Fribourg/Freiburg",
          "Yverdon-les-Bains",
          "Lausanne",
          "Landquart",
          "Genève-Aéroport",
          "Arth-Goldau",
          "Basel SBB",
          "Wil SG"
         ],
         "type": "scattergeo"
        },
        {
         "hoverinfo": "skip",
         "lat": [
          46.00550055,
          46.19543179
         ],
         "line": {
          "color": "red",
          "width": 5
         },
         "lon": [
          8.946995309,
          9.029518512
         ],
         "mode": "lines",
         "opacity": 0.034666666666666665,
         "type": "scattergeo"
        },
        {
         "hoverinfo": "skip",
         "lat": [
          46.00550055,
          46.90173017
         ],
         "line": {
          "color": "red",
          "width": 5
         },
         "lon": [
          8.946995309,
          8.624302653
         ],
         "mode": "lines",
         "opacity": 0.0026666666666666666,
         "type": "scattergeo"
        },
        {
         "hoverinfo": "skip",
         "lat": [
          46.00550055,
          47.04904488
         ],
         "line": {
          "color": "red",
          "width": 5
         },
         "lon": [
          8.946995309,
          8.549446301
         ],
         "mode": "lines",
         "opacity": 0.058666666666666666,
         "type": "scattergeo"
        },
        {
         "hoverinfo": "skip",
         "lat": [
          46.00550055,
          47.05017783
         ],
         "line": {
          "color": "red",
          "width": 5
         },
         "lon": [
          8.946995309,
          8.310183207
         ],
         "mode": "lines",
         "opacity": 0.016,
         "type": "scattergeo"
        },
        {
         "hoverinfo": "skip",
         "lat": [
          46.00550055,
          47.17370698
         ],
         "line": {
          "color": "red",
          "width": 5
         },
         "lon": [
          8.946995309,
          8.515049341
         ],
         "mode": "lines",
         "opacity": 0.016,
         "type": "scattergeo"
        },
        {
         "hoverinfo": "skip",
         "lat": [
          46.00550055,
          47.35193476
         ],
         "line": {
          "color": "red",
          "width": 5
         },
         "lon": [
          8.946995309,
          7.907699648
         ],
         "mode": "lines",
         "opacity": 0.005333333333333333,
         "type": "scattergeo"
        },
        {
         "hoverinfo": "skip",
         "lat": [
          46.00550055,
          47.37817667
         ],
         "line": {
          "color": "red",
          "width": 5
         },
         "lon": [
          8.946995309,
          8.540212349
         ],
         "mode": "lines",
         "opacity": 0.029333333333333333,
         "type": "scattergeo"
        },
        {
         "hoverinfo": "skip",
         "lat": [
          46.00550055,
          47.54741206
         ],
         "line": {
          "color": "red",
          "width": 5
         },
         "lon": [
          8.946995309,
          7.58956279
         ],
         "mode": "lines",
         "opacity": 0.0026666666666666666,
         "type": "scattergeo"
        },
        {
         "hoverinfo": "skip",
         "lat": [
          46.17242019,
          47.37817667
         ],
         "line": {
          "color": "red",
          "width": 5
         },
         "lon": [
          8.801360899,
          8.540212349
         ],
         "mode": "lines",
         "opacity": 0.0026666666666666666,
         "type": "scattergeo"
        },
        {
         "hoverinfo": "skip",
         "lat": [
          46.19543179,
          46.00550055
         ],
         "line": {
          "color": "red",
          "width": 5
         },
         "lon": [
          9.029518512,
          8.946995309
         ],
         "mode": "lines",
         "opacity": 0.016,
         "type": "scattergeo"
        },
        {
         "hoverinfo": "skip",
         "lat": [
          46.19543179,
          46.19543179
         ],
         "line": {
          "color": "red",
          "width": 5
         },
         "lon": [
          9.029518512,
          9.029518512
         ],
         "mode": "lines",
         "opacity": 0.008,
         "type": "scattergeo"
        },
        {
         "hoverinfo": "skip",
         "lat": [
          46.19543179,
          46.90173017
         ],
         "line": {
          "color": "red",
          "width": 5
         },
         "lon": [
          9.029518512,
          8.624302653
         ],
         "mode": "lines",
         "opacity": 0.04,
         "type": "scattergeo"
        },
        {
         "hoverinfo": "skip",
         "lat": [
          46.19543179,
          47.04904488
         ],
         "line": {
          "color": "red",
          "width": 5
         },
         "lon": [
          9.029518512,
          8.549446301
         ],
         "mode": "lines",
         "opacity": 1,
         "type": "scattergeo"
        },
        {
         "hoverinfo": "skip",
         "lat": [
          46.19543179,
          47.05017783
         ],
         "line": {
          "color": "red",
          "width": 5
         },
         "lon": [
          9.029518512,
          8.310183207
         ],
         "mode": "lines",
         "opacity": 0.08,
         "type": "scattergeo"
        },
        {
         "hoverinfo": "skip",
         "lat": [
          46.19543179,
          47.17370698
         ],
         "line": {
          "color": "red",
          "width": 5
         },
         "lon": [
          9.029518512,
          8.515049341
         ],
         "mode": "lines",
         "opacity": 0.10933333333333334,
         "type": "scattergeo"
        },
        {
         "hoverinfo": "skip",
         "lat": [
          46.19543179,
          47.35193476
         ],
         "line": {
          "color": "red",
          "width": 5
         },
         "lon": [
          9.029518512,
          7.907699648
         ],
         "mode": "lines",
         "opacity": 0.010666666666666666,
         "type": "scattergeo"
        },
        {
         "hoverinfo": "skip",
         "lat": [
          46.19543179,
          47.37817667
         ],
         "line": {
          "color": "red",
          "width": 5
         },
         "lon": [
          9.029518512,
          8.540212349
         ],
         "mode": "lines",
         "opacity": 0.17333333333333334,
         "type": "scattergeo"
        },
        {
         "hoverinfo": "skip",
         "lat": [
          46.19543179,
          47.54741206
         ],
         "line": {
          "color": "red",
          "width": 5
         },
         "lon": [
          9.029518512,
          7.58956279
         ],
         "mode": "lines",
         "opacity": 0.010666666666666666,
         "type": "scattergeo"
        },
        {
         "hoverinfo": "skip",
         "lat": [
          46.2102129,
          46.5111012
         ],
         "line": {
          "color": "red",
          "width": 5
         },
         "lon": [
          6.142451595,
          6.493969501
         ],
         "mode": "lines",
         "opacity": 0.037333333333333336,
         "type": "scattergeo"
        },
        {
         "hoverinfo": "skip",
         "lat": [
          46.2102129,
          46.51679184
         ],
         "line": {
          "color": "red",
          "width": 5
         },
         "lon": [
          6.142451595,
          6.629092303
         ],
         "mode": "lines",
         "opacity": 0.005333333333333333,
         "type": "scattergeo"
        },
        {
         "hoverinfo": "skip",
         "lat": [
          46.2102129,
          46.78154519
         ],
         "line": {
          "color": "red",
          "width": 5
         },
         "lon": [
          6.142451595,
          6.640944002
         ],
         "mode": "lines",
         "opacity": 0.04,
         "type": "scattergeo"
        },
        {
         "hoverinfo": "skip",
         "lat": [
          46.2102129,
          46.94883229
         ],
         "line": {
          "color": "red",
          "width": 5
         },
         "lon": [
          6.142451595,
          7.43913089
         ],
         "mode": "lines",
         "opacity": 0.005333333333333333,
         "type": "scattergeo"
        },
        {
         "hoverinfo": "skip",
         "lat": [
          46.2102129,
          46.99672679
         ],
         "line": {
          "color": "red",
          "width": 5
         },
         "lon": [
          6.142451595,
          6.935701694
         ],
         "mode": "lines",
         "opacity": 0.032,
         "type": "scattergeo"
        },
        {
         "hoverinfo": "skip",
         "lat": [
          46.2102129,
          47.13289787
         ],
         "line": {
          "color": "red",
          "width": 5
         },
         "lon": [
          6.142451595,
          7.242910603
         ],
         "mode": "lines",
         "opacity": 0.034666666666666665,
         "type": "scattergeo"
        },
        {
         "hoverinfo": "skip",
         "lat": [
          46.2102129,
          47.2041925
         ],
         "line": {
          "color": "red",
          "width": 5
         },
         "lon": [
          6.142451595,
          7.542689211
         ],
         "mode": "lines",
         "opacity": 0.0026666666666666666,
         "type": "scattergeo"
        },
        {
         "hoverinfo": "skip",
         "lat": [
          46.2102129,
          47.35193476
         ],
         "line": {
          "color": "red",
          "width": 5
         },
         "lon": [
          6.142451595,
          7.907699648
         ],
         "mode": "lines",
         "opacity": 0.010666666666666666,
         "type": "scattergeo"
        },
        {
         "hoverinfo": "skip",
         "lat": [
          46.2102129,
          47.37817667
         ],
         "line": {
          "color": "red",
          "width": 5
         },
         "lon": [
          6.142451595,
          8.540212349
         ],
         "mode": "lines",
         "opacity": 0.013333333333333334,
         "type": "scattergeo"
        },
        {
         "hoverinfo": "skip",
         "lat": [
          46.23253853,
          46.78154519
         ],
         "line": {
          "color": "red",
          "width": 5
         },
         "lon": [
          6.111985573,
          6.640944002
         ],
         "mode": "lines",
         "opacity": 0.0026666666666666666,
         "type": "scattergeo"
        },
        {
         "hoverinfo": "skip",
         "lat": [
          46.29402914,
          46.29402914
         ],
         "line": {
          "color": "red",
          "width": 5
         },
         "lon": [
          7.881465476,
          7.881465476
         ],
         "mode": "lines",
         "opacity": 0.016,
         "type": "scattergeo"
        },
        {
         "hoverinfo": "skip",
         "lat": [
          46.29402914,
          46.31942271
         ],
         "line": {
          "color": "red",
          "width": 5
         },
         "lon": [
          7.881465476,
          7.988094739
         ],
         "mode": "lines",
         "opacity": 0.008,
         "type": "scattergeo"
        },
        {
         "hoverinfo": "skip",
         "lat": [
          46.29402914,
          46.68639567
         ],
         "line": {
          "color": "red",
          "width": 5
         },
         "lon": [
          7.881465476,
          7.680103058
         ],
         "mode": "lines",
         "opacity": 0.11466666666666667,
         "type": "scattergeo"
        },
        {
         "hoverinfo": "skip",
         "lat": [
          46.29402914,
          46.75485273
         ],
         "line": {
          "color": "red",
          "width": 5
         },
         "lon": [
          7.881465476,
          7.629605829
         ],
         "mode": "lines",
         "opacity": 0.112,
         "type": "scattergeo"
        },
        {
         "hoverinfo": "skip",
         "lat": [
          46.29402914,
          46.94883229
         ],
         "line": {
          "color": "red",
          "width": 5
         },
         "lon": [
          7.881465476,
          7.43913089
         ],
         "mode": "lines",
         "opacity": 0.09066666666666667,
         "type": "scattergeo"
        },
        {
         "hoverinfo": "skip",
         "lat": [
          46.29402914,
          47.37817667
         ],
         "line": {
          "color": "red",
          "width": 5
         },
         "lon": [
          7.881465476,
          8.540212349
         ],
         "mode": "lines",
         "opacity": 0.0026666666666666666,
         "type": "scattergeo"
        },
        {
         "hoverinfo": "skip",
         "lat": [
          46.31942271,
          46.29402914
         ],
         "line": {
          "color": "red",
          "width": 5
         },
         "lon": [
          7.988094739,
          7.881465476
         ],
         "mode": "lines",
         "opacity": 0.008,
         "type": "scattergeo"
        },
        {
         "hoverinfo": "skip",
         "lat": [
          46.31942271,
          46.68639567
         ],
         "line": {
          "color": "red",
          "width": 5
         },
         "lon": [
          7.988094739,
          7.680103058
         ],
         "mode": "lines",
         "opacity": 0.0026666666666666666,
         "type": "scattergeo"
        },
        {
         "hoverinfo": "skip",
         "lat": [
          46.31942271,
          46.75485273
         ],
         "line": {
          "color": "red",
          "width": 5
         },
         "lon": [
          7.988094739,
          7.629605829
         ],
         "mode": "lines",
         "opacity": 0.005333333333333333,
         "type": "scattergeo"
        },
        {
         "hoverinfo": "skip",
         "lat": [
          46.31942271,
          46.94883229
         ],
         "line": {
          "color": "red",
          "width": 5
         },
         "lon": [
          7.988094739,
          7.43913089
         ],
         "mode": "lines",
         "opacity": 0.005333333333333333,
         "type": "scattergeo"
        },
        {
         "hoverinfo": "skip",
         "lat": [
          46.5111012,
          46.2102129
         ],
         "line": {
          "color": "red",
          "width": 5
         },
         "lon": [
          6.493969501,
          6.142451595
         ],
         "mode": "lines",
         "opacity": 0.016,
         "type": "scattergeo"
        },
        {
         "hoverinfo": "skip",
         "lat": [
          46.5111012,
          46.5111012
         ],
         "line": {
          "color": "red",
          "width": 5
         },
         "lon": [
          6.493969501,
          6.493969501
         ],
         "mode": "lines",
         "opacity": 0.0026666666666666666,
         "type": "scattergeo"
        },
        {
         "hoverinfo": "skip",
         "lat": [
          46.5111012,
          46.78154519
         ],
         "line": {
          "color": "red",
          "width": 5
         },
         "lon": [
          6.493969501,
          6.640944002
         ],
         "mode": "lines",
         "opacity": 0.056,
         "type": "scattergeo"
        },
        {
         "hoverinfo": "skip",
         "lat": [
          46.5111012,
          46.99672679
         ],
         "line": {
          "color": "red",
          "width": 5
         },
         "lon": [
          6.493969501,
          6.935701694
         ],
         "mode": "lines",
         "opacity": 0.042666666666666665,
         "type": "scattergeo"
        },
        {
         "hoverinfo": "skip",
         "lat": [
          46.5111012,
          47.13289787
         ],
         "line": {
          "color": "red",
          "width": 5
         },
         "lon": [
          6.493969501,
          7.242910603
         ],
         "mode": "lines",
         "opacity": 0.029333333333333333,
         "type": "scattergeo"
        },
        {
         "hoverinfo": "skip",
         "lat": [
          46.5111012,
          47.2041925
         ],
         "line": {
          "color": "red",
          "width": 5
         },
         "lon": [
          6.493969501,
          7.542689211
         ],
         "mode": "lines",
         "opacity": 0.0026666666666666666,
         "type": "scattergeo"
        },
        {
         "hoverinfo": "skip",
         "lat": [
          46.5111012,
          47.35193476
         ],
         "line": {
          "color": "red",
          "width": 5
         },
         "lon": [
          6.493969501,
          7.907699648
         ],
         "mode": "lines",
         "opacity": 0.0026666666666666666,
         "type": "scattergeo"
        },
        {
         "hoverinfo": "skip",
         "lat": [
          46.5111012,
          47.37817667
         ],
         "line": {
          "color": "red",
          "width": 5
         },
         "lon": [
          6.493969501,
          8.540212349
         ],
         "mode": "lines",
         "opacity": 0.0026666666666666666,
         "type": "scattergeo"
        },
        {
         "hoverinfo": "skip",
         "lat": [
          46.51679184,
          46.78154519
         ],
         "line": {
          "color": "red",
          "width": 5
         },
         "lon": [
          6.629092303,
          6.640944002
         ],
         "mode": "lines",
         "opacity": 0.037333333333333336,
         "type": "scattergeo"
        },
        {
         "hoverinfo": "skip",
         "lat": [
          46.51679184,
          46.80314817
         ],
         "line": {
          "color": "red",
          "width": 5
         },
         "lon": [
          6.629092303,
          7.151046883
         ],
         "mode": "lines",
         "opacity": 0.032,
         "type": "scattergeo"
        },
        {
         "hoverinfo": "skip",
         "lat": [
          46.51679184,
          46.94883229
         ],
         "line": {
          "color": "red",
          "width": 5
         },
         "lon": [
          6.629092303,
          7.43913089
         ],
         "mode": "lines",
         "opacity": 0.05333333333333334,
         "type": "scattergeo"
        },
        {
         "hoverinfo": "skip",
         "lat": [
          46.51679184,
          46.99672679
         ],
         "line": {
          "color": "red",
          "width": 5
         },
         "lon": [
          6.629092303,
          6.935701694
         ],
         "mode": "lines",
         "opacity": 0.037333333333333336,
         "type": "scattergeo"
        },
        {
         "hoverinfo": "skip",
         "lat": [
          46.51679184,
          47.13289787
         ],
         "line": {
          "color": "red",
          "width": 5
         },
         "lon": [
          6.629092303,
          7.242910603
         ],
         "mode": "lines",
         "opacity": 0.024,
         "type": "scattergeo"
        },
        {
         "hoverinfo": "skip",
         "lat": [
          46.51679184,
          47.28503511
         ],
         "line": {
          "color": "red",
          "width": 5
         },
         "lon": [
          6.629092303,
          7.709870322
         ],
         "mode": "lines",
         "opacity": 0.0026666666666666666,
         "type": "scattergeo"
        },
        {
         "hoverinfo": "skip",
         "lat": [
          46.51679184,
          47.35193476
         ],
         "line": {
          "color": "red",
          "width": 5
         },
         "lon": [
          6.629092303,
          7.907699648
         ],
         "mode": "lines",
         "opacity": 0.0026666666666666666,
         "type": "scattergeo"
        },
        {
         "hoverinfo": "skip",
         "lat": [
          46.51679184,
          47.37817667
         ],
         "line": {
          "color": "red",
          "width": 5
         },
         "lon": [
          6.629092303,
          8.540212349
         ],
         "mode": "lines",
         "opacity": 0.008,
         "type": "scattergeo"
        },
        {
         "hoverinfo": "skip",
         "lat": [
          46.51679184,
          47.42317895
         ],
         "line": {
          "color": "red",
          "width": 5
         },
         "lon": [
          6.629092303,
          9.369896663
         ],
         "mode": "lines",
         "opacity": 0.0026666666666666666,
         "type": "scattergeo"
        },
        {
         "hoverinfo": "skip",
         "lat": [
          46.68639567,
          46.29402914
         ],
         "line": {
          "color": "red",
          "width": 5
         },
         "lon": [
          7.680103058,
          7.881465476
         ],
         "mode": "lines",
         "opacity": 0.058666666666666666,
         "type": "scattergeo"
        },
        {
         "hoverinfo": "skip",
         "lat": [
          46.68639567,
          46.68639567
         ],
         "line": {
          "color": "red",
          "width": 5
         },
         "lon": [
          7.680103058,
          7.680103058
         ],
         "mode": "lines",
         "opacity": 0.013333333333333334,
         "type": "scattergeo"
        },
        {
         "hoverinfo": "skip",
         "lat": [
          46.68639567,
          46.75485273
         ],
         "line": {
          "color": "red",
          "width": 5
         },
         "lon": [
          7.680103058,
          7.629605829
         ],
         "mode": "lines",
         "opacity": 0.08,
         "type": "scattergeo"
        },
        {
         "hoverinfo": "skip",
         "lat": [
          46.68639567,
          46.94883229
         ],
         "line": {
          "color": "red",
          "width": 5
         },
         "lon": [
          7.680103058,
          7.43913089
         ],
         "mode": "lines",
         "opacity": 0.06933333333333333,
         "type": "scattergeo"
        },
        {
         "hoverinfo": "skip",
         "lat": [
          46.6905,
          46.75485273
         ],
         "line": {
          "color": "red",
          "width": 5
         },
         "lon": [
          7.869000004,
          7.629605829
         ],
         "mode": "lines",
         "opacity": 0.0026666666666666666,
         "type": "scattergeo"
        },
        {
         "hoverinfo": "skip",
         "lat": [
          46.6905,
          46.94883229
         ],
         "line": {
          "color": "red",
          "width": 5
         },
         "lon": [
          7.869000004,
          7.43913089
         ],
         "mode": "lines",
         "opacity": 0.0026666666666666666,
         "type": "scattergeo"
        },
        {
         "hoverinfo": "skip",
         "lat": [
          46.75485273,
          46.29402914
         ],
         "line": {
          "color": "red",
          "width": 5
         },
         "lon": [
          7.629605829,
          7.881465476
         ],
         "mode": "lines",
         "opacity": 0.06666666666666667,
         "type": "scattergeo"
        },
        {
         "hoverinfo": "skip",
         "lat": [
          46.75485273,
          46.31942271
         ],
         "line": {
          "color": "red",
          "width": 5
         },
         "lon": [
          7.629605829,
          7.988094739
         ],
         "mode": "lines",
         "opacity": 0.0026666666666666666,
         "type": "scattergeo"
        },
        {
         "hoverinfo": "skip",
         "lat": [
          46.75485273,
          46.68639567
         ],
         "line": {
          "color": "red",
          "width": 5
         },
         "lon": [
          7.629605829,
          7.680103058
         ],
         "mode": "lines",
         "opacity": 0.02666666666666667,
         "type": "scattergeo"
        },
        {
         "hoverinfo": "skip",
         "lat": [
          46.75485273,
          46.6905
         ],
         "line": {
          "color": "red",
          "width": 5
         },
         "lon": [
          7.629605829,
          7.869000004
         ],
         "mode": "lines",
         "opacity": 0.0026666666666666666,
         "type": "scattergeo"
        },
        {
         "hoverinfo": "skip",
         "lat": [
          46.75485273,
          46.75485273
         ],
         "line": {
          "color": "red",
          "width": 5
         },
         "lon": [
          7.629605829,
          7.629605829
         ],
         "mode": "lines",
         "opacity": 0.018666666666666668,
         "type": "scattergeo"
        },
        {
         "hoverinfo": "skip",
         "lat": [
          46.75485273,
          46.94883229
         ],
         "line": {
          "color": "red",
          "width": 5
         },
         "lon": [
          7.629605829,
          7.43913089
         ],
         "mode": "lines",
         "opacity": 0.21333333333333335,
         "type": "scattergeo"
        },
        {
         "hoverinfo": "skip",
         "lat": [
          46.78154519,
          46.2102129
         ],
         "line": {
          "color": "red",
          "width": 5
         },
         "lon": [
          6.640944002,
          6.142451595
         ],
         "mode": "lines",
         "opacity": 0.02666666666666667,
         "type": "scattergeo"
        },
        {
         "hoverinfo": "skip",
         "lat": [
          46.78154519,
          46.5111012
         ],
         "line": {
          "color": "red",
          "width": 5
         },
         "lon": [
          6.640944002,
          6.493969501
         ],
         "mode": "lines",
         "opacity": 0.032,
         "type": "scattergeo"
        },
        {
         "hoverinfo": "skip",
         "lat": [
          46.78154519,
          46.51679184
         ],
         "line": {
          "color": "red",
          "width": 5
         },
         "lon": [
          6.640944002,
          6.629092303
         ],
         "mode": "lines",
         "opacity": 0.018666666666666668,
         "type": "scattergeo"
        },
        {
         "hoverinfo": "skip",
         "lat": [
          46.78154519,
          46.78154519
         ],
         "line": {
          "color": "red",
          "width": 5
         },
         "lon": [
          6.640944002,
          6.640944002
         ],
         "mode": "lines",
         "opacity": 0.008,
         "type": "scattergeo"
        },
        {
         "hoverinfo": "skip",
         "lat": [
          46.78154519,
          46.99672679
         ],
         "line": {
          "color": "red",
          "width": 5
         },
         "lon": [
          6.640944002,
          6.935701694
         ],
         "mode": "lines",
         "opacity": 0.3413333333333333,
         "type": "scattergeo"
        },
        {
         "hoverinfo": "skip",
         "lat": [
          46.78154519,
          47.13289787
         ],
         "line": {
          "color": "red",
          "width": 5
         },
         "lon": [
          6.640944002,
          7.242910603
         ],
         "mode": "lines",
         "opacity": 0.12,
         "type": "scattergeo"
        },
        {
         "hoverinfo": "skip",
         "lat": [
          46.78154519,
          47.2041925
         ],
         "line": {
          "color": "red",
          "width": 5
         },
         "lon": [
          6.640944002,
          7.542689211
         ],
         "mode": "lines",
         "opacity": 0.010666666666666666,
         "type": "scattergeo"
        },
        {
         "hoverinfo": "skip",
         "lat": [
          46.78154519,
          47.35193476
         ],
         "line": {
          "color": "red",
          "width": 5
         },
         "lon": [
          6.640944002,
          7.907699648
         ],
         "mode": "lines",
         "opacity": 0.032,
         "type": "scattergeo"
        },
        {
         "hoverinfo": "skip",
         "lat": [
          46.78154519,
          47.37817667
         ],
         "line": {
          "color": "red",
          "width": 5
         },
         "lon": [
          6.640944002,
          8.540212349
         ],
         "mode": "lines",
         "opacity": 0.008,
         "type": "scattergeo"
        },
        {
         "hoverinfo": "skip",
         "lat": [
          46.78154519,
          47.39135951
         ],
         "line": {
          "color": "red",
          "width": 5
         },
         "lon": [
          6.640944002,
          8.051273719
         ],
         "mode": "lines",
         "opacity": 0.0026666666666666666,
         "type": "scattergeo"
        },
        {
         "hoverinfo": "skip",
         "lat": [
          46.80314817,
          46.51679184
         ],
         "line": {
          "color": "red",
          "width": 5
         },
         "lon": [
          7.151046883,
          6.629092303
         ],
         "mode": "lines",
         "opacity": 0.0026666666666666666,
         "type": "scattergeo"
        },
        {
         "hoverinfo": "skip",
         "lat": [
          46.80314817,
          46.94883229
         ],
         "line": {
          "color": "red",
          "width": 5
         },
         "lon": [
          7.151046883,
          7.43913089
         ],
         "mode": "lines",
         "opacity": 0.07466666666666667,
         "type": "scattergeo"
        },
        {
         "hoverinfo": "skip",
         "lat": [
          46.80314817,
          47.37817667
         ],
         "line": {
          "color": "red",
          "width": 5
         },
         "lon": [
          7.151046883,
          8.540212349
         ],
         "mode": "lines",
         "opacity": 0.005333333333333333,
         "type": "scattergeo"
        },
        {
         "hoverinfo": "skip",
         "lat": [
          46.85308416,
          46.96744043
         ],
         "line": {
          "color": "red",
          "width": 5
         },
         "lon": [
          9.528937733,
          9.554044692
         ],
         "mode": "lines",
         "opacity": 0.010666666666666666,
         "type": "scattergeo"
        },
        {
         "hoverinfo": "skip",
         "lat": [
          46.85308416,
          47.04482351
         ],
         "line": {
          "color": "red",
          "width": 5
         },
         "lon": [
          9.528937733,
          9.446260475
         ],
         "mode": "lines",
         "opacity": 0.005333333333333333,
         "type": "scattergeo"
        },
        {
         "hoverinfo": "skip",
         "lat": [
          46.85308416,
          47.37817667
         ],
         "line": {
          "color": "red",
          "width": 5
         },
         "lon": [
          9.528937733,
          8.540212349
         ],
         "mode": "lines",
         "opacity": 0.010666666666666666,
         "type": "scattergeo"
        },
        {
         "hoverinfo": "skip",
         "lat": [
          46.90173017,
          46.00550055
         ],
         "line": {
          "color": "red",
          "width": 5
         },
         "lon": [
          8.624302653,
          8.946995309
         ],
         "mode": "lines",
         "opacity": 0.005333333333333333,
         "type": "scattergeo"
        },
        {
         "hoverinfo": "skip",
         "lat": [
          46.90173017,
          46.19543179
         ],
         "line": {
          "color": "red",
          "width": 5
         },
         "lon": [
          8.624302653,
          9.029518512
         ],
         "mode": "lines",
         "opacity": 0.034666666666666665,
         "type": "scattergeo"
        },
        {
         "hoverinfo": "skip",
         "lat": [
          46.90173017,
          46.90173017
         ],
         "line": {
          "color": "red",
          "width": 5
         },
         "lon": [
          8.624302653,
          8.624302653
         ],
         "mode": "lines",
         "opacity": 0.0026666666666666666,
         "type": "scattergeo"
        },
        {
         "hoverinfo": "skip",
         "lat": [
          46.90173017,
          47.04904488
         ],
         "line": {
          "color": "red",
          "width": 5
         },
         "lon": [
          8.624302653,
          8.549446301
         ],
         "mode": "lines",
         "opacity": 0.02666666666666667,
         "type": "scattergeo"
        },
        {
         "hoverinfo": "skip",
         "lat": [
          46.90173017,
          47.05017783
         ],
         "line": {
          "color": "red",
          "width": 5
         },
         "lon": [
          8.624302653,
          8.310183207
         ],
         "mode": "lines",
         "opacity": 0.0026666666666666666,
         "type": "scattergeo"
        },
        {
         "hoverinfo": "skip",
         "lat": [
          46.94883229,
          46.2102129
         ],
         "line": {
          "color": "red",
          "width": 5
         },
         "lon": [
          7.43913089,
          6.142451595
         ],
         "mode": "lines",
         "opacity": 0.0026666666666666666,
         "type": "scattergeo"
        },
        {
         "hoverinfo": "skip",
         "lat": [
          46.94883229,
          46.29402914
         ],
         "line": {
          "color": "red",
          "width": 5
         },
         "lon": [
          7.43913089,
          7.881465476
         ],
         "mode": "lines",
         "opacity": 0.04533333333333334,
         "type": "scattergeo"
        },
        {
         "hoverinfo": "skip",
         "lat": [
          46.94883229,
          46.31942271
         ],
         "line": {
          "color": "red",
          "width": 5
         },
         "lon": [
          7.43913089,
          7.988094739
         ],
         "mode": "lines",
         "opacity": 0.005333333333333333,
         "type": "scattergeo"
        },
        {
         "hoverinfo": "skip",
         "lat": [
          46.94883229,
          46.51679184
         ],
         "line": {
          "color": "red",
          "width": 5
         },
         "lon": [
          7.43913089,
          6.629092303
         ],
         "mode": "lines",
         "opacity": 0.016,
         "type": "scattergeo"
        },
        {
         "hoverinfo": "skip",
         "lat": [
          46.94883229,
          46.68639567
         ],
         "line": {
          "color": "red",
          "width": 5
         },
         "lon": [
          7.43913089,
          7.680103058
         ],
         "mode": "lines",
         "opacity": 0.021333333333333333,
         "type": "scattergeo"
        },
        {
         "hoverinfo": "skip",
         "lat": [
          46.94883229,
          46.75485273
         ],
         "line": {
          "color": "red",
          "width": 5
         },
         "lon": [
          7.43913089,
          7.629605829
         ],
         "mode": "lines",
         "opacity": 0.128,
         "type": "scattergeo"
        },
        {
         "hoverinfo": "skip",
         "lat": [
          46.94883229,
          46.80314817
         ],
         "line": {
          "color": "red",
          "width": 5
         },
         "lon": [
          7.43913089,
          7.151046883
         ],
         "mode": "lines",
         "opacity": 0.008,
         "type": "scattergeo"
        },
        {
         "hoverinfo": "skip",
         "lat": [
          46.94883229,
          46.94883229
         ],
         "line": {
          "color": "red",
          "width": 5
         },
         "lon": [
          7.43913089,
          7.43913089
         ],
         "mode": "lines",
         "opacity": 0.018666666666666668,
         "type": "scattergeo"
        },
        {
         "hoverinfo": "skip",
         "lat": [
          46.94883229,
          47.35193476
         ],
         "line": {
          "color": "red",
          "width": 5
         },
         "lon": [
          7.43913089,
          7.907699648
         ],
         "mode": "lines",
         "opacity": 0.013333333333333334,
         "type": "scattergeo"
        },
        {
         "hoverinfo": "skip",
         "lat": [
          46.94883229,
          47.37817667
         ],
         "line": {
          "color": "red",
          "width": 5
         },
         "lon": [
          7.43913089,
          8.540212349
         ],
         "mode": "lines",
         "opacity": 0.568,
         "type": "scattergeo"
        },
        {
         "hoverinfo": "skip",
         "lat": [
          46.94883229,
          47.48446117
         ],
         "line": {
          "color": "red",
          "width": 5
         },
         "lon": [
          7.43913089,
          7.731367481
         ],
         "mode": "lines",
         "opacity": 0.0026666666666666666,
         "type": "scattergeo"
        },
        {
         "hoverinfo": "skip",
         "lat": [
          46.94883229,
          47.50033381
         ],
         "line": {
          "color": "red",
          "width": 5
         },
         "lon": [
          7.43913089,
          8.723821055
         ],
         "mode": "lines",
         "opacity": 0.005333333333333333,
         "type": "scattergeo"
        },
        {
         "hoverinfo": "skip",
         "lat": [
          46.94883229,
          47.54741206
         ],
         "line": {
          "color": "red",
          "width": 5
         },
         "lon": [
          7.43913089,
          7.58956279
         ],
         "mode": "lines",
         "opacity": 0.005333333333333333,
         "type": "scattergeo"
        },
        {
         "hoverinfo": "skip",
         "lat": [
          46.96744043,
          46.85308416
         ],
         "line": {
          "color": "red",
          "width": 5
         },
         "lon": [
          9.554044692,
          9.528937733
         ],
         "mode": "lines",
         "opacity": 0.005333333333333333,
         "type": "scattergeo"
        },
        {
         "hoverinfo": "skip",
         "lat": [
          46.96744043,
          47.04482351
         ],
         "line": {
          "color": "red",
          "width": 5
         },
         "lon": [
          9.554044692,
          9.446260475
         ],
         "mode": "lines",
         "opacity": 0.016,
         "type": "scattergeo"
        },
        {
         "hoverinfo": "skip",
         "lat": [
          46.96744043,
          47.37817667
         ],
         "line": {
          "color": "red",
          "width": 5
         },
         "lon": [
          9.554044692,
          8.540212349
         ],
         "mode": "lines",
         "opacity": 0.10133333333333333,
         "type": "scattergeo"
        },
        {
         "hoverinfo": "skip",
         "lat": [
          46.99672679,
          46.2102129
         ],
         "line": {
          "color": "red",
          "width": 5
         },
         "lon": [
          6.935701694,
          6.142451595
         ],
         "mode": "lines",
         "opacity": 0.010666666666666666,
         "type": "scattergeo"
        },
        {
         "hoverinfo": "skip",
         "lat": [
          46.99672679,
          46.5111012
         ],
         "line": {
          "color": "red",
          "width": 5
         },
         "lon": [
          6.935701694,
          6.493969501
         ],
         "mode": "lines",
         "opacity": 0.013333333333333334,
         "type": "scattergeo"
        },
        {
         "hoverinfo": "skip",
         "lat": [
          46.99672679,
          46.51679184
         ],
         "line": {
          "color": "red",
          "width": 5
         },
         "lon": [
          6.935701694,
          6.629092303
         ],
         "mode": "lines",
         "opacity": 0.010666666666666666,
         "type": "scattergeo"
        },
        {
         "hoverinfo": "skip",
         "lat": [
          46.99672679,
          46.78154519
         ],
         "line": {
          "color": "red",
          "width": 5
         },
         "lon": [
          6.935701694,
          6.640944002
         ],
         "mode": "lines",
         "opacity": 0.144,
         "type": "scattergeo"
        },
        {
         "hoverinfo": "skip",
         "lat": [
          46.99672679,
          46.99672679
         ],
         "line": {
          "color": "red",
          "width": 5
         },
         "lon": [
          6.935701694,
          6.935701694
         ],
         "mode": "lines",
         "opacity": 0.008,
         "type": "scattergeo"
        },
        {
         "hoverinfo": "skip",
         "lat": [
          46.99672679,
          47.13289787
         ],
         "line": {
          "color": "red",
          "width": 5
         },
         "lon": [
          6.935701694,
          7.242910603
         ],
         "mode": "lines",
         "opacity": 0.272,
         "type": "scattergeo"
        },
        {
         "hoverinfo": "skip",
         "lat": [
          46.99672679,
          47.2041925
         ],
         "line": {
          "color": "red",
          "width": 5
         },
         "lon": [
          6.935701694,
          7.542689211
         ],
         "mode": "lines",
         "opacity": 0.018666666666666668,
         "type": "scattergeo"
        },
        {
         "hoverinfo": "skip",
         "lat": [
          46.99672679,
          47.35193476
         ],
         "line": {
          "color": "red",
          "width": 5
         },
         "lon": [
          6.935701694,
          7.907699648
         ],
         "mode": "lines",
         "opacity": 0.034666666666666665,
         "type": "scattergeo"
        },
        {
         "hoverinfo": "skip",
         "lat": [
          46.99672679,
          47.37817667
         ],
         "line": {
          "color": "red",
          "width": 5
         },
         "lon": [
          6.935701694,
          8.540212349
         ],
         "mode": "lines",
         "opacity": 0.021333333333333333,
         "type": "scattergeo"
        },
        {
         "hoverinfo": "skip",
         "lat": [
          46.99672679,
          47.39135951
         ],
         "line": {
          "color": "red",
          "width": 5
         },
         "lon": [
          6.935701694,
          8.051273719
         ],
         "mode": "lines",
         "opacity": 0.010666666666666666,
         "type": "scattergeo"
        },
        {
         "hoverinfo": "skip",
         "lat": [
          46.99672679,
          47.50033381
         ],
         "line": {
          "color": "red",
          "width": 5
         },
         "lon": [
          6.935701694,
          8.723821055
         ],
         "mode": "lines",
         "opacity": 0.0026666666666666666,
         "type": "scattergeo"
        },
        {
         "hoverinfo": "skip",
         "lat": [
          47.04482351,
          46.85308416
         ],
         "line": {
          "color": "red",
          "width": 5
         },
         "lon": [
          9.446260475,
          9.528937733
         ],
         "mode": "lines",
         "opacity": 0.005333333333333333,
         "type": "scattergeo"
        },
        {
         "hoverinfo": "skip",
         "lat": [
          47.04482351,
          46.96744043
         ],
         "line": {
          "color": "red",
          "width": 5
         },
         "lon": [
          9.446260475,
          9.554044692
         ],
         "mode": "lines",
         "opacity": 0.029333333333333333,
         "type": "scattergeo"
        },
        {
         "hoverinfo": "skip",
         "lat": [
          47.04482351,
          47.04482351
         ],
         "line": {
          "color": "red",
          "width": 5
         },
         "lon": [
          9.446260475,
          9.446260475
         ],
         "mode": "lines",
         "opacity": 0.0026666666666666666,
         "type": "scattergeo"
        },
        {
         "hoverinfo": "skip",
         "lat": [
          47.04482351,
          47.37817667
         ],
         "line": {
          "color": "red",
          "width": 5
         },
         "lon": [
          9.446260475,
          8.540212349
         ],
         "mode": "lines",
         "opacity": 0.12,
         "type": "scattergeo"
        },
        {
         "hoverinfo": "skip",
         "lat": [
          47.04904488,
          46.00550055
         ],
         "line": {
          "color": "red",
          "width": 5
         },
         "lon": [
          8.549446301,
          8.946995309
         ],
         "mode": "lines",
         "opacity": 0.021333333333333333,
         "type": "scattergeo"
        },
        {
         "hoverinfo": "skip",
         "lat": [
          47.04904488,
          46.19543179
         ],
         "line": {
          "color": "red",
          "width": 5
         },
         "lon": [
          8.549446301,
          9.029518512
         ],
         "mode": "lines",
         "opacity": 0.4106666666666667,
         "type": "scattergeo"
        },
        {
         "hoverinfo": "skip",
         "lat": [
          47.04904488,
          46.90173017
         ],
         "line": {
          "color": "red",
          "width": 5
         },
         "lon": [
          8.549446301,
          8.624302653
         ],
         "mode": "lines",
         "opacity": 0.018666666666666668,
         "type": "scattergeo"
        },
        {
         "hoverinfo": "skip",
         "lat": [
          47.04904488,
          47.04904488
         ],
         "line": {
          "color": "red",
          "width": 5
         },
         "lon": [
          8.549446301,
          8.549446301
         ],
         "mode": "lines",
         "opacity": 0.024,
         "type": "scattergeo"
        },
        {
         "hoverinfo": "skip",
         "lat": [
          47.04904488,
          47.05017783
         ],
         "line": {
          "color": "red",
          "width": 5
         },
         "lon": [
          8.549446301,
          8.310183207
         ],
         "mode": "lines",
         "opacity": 0.06666666666666667,
         "type": "scattergeo"
        },
        {
         "hoverinfo": "skip",
         "lat": [
          47.04904488,
          47.17370698
         ],
         "line": {
          "color": "red",
          "width": 5
         },
         "lon": [
          8.549446301,
          8.515049341
         ],
         "mode": "lines",
         "opacity": 0.10933333333333334,
         "type": "scattergeo"
        },
        {
         "hoverinfo": "skip",
         "lat": [
          47.04904488,
          47.37817667
         ],
         "line": {
          "color": "red",
          "width": 5
         },
         "lon": [
          8.549446301,
          8.540212349
         ],
         "mode": "lines",
         "opacity": 0.11733333333333333,
         "type": "scattergeo"
        },
        {
         "hoverinfo": "skip",
         "lat": [
          47.04904488,
          47.54741206
         ],
         "line": {
          "color": "red",
          "width": 5
         },
         "lon": [
          8.549446301,
          7.58956279
         ],
         "mode": "lines",
         "opacity": 0.010666666666666666,
         "type": "scattergeo"
        },
        {
         "hoverinfo": "skip",
         "lat": [
          47.05017783,
          46.00550055
         ],
         "line": {
          "color": "red",
          "width": 5
         },
         "lon": [
          8.310183207,
          8.946995309
         ],
         "mode": "lines",
         "opacity": 0.016,
         "type": "scattergeo"
        },
        {
         "hoverinfo": "skip",
         "lat": [
          47.05017783,
          46.19543179
         ],
         "line": {
          "color": "red",
          "width": 5
         },
         "lon": [
          8.310183207,
          9.029518512
         ],
         "mode": "lines",
         "opacity": 0.09333333333333334,
         "type": "scattergeo"
        },
        {
         "hoverinfo": "skip",
         "lat": [
          47.05017783,
          47.04904488
         ],
         "line": {
          "color": "red",
          "width": 5
         },
         "lon": [
          8.310183207,
          8.549446301
         ],
         "mode": "lines",
         "opacity": 0.08,
         "type": "scattergeo"
        },
        {
         "hoverinfo": "skip",
         "lat": [
          47.05017783,
          47.05017783
         ],
         "line": {
          "color": "red",
          "width": 5
         },
         "lon": [
          8.310183207,
          8.310183207
         ],
         "mode": "lines",
         "opacity": 0.010666666666666666,
         "type": "scattergeo"
        },
        {
         "hoverinfo": "skip",
         "lat": [
          47.05017783,
          47.35193476
         ],
         "line": {
          "color": "red",
          "width": 5
         },
         "lon": [
          8.310183207,
          7.907699648
         ],
         "mode": "lines",
         "opacity": 0.04,
         "type": "scattergeo"
        },
        {
         "hoverinfo": "skip",
         "lat": [
          47.05017783,
          47.54741206
         ],
         "line": {
          "color": "red",
          "width": 5
         },
         "lon": [
          8.310183207,
          7.58956279
         ],
         "mode": "lines",
         "opacity": 0.016,
         "type": "scattergeo"
        },
        {
         "hoverinfo": "skip",
         "lat": [
          47.13289787,
          46.2102129
         ],
         "line": {
          "color": "red",
          "width": 5
         },
         "lon": [
          7.242910603,
          6.142451595
         ],
         "mode": "lines",
         "opacity": 0.018666666666666668,
         "type": "scattergeo"
        },
        {
         "hoverinfo": "skip",
         "lat": [
          47.13289787,
          46.5111012
         ],
         "line": {
          "color": "red",
          "width": 5
         },
         "lon": [
          7.242910603,
          6.493969501
         ],
         "mode": "lines",
         "opacity": 0.008,
         "type": "scattergeo"
        },
        {
         "hoverinfo": "skip",
         "lat": [
          47.13289787,
          46.51679184
         ],
         "line": {
          "color": "red",
          "width": 5
         },
         "lon": [
          7.242910603,
          6.629092303
         ],
         "mode": "lines",
         "opacity": 0.013333333333333334,
         "type": "scattergeo"
        },
        {
         "hoverinfo": "skip",
         "lat": [
          47.13289787,
          46.78154519
         ],
         "line": {
          "color": "red",
          "width": 5
         },
         "lon": [
          7.242910603,
          6.640944002
         ],
         "mode": "lines",
         "opacity": 0.06666666666666667,
         "type": "scattergeo"
        },
        {
         "hoverinfo": "skip",
         "lat": [
          47.13289787,
          46.99672679
         ],
         "line": {
          "color": "red",
          "width": 5
         },
         "lon": [
          7.242910603,
          6.935701694
         ],
         "mode": "lines",
         "opacity": 0.128,
         "type": "scattergeo"
        },
        {
         "hoverinfo": "skip",
         "lat": [
          47.13289787,
          47.13289787
         ],
         "line": {
          "color": "red",
          "width": 5
         },
         "lon": [
          7.242910603,
          7.242910603
         ],
         "mode": "lines",
         "opacity": 0.008,
         "type": "scattergeo"
        },
        {
         "hoverinfo": "skip",
         "lat": [
          47.13289787,
          47.18877469
         ],
         "line": {
          "color": "red",
          "width": 5
         },
         "lon": [
          7.242910603,
          7.398180061
         ],
         "mode": "lines",
         "opacity": 0.0026666666666666666,
         "type": "scattergeo"
        },
        {
         "hoverinfo": "skip",
         "lat": [
          47.13289787,
          47.19169821
         ],
         "line": {
          "color": "red",
          "width": 5
         },
         "lon": [
          7.242910603,
          7.389618663
         ],
         "mode": "lines",
         "opacity": 0.013333333333333334,
         "type": "scattergeo"
        },
        {
         "hoverinfo": "skip",
         "lat": [
          47.13289787,
          47.2041925
         ],
         "line": {
          "color": "red",
          "width": 5
         },
         "lon": [
          7.242910603,
          7.542689211
         ],
         "mode": "lines",
         "opacity": 0.17066666666666666,
         "type": "scattergeo"
        },
        {
         "hoverinfo": "skip",
         "lat": [
          47.13289787,
          47.28067252
         ],
         "line": {
          "color": "red",
          "width": 5
         },
         "lon": [
          7.242910603,
          7.381044296
         ],
         "mode": "lines",
         "opacity": 0.021333333333333333,
         "type": "scattergeo"
        },
        {
         "hoverinfo": "skip",
         "lat": [
          47.13289787,
          47.28503511
         ],
         "line": {
          "color": "red",
          "width": 5
         },
         "lon": [
          7.242910603,
          7.709870322
         ],
         "mode": "lines",
         "opacity": 0.0026666666666666666,
         "type": "scattergeo"
        },
        {
         "hoverinfo": "skip",
         "lat": [
          47.13289787,
          47.35193476
         ],
         "line": {
          "color": "red",
          "width": 5
         },
         "lon": [
          7.242910603,
          7.907699648
         ],
         "mode": "lines",
         "opacity": 0.192,
         "type": "scattergeo"
        },
        {
         "hoverinfo": "skip",
         "lat": [
          47.13289787,
          47.3620127
         ],
         "line": {
          "color": "red",
          "width": 5
         },
         "lon": [
          7.242910603,
          7.350063323
         ],
         "mode": "lines",
         "opacity": 0.04,
         "type": "scattergeo"
        },
        {
         "hoverinfo": "skip",
         "lat": [
          47.13289787,
          47.37817667
         ],
         "line": {
          "color": "red",
          "width": 5
         },
         "lon": [
          7.242910603,
          8.540212349
         ],
         "mode": "lines",
         "opacity": 0.06933333333333333,
         "type": "scattergeo"
        },
        {
         "hoverinfo": "skip",
         "lat": [
          47.13289787,
          47.39135951
         ],
         "line": {
          "color": "red",
          "width": 5
         },
         "lon": [
          7.242910603,
          8.051273719
         ],
         "mode": "lines",
         "opacity": 0.050666666666666665,
         "type": "scattergeo"
        },
        {
         "hoverinfo": "skip",
         "lat": [
          47.13289787,
          47.41934648
         ],
         "line": {
          "color": "red",
          "width": 5
         },
         "lon": [
          7.242910603,
          7.502636131
         ],
         "mode": "lines",
         "opacity": 0.008,
         "type": "scattergeo"
        },
        {
         "hoverinfo": "skip",
         "lat": [
          47.13289787,
          47.50033381
         ],
         "line": {
          "color": "red",
          "width": 5
         },
         "lon": [
          7.242910603,
          8.723821055
         ],
         "mode": "lines",
         "opacity": 0.0026666666666666666,
         "type": "scattergeo"
        },
        {
         "hoverinfo": "skip",
         "lat": [
          47.13289787,
          47.54741206
         ],
         "line": {
          "color": "red",
          "width": 5
         },
         "lon": [
          7.242910603,
          7.58956279
         ],
         "mode": "lines",
         "opacity": 0.05333333333333334,
         "type": "scattergeo"
        },
        {
         "hoverinfo": "skip",
         "lat": [
          47.17370698,
          46.00550055
         ],
         "line": {
          "color": "red",
          "width": 5
         },
         "lon": [
          8.515049341,
          8.946995309
         ],
         "mode": "lines",
         "opacity": 0.0026666666666666666,
         "type": "scattergeo"
        },
        {
         "hoverinfo": "skip",
         "lat": [
          47.17370698,
          46.19543179
         ],
         "line": {
          "color": "red",
          "width": 5
         },
         "lon": [
          8.515049341,
          9.029518512
         ],
         "mode": "lines",
         "opacity": 0.042666666666666665,
         "type": "scattergeo"
        },
        {
         "hoverinfo": "skip",
         "lat": [
          47.17370698,
          47.04904488
         ],
         "line": {
          "color": "red",
          "width": 5
         },
         "lon": [
          8.515049341,
          8.549446301
         ],
         "mode": "lines",
         "opacity": 0.08266666666666667,
         "type": "scattergeo"
        },
        {
         "hoverinfo": "skip",
         "lat": [
          47.17370698,
          47.17370698
         ],
         "line": {
          "color": "red",
          "width": 5
         },
         "lon": [
          8.515049341,
          8.515049341
         ],
         "mode": "lines",
         "opacity": 0.013333333333333334,
         "type": "scattergeo"
        },
        {
         "hoverinfo": "skip",
         "lat": [
          47.17370698,
          47.37817667
         ],
         "line": {
          "color": "red",
          "width": 5
         },
         "lon": [
          8.515049341,
          8.540212349
         ],
         "mode": "lines",
         "opacity": 0.050666666666666665,
         "type": "scattergeo"
        },
        {
         "hoverinfo": "skip",
         "lat": [
          47.18877469,
          46.99672679
         ],
         "line": {
          "color": "red",
          "width": 5
         },
         "lon": [
          7.398180061,
          6.935701694
         ],
         "mode": "lines",
         "opacity": 0.0026666666666666666,
         "type": "scattergeo"
        },
        {
         "hoverinfo": "skip",
         "lat": [
          47.18877469,
          47.13289787
         ],
         "line": {
          "color": "red",
          "width": 5
         },
         "lon": [
          7.398180061,
          7.242910603
         ],
         "mode": "lines",
         "opacity": 0.005333333333333333,
         "type": "scattergeo"
        },
        {
         "hoverinfo": "skip",
         "lat": [
          47.18877469,
          47.2041925
         ],
         "line": {
          "color": "red",
          "width": 5
         },
         "lon": [
          7.398180061,
          7.542689211
         ],
         "mode": "lines",
         "opacity": 0.010666666666666666,
         "type": "scattergeo"
        },
        {
         "hoverinfo": "skip",
         "lat": [
          47.18877469,
          47.35193476
         ],
         "line": {
          "color": "red",
          "width": 5
         },
         "lon": [
          7.398180061,
          7.907699648
         ],
         "mode": "lines",
         "opacity": 0.013333333333333334,
         "type": "scattergeo"
        },
        {
         "hoverinfo": "skip",
         "lat": [
          47.18877469,
          47.37817667
         ],
         "line": {
          "color": "red",
          "width": 5
         },
         "lon": [
          7.398180061,
          8.540212349
         ],
         "mode": "lines",
         "opacity": 0.013333333333333334,
         "type": "scattergeo"
        },
        {
         "hoverinfo": "skip",
         "lat": [
          47.19169821,
          47.13289787
         ],
         "line": {
          "color": "red",
          "width": 5
         },
         "lon": [
          7.389618663,
          7.242910603
         ],
         "mode": "lines",
         "opacity": 0.0026666666666666666,
         "type": "scattergeo"
        },
        {
         "hoverinfo": "skip",
         "lat": [
          47.19169821,
          47.3620127
         ],
         "line": {
          "color": "red",
          "width": 5
         },
         "lon": [
          7.389618663,
          7.350063323
         ],
         "mode": "lines",
         "opacity": 0.0026666666666666666,
         "type": "scattergeo"
        },
        {
         "hoverinfo": "skip",
         "lat": [
          47.19169821,
          47.41934648
         ],
         "line": {
          "color": "red",
          "width": 5
         },
         "lon": [
          7.389618663,
          7.502636131
         ],
         "mode": "lines",
         "opacity": 0.0026666666666666666,
         "type": "scattergeo"
        },
        {
         "hoverinfo": "skip",
         "lat": [
          47.19169821,
          47.54741206
         ],
         "line": {
          "color": "red",
          "width": 5
         },
         "lon": [
          7.389618663,
          7.58956279
         ],
         "mode": "lines",
         "opacity": 0.005333333333333333,
         "type": "scattergeo"
        },
        {
         "hoverinfo": "skip",
         "lat": [
          47.2041925,
          46.2102129
         ],
         "line": {
          "color": "red",
          "width": 5
         },
         "lon": [
          7.542689211,
          6.142451595
         ],
         "mode": "lines",
         "opacity": 0.0026666666666666666,
         "type": "scattergeo"
        },
        {
         "hoverinfo": "skip",
         "lat": [
          47.2041925,
          46.51679184
         ],
         "line": {
          "color": "red",
          "width": 5
         },
         "lon": [
          7.542689211,
          6.629092303
         ],
         "mode": "lines",
         "opacity": 0.0026666666666666666,
         "type": "scattergeo"
        },
        {
         "hoverinfo": "skip",
         "lat": [
          47.2041925,
          46.78154519
         ],
         "line": {
          "color": "red",
          "width": 5
         },
         "lon": [
          7.542689211,
          6.640944002
         ],
         "mode": "lines",
         "opacity": 0.0026666666666666666,
         "type": "scattergeo"
        },
        {
         "hoverinfo": "skip",
         "lat": [
          47.2041925,
          46.99672679
         ],
         "line": {
          "color": "red",
          "width": 5
         },
         "lon": [
          7.542689211,
          6.935701694
         ],
         "mode": "lines",
         "opacity": 0.013333333333333334,
         "type": "scattergeo"
        },
        {
         "hoverinfo": "skip",
         "lat": [
          47.2041925,
          47.13289787
         ],
         "line": {
          "color": "red",
          "width": 5
         },
         "lon": [
          7.542689211,
          7.242910603
         ],
         "mode": "lines",
         "opacity": 0.096,
         "type": "scattergeo"
        },
        {
         "hoverinfo": "skip",
         "lat": [
          47.2041925,
          47.18877469
         ],
         "line": {
          "color": "red",
          "width": 5
         },
         "lon": [
          7.542689211,
          7.398180061
         ],
         "mode": "lines",
         "opacity": 0.013333333333333334,
         "type": "scattergeo"
        },
        {
         "hoverinfo": "skip",
         "lat": [
          47.2041925,
          47.2041925
         ],
         "line": {
          "color": "red",
          "width": 5
         },
         "lon": [
          7.542689211,
          7.542689211
         ],
         "mode": "lines",
         "opacity": 0.0026666666666666666,
         "type": "scattergeo"
        },
        {
         "hoverinfo": "skip",
         "lat": [
          47.2041925,
          47.28503511
         ],
         "line": {
          "color": "red",
          "width": 5
         },
         "lon": [
          7.542689211,
          7.709870322
         ],
         "mode": "lines",
         "opacity": 0.018666666666666668,
         "type": "scattergeo"
        },
        {
         "hoverinfo": "skip",
         "lat": [
          47.2041925,
          47.35193476
         ],
         "line": {
          "color": "red",
          "width": 5
         },
         "lon": [
          7.542689211,
          7.907699648
         ],
         "mode": "lines",
         "opacity": 0.2826666666666667,
         "type": "scattergeo"
        },
        {
         "hoverinfo": "skip",
         "lat": [
          47.2041925,
          47.37817667
         ],
         "line": {
          "color": "red",
          "width": 5
         },
         "lon": [
          7.542689211,
          8.540212349
         ],
         "mode": "lines",
         "opacity": 0.088,
         "type": "scattergeo"
        },
        {
         "hoverinfo": "skip",
         "lat": [
          47.2041925,
          47.39135951
         ],
         "line": {
          "color": "red",
          "width": 5
         },
         "lon": [
          7.542689211,
          8.051273719
         ],
         "mode": "lines",
         "opacity": 0.050666666666666665,
         "type": "scattergeo"
        },
        {
         "hoverinfo": "skip",
         "lat": [
          47.28067252,
          47.13289787
         ],
         "line": {
          "color": "red",
          "width": 5
         },
         "lon": [
          7.381044296,
          7.242910603
         ],
         "mode": "lines",
         "opacity": 0.0026666666666666666,
         "type": "scattergeo"
        },
        {
         "hoverinfo": "skip",
         "lat": [
          47.28067252,
          47.3620127
         ],
         "line": {
          "color": "red",
          "width": 5
         },
         "lon": [
          7.381044296,
          7.350063323
         ],
         "mode": "lines",
         "opacity": 0.010666666666666666,
         "type": "scattergeo"
        },
        {
         "hoverinfo": "skip",
         "lat": [
          47.28067252,
          47.41934648
         ],
         "line": {
          "color": "red",
          "width": 5
         },
         "lon": [
          7.381044296,
          7.502636131
         ],
         "mode": "lines",
         "opacity": 0.008,
         "type": "scattergeo"
        },
        {
         "hoverinfo": "skip",
         "lat": [
          47.28067252,
          47.54741206
         ],
         "line": {
          "color": "red",
          "width": 5
         },
         "lon": [
          7.381044296,
          7.58956279
         ],
         "mode": "lines",
         "opacity": 0.013333333333333334,
         "type": "scattergeo"
        },
        {
         "hoverinfo": "skip",
         "lat": [
          47.28503511,
          47.13289787
         ],
         "line": {
          "color": "red",
          "width": 5
         },
         "lon": [
          7.709870322,
          7.242910603
         ],
         "mode": "lines",
         "opacity": 0.008,
         "type": "scattergeo"
        },
        {
         "hoverinfo": "skip",
         "lat": [
          47.28503511,
          47.18877469
         ],
         "line": {
          "color": "red",
          "width": 5
         },
         "lon": [
          7.709870322,
          7.398180061
         ],
         "mode": "lines",
         "opacity": 0.005333333333333333,
         "type": "scattergeo"
        },
        {
         "hoverinfo": "skip",
         "lat": [
          47.28503511,
          47.2041925
         ],
         "line": {
          "color": "red",
          "width": 5
         },
         "lon": [
          7.709870322,
          7.542689211
         ],
         "mode": "lines",
         "opacity": 0.008,
         "type": "scattergeo"
        },
        {
         "hoverinfo": "skip",
         "lat": [
          47.28503511,
          47.35193476
         ],
         "line": {
          "color": "red",
          "width": 5
         },
         "lon": [
          7.709870322,
          7.907699648
         ],
         "mode": "lines",
         "opacity": 0.064,
         "type": "scattergeo"
        },
        {
         "hoverinfo": "skip",
         "lat": [
          47.28503511,
          47.37817667
         ],
         "line": {
          "color": "red",
          "width": 5
         },
         "lon": [
          7.709870322,
          8.540212349
         ],
         "mode": "lines",
         "opacity": 0.008,
         "type": "scattergeo"
        },
        {
         "hoverinfo": "skip",
         "lat": [
          47.35193476,
          46.00550055
         ],
         "line": {
          "color": "red",
          "width": 5
         },
         "lon": [
          7.907699648,
          8.946995309
         ],
         "mode": "lines",
         "opacity": 0.005333333333333333,
         "type": "scattergeo"
        },
        {
         "hoverinfo": "skip",
         "lat": [
          47.35193476,
          46.19543179
         ],
         "line": {
          "color": "red",
          "width": 5
         },
         "lon": [
          7.907699648,
          9.029518512
         ],
         "mode": "lines",
         "opacity": 0.0026666666666666666,
         "type": "scattergeo"
        },
        {
         "hoverinfo": "skip",
         "lat": [
          47.35193476,
          46.2102129
         ],
         "line": {
          "color": "red",
          "width": 5
         },
         "lon": [
          7.907699648,
          6.142451595
         ],
         "mode": "lines",
         "opacity": 0.008,
         "type": "scattergeo"
        },
        {
         "hoverinfo": "skip",
         "lat": [
          47.35193476,
          46.51679184
         ],
         "line": {
          "color": "red",
          "width": 5
         },
         "lon": [
          7.907699648,
          6.629092303
         ],
         "mode": "lines",
         "opacity": 0.010666666666666666,
         "type": "scattergeo"
        },
        {
         "hoverinfo": "skip",
         "lat": [
          47.35193476,
          46.78154519
         ],
         "line": {
          "color": "red",
          "width": 5
         },
         "lon": [
          7.907699648,
          6.640944002
         ],
         "mode": "lines",
         "opacity": 0.010666666666666666,
         "type": "scattergeo"
        },
        {
         "hoverinfo": "skip",
         "lat": [
          47.35193476,
          46.94883229
         ],
         "line": {
          "color": "red",
          "width": 5
         },
         "lon": [
          7.907699648,
          7.43913089
         ],
         "mode": "lines",
         "opacity": 0.0026666666666666666,
         "type": "scattergeo"
        },
        {
         "hoverinfo": "skip",
         "lat": [
          47.35193476,
          46.99672679
         ],
         "line": {
          "color": "red",
          "width": 5
         },
         "lon": [
          7.907699648,
          6.935701694
         ],
         "mode": "lines",
         "opacity": 0.016,
         "type": "scattergeo"
        },
        {
         "hoverinfo": "skip",
         "lat": [
          47.35193476,
          47.04904488
         ],
         "line": {
          "color": "red",
          "width": 5
         },
         "lon": [
          7.907699648,
          8.549446301
         ],
         "mode": "lines",
         "opacity": 0.0026666666666666666,
         "type": "scattergeo"
        },
        {
         "hoverinfo": "skip",
         "lat": [
          47.35193476,
          47.05017783
         ],
         "line": {
          "color": "red",
          "width": 5
         },
         "lon": [
          7.907699648,
          8.310183207
         ],
         "mode": "lines",
         "opacity": 0.029333333333333333,
         "type": "scattergeo"
        },
        {
         "hoverinfo": "skip",
         "lat": [
          47.35193476,
          47.13289787
         ],
         "line": {
          "color": "red",
          "width": 5
         },
         "lon": [
          7.907699648,
          7.242910603
         ],
         "mode": "lines",
         "opacity": 0.152,
         "type": "scattergeo"
        },
        {
         "hoverinfo": "skip",
         "lat": [
          47.35193476,
          47.18877469
         ],
         "line": {
          "color": "red",
          "width": 5
         },
         "lon": [
          7.907699648,
          7.398180061
         ],
         "mode": "lines",
         "opacity": 0.005333333333333333,
         "type": "scattergeo"
        },
        {
         "hoverinfo": "skip",
         "lat": [
          47.35193476,
          47.2041925
         ],
         "line": {
          "color": "red",
          "width": 5
         },
         "lon": [
          7.907699648,
          7.542689211
         ],
         "mode": "lines",
         "opacity": 0.2826666666666667,
         "type": "scattergeo"
        },
        {
         "hoverinfo": "skip",
         "lat": [
          47.35193476,
          47.28503511
         ],
         "line": {
          "color": "red",
          "width": 5
         },
         "lon": [
          7.907699648,
          7.709870322
         ],
         "mode": "lines",
         "opacity": 0.04,
         "type": "scattergeo"
        },
        {
         "hoverinfo": "skip",
         "lat": [
          47.35193476,
          47.35193476
         ],
         "line": {
          "color": "red",
          "width": 5
         },
         "lon": [
          7.907699648,
          7.907699648
         ],
         "mode": "lines",
         "opacity": 0.010666666666666666,
         "type": "scattergeo"
        },
        {
         "hoverinfo": "skip",
         "lat": [
          47.35193476,
          47.37817667
         ],
         "line": {
          "color": "red",
          "width": 5
         },
         "lon": [
          7.907699648,
          8.540212349
         ],
         "mode": "lines",
         "opacity": 0.17066666666666666,
         "type": "scattergeo"
        },
        {
         "hoverinfo": "skip",
         "lat": [
          47.35193476,
          47.39135951
         ],
         "line": {
          "color": "red",
          "width": 5
         },
         "lon": [
          7.907699648,
          8.051273719
         ],
         "mode": "lines",
         "opacity": 0.042666666666666665,
         "type": "scattergeo"
        },
        {
         "hoverinfo": "skip",
         "lat": [
          47.35193476,
          47.42317895
         ],
         "line": {
          "color": "red",
          "width": 5
         },
         "lon": [
          7.907699648,
          9.369896663
         ],
         "mode": "lines",
         "opacity": 0.0026666666666666666,
         "type": "scattergeo"
        },
        {
         "hoverinfo": "skip",
         "lat": [
          47.35193476,
          47.50033381
         ],
         "line": {
          "color": "red",
          "width": 5
         },
         "lon": [
          7.907699648,
          8.723821055
         ],
         "mode": "lines",
         "opacity": 0.0026666666666666666,
         "type": "scattergeo"
        },
        {
         "hoverinfo": "skip",
         "lat": [
          47.35193476,
          47.54741206
         ],
         "line": {
          "color": "red",
          "width": 5
         },
         "lon": [
          7.907699648,
          7.58956279
         ],
         "mode": "lines",
         "opacity": 0.024,
         "type": "scattergeo"
        },
        {
         "hoverinfo": "skip",
         "lat": [
          47.3620127,
          47.13289787
         ],
         "line": {
          "color": "red",
          "width": 5
         },
         "lon": [
          7.350063323,
          7.242910603
         ],
         "mode": "lines",
         "opacity": 0.029333333333333333,
         "type": "scattergeo"
        },
        {
         "hoverinfo": "skip",
         "lat": [
          47.3620127,
          47.28067252
         ],
         "line": {
          "color": "red",
          "width": 5
         },
         "lon": [
          7.350063323,
          7.381044296
         ],
         "mode": "lines",
         "opacity": 0.008,
         "type": "scattergeo"
        },
        {
         "hoverinfo": "skip",
         "lat": [
          47.3620127,
          47.41934648
         ],
         "line": {
          "color": "red",
          "width": 5
         },
         "lon": [
          7.350063323,
          7.502636131
         ],
         "mode": "lines",
         "opacity": 0.010666666666666666,
         "type": "scattergeo"
        },
        {
         "hoverinfo": "skip",
         "lat": [
          47.3620127,
          47.54741206
         ],
         "line": {
          "color": "red",
          "width": 5
         },
         "lon": [
          7.350063323,
          7.58956279
         ],
         "mode": "lines",
         "opacity": 0.029333333333333333,
         "type": "scattergeo"
        },
        {
         "hoverinfo": "skip",
         "lat": [
          47.37817667,
          46.00550055
         ],
         "line": {
          "color": "red",
          "width": 5
         },
         "lon": [
          8.540212349,
          8.946995309
         ],
         "mode": "lines",
         "opacity": 0.010666666666666666,
         "type": "scattergeo"
        },
        {
         "hoverinfo": "skip",
         "lat": [
          47.37817667,
          46.19543179
         ],
         "line": {
          "color": "red",
          "width": 5
         },
         "lon": [
          8.540212349,
          9.029518512
         ],
         "mode": "lines",
         "opacity": 0.064,
         "type": "scattergeo"
        },
        {
         "hoverinfo": "skip",
         "lat": [
          47.37817667,
          46.23253853
         ],
         "line": {
          "color": "red",
          "width": 5
         },
         "lon": [
          8.540212349,
          6.111985573
         ],
         "mode": "lines",
         "opacity": 0.0026666666666666666,
         "type": "scattergeo"
        },
        {
         "hoverinfo": "skip",
         "lat": [
          47.37817667,
          46.29402914
         ],
         "line": {
          "color": "red",
          "width": 5
         },
         "lon": [
          8.540212349,
          7.881465476
         ],
         "mode": "lines",
         "opacity": 0.0026666666666666666,
         "type": "scattergeo"
        },
        {
         "hoverinfo": "skip",
         "lat": [
          47.37817667,
          46.5111012
         ],
         "line": {
          "color": "red",
          "width": 5
         },
         "lon": [
          8.540212349,
          6.493969501
         ],
         "mode": "lines",
         "opacity": 0.0026666666666666666,
         "type": "scattergeo"
        },
        {
         "hoverinfo": "skip",
         "lat": [
          47.37817667,
          46.51679184
         ],
         "line": {
          "color": "red",
          "width": 5
         },
         "lon": [
          8.540212349,
          6.629092303
         ],
         "mode": "lines",
         "opacity": 0.005333333333333333,
         "type": "scattergeo"
        },
        {
         "hoverinfo": "skip",
         "lat": [
          47.37817667,
          46.75485273
         ],
         "line": {
          "color": "red",
          "width": 5
         },
         "lon": [
          8.540212349,
          7.629605829
         ],
         "mode": "lines",
         "opacity": 0.005333333333333333,
         "type": "scattergeo"
        },
        {
         "hoverinfo": "skip",
         "lat": [
          47.37817667,
          46.78154519
         ],
         "line": {
          "color": "red",
          "width": 5
         },
         "lon": [
          8.540212349,
          6.640944002
         ],
         "mode": "lines",
         "opacity": 0.0026666666666666666,
         "type": "scattergeo"
        },
        {
         "hoverinfo": "skip",
         "lat": [
          47.37817667,
          46.85308416
         ],
         "line": {
          "color": "red",
          "width": 5
         },
         "lon": [
          8.540212349,
          9.528937733
         ],
         "mode": "lines",
         "opacity": 0.034666666666666665,
         "type": "scattergeo"
        },
        {
         "hoverinfo": "skip",
         "lat": [
          47.37817667,
          46.94883229
         ],
         "line": {
          "color": "red",
          "width": 5
         },
         "lon": [
          8.540212349,
          7.43913089
         ],
         "mode": "lines",
         "opacity": 0.424,
         "type": "scattergeo"
        },
        {
         "hoverinfo": "skip",
         "lat": [
          47.37817667,
          46.96744043
         ],
         "line": {
          "color": "red",
          "width": 5
         },
         "lon": [
          8.540212349,
          9.554044692
         ],
         "mode": "lines",
         "opacity": 0.18933333333333333,
         "type": "scattergeo"
        },
        {
         "hoverinfo": "skip",
         "lat": [
          47.37817667,
          46.99672679
         ],
         "line": {
          "color": "red",
          "width": 5
         },
         "lon": [
          8.540212349,
          6.935701694
         ],
         "mode": "lines",
         "opacity": 0.018666666666666668,
         "type": "scattergeo"
        },
        {
         "hoverinfo": "skip",
         "lat": [
          47.37817667,
          47.04482351
         ],
         "line": {
          "color": "red",
          "width": 5
         },
         "lon": [
          8.540212349,
          9.446260475
         ],
         "mode": "lines",
         "opacity": 0.12,
         "type": "scattergeo"
        },
        {
         "hoverinfo": "skip",
         "lat": [
          47.37817667,
          47.04904488
         ],
         "line": {
          "color": "red",
          "width": 5
         },
         "lon": [
          8.540212349,
          8.549446301
         ],
         "mode": "lines",
         "opacity": 0.06133333333333333,
         "type": "scattergeo"
        },
        {
         "hoverinfo": "skip",
         "lat": [
          47.37817667,
          47.13289787
         ],
         "line": {
          "color": "red",
          "width": 5
         },
         "lon": [
          8.540212349,
          7.242910603
         ],
         "mode": "lines",
         "opacity": 0.06133333333333333,
         "type": "scattergeo"
        },
        {
         "hoverinfo": "skip",
         "lat": [
          47.37817667,
          47.17370698
         ],
         "line": {
          "color": "red",
          "width": 5
         },
         "lon": [
          8.540212349,
          8.515049341
         ],
         "mode": "lines",
         "opacity": 0.042666666666666665,
         "type": "scattergeo"
        },
        {
         "hoverinfo": "skip",
         "lat": [
          47.37817667,
          47.18877469
         ],
         "line": {
          "color": "red",
          "width": 5
         },
         "lon": [
          8.540212349,
          7.398180061
         ],
         "mode": "lines",
         "opacity": 0.005333333333333333,
         "type": "scattergeo"
        },
        {
         "hoverinfo": "skip",
         "lat": [
          47.37817667,
          47.2041925
         ],
         "line": {
          "color": "red",
          "width": 5
         },
         "lon": [
          8.540212349,
          7.542689211
         ],
         "mode": "lines",
         "opacity": 0.072,
         "type": "scattergeo"
        },
        {
         "hoverinfo": "skip",
         "lat": [
          47.37817667,
          47.28503511
         ],
         "line": {
          "color": "red",
          "width": 5
         },
         "lon": [
          8.540212349,
          7.709870322
         ],
         "mode": "lines",
         "opacity": 0.024,
         "type": "scattergeo"
        },
        {
         "hoverinfo": "skip",
         "lat": [
          47.37817667,
          47.35193476
         ],
         "line": {
          "color": "red",
          "width": 5
         },
         "lon": [
          8.540212349,
          7.907699648
         ],
         "mode": "lines",
         "opacity": 0.13066666666666665,
         "type": "scattergeo"
        },
        {
         "hoverinfo": "skip",
         "lat": [
          47.37817667,
          47.37817667
         ],
         "line": {
          "color": "red",
          "width": 5
         },
         "lon": [
          8.540212349,
          8.540212349
         ],
         "mode": "lines",
         "opacity": 0.018666666666666668,
         "type": "scattergeo"
        },
        {
         "hoverinfo": "skip",
         "lat": [
          47.37817667,
          47.39135951
         ],
         "line": {
          "color": "red",
          "width": 5
         },
         "lon": [
          8.540212349,
          8.051273719
         ],
         "mode": "lines",
         "opacity": 0.064,
         "type": "scattergeo"
        },
        {
         "hoverinfo": "skip",
         "lat": [
          47.37817667,
          47.42317895
         ],
         "line": {
          "color": "red",
          "width": 5
         },
         "lon": [
          8.540212349,
          9.369896663
         ],
         "mode": "lines",
         "opacity": 0.010666666666666666,
         "type": "scattergeo"
        },
        {
         "hoverinfo": "skip",
         "lat": [
          47.37817667,
          47.45038563
         ],
         "line": {
          "color": "red",
          "width": 5
         },
         "lon": [
          8.540212349,
          8.56240182
         ],
         "mode": "lines",
         "opacity": 0.013333333333333334,
         "type": "scattergeo"
        },
        {
         "hoverinfo": "skip",
         "lat": [
          47.37817667,
          47.46241324
         ],
         "line": {
          "color": "red",
          "width": 5
         },
         "lon": [
          8.540212349,
          9.04099305
         ],
         "mode": "lines",
         "opacity": 0.0026666666666666666,
         "type": "scattergeo"
        },
        {
         "hoverinfo": "skip",
         "lat": [
          47.37817667,
          47.50033381
         ],
         "line": {
          "color": "red",
          "width": 5
         },
         "lon": [
          8.540212349,
          8.723821055
         ],
         "mode": "lines",
         "opacity": 0.029333333333333333,
         "type": "scattergeo"
        },
        {
         "hoverinfo": "skip",
         "lat": [
          47.37817667,
          47.54741206
         ],
         "line": {
          "color": "red",
          "width": 5
         },
         "lon": [
          8.540212349,
          7.58956279
         ],
         "mode": "lines",
         "opacity": 0.024,
         "type": "scattergeo"
        },
        {
         "hoverinfo": "skip",
         "lat": [
          47.37817667,
          47.5581634
         ],
         "line": {
          "color": "red",
          "width": 5
         },
         "lon": [
          8.540212349,
          8.896559673
         ],
         "mode": "lines",
         "opacity": 0.008,
         "type": "scattergeo"
        },
        {
         "hoverinfo": "skip",
         "lat": [
          47.37817667,
          47.56552286
         ],
         "line": {
          "color": "red",
          "width": 5
         },
         "lon": [
          8.540212349,
          9.379371292
         ],
         "mode": "lines",
         "opacity": 0.0026666666666666666,
         "type": "scattergeo"
        },
        {
         "hoverinfo": "skip",
         "lat": [
          47.37817667,
          47.56622426
         ],
         "line": {
          "color": "red",
          "width": 5
         },
         "lon": [
          8.540212349,
          9.106368222
         ],
         "mode": "lines",
         "opacity": 0.013333333333333334,
         "type": "scattergeo"
        },
        {
         "hoverinfo": "skip",
         "lat": [
          47.39135951,
          46.78154519
         ],
         "line": {
          "color": "red",
          "width": 5
         },
         "lon": [
          8.051273719,
          6.640944002
         ],
         "mode": "lines",
         "opacity": 0.0026666666666666666,
         "type": "scattergeo"
        },
        {
         "hoverinfo": "skip",
         "lat": [
          47.39135951,
          46.99672679
         ],
         "line": {
          "color": "red",
          "width": 5
         },
         "lon": [
          8.051273719,
          6.935701694
         ],
         "mode": "lines",
         "opacity": 0.0026666666666666666,
         "type": "scattergeo"
        },
        {
         "hoverinfo": "skip",
         "lat": [
          47.39135951,
          47.13289787
         ],
         "line": {
          "color": "red",
          "width": 5
         },
         "lon": [
          8.051273719,
          7.242910603
         ],
         "mode": "lines",
         "opacity": 0.032,
         "type": "scattergeo"
        },
        {
         "hoverinfo": "skip",
         "lat": [
          47.39135951,
          47.2041925
         ],
         "line": {
          "color": "red",
          "width": 5
         },
         "lon": [
          8.051273719,
          7.542689211
         ],
         "mode": "lines",
         "opacity": 0.058666666666666666,
         "type": "scattergeo"
        },
        {
         "hoverinfo": "skip",
         "lat": [
          47.39135951,
          47.35193476
         ],
         "line": {
          "color": "red",
          "width": 5
         },
         "lon": [
          8.051273719,
          7.907699648
         ],
         "mode": "lines",
         "opacity": 0.04533333333333334,
         "type": "scattergeo"
        },
        {
         "hoverinfo": "skip",
         "lat": [
          47.39135951,
          47.37817667
         ],
         "line": {
          "color": "red",
          "width": 5
         },
         "lon": [
          8.051273719,
          8.540212349
         ],
         "mode": "lines",
         "opacity": 0.072,
         "type": "scattergeo"
        },
        {
         "hoverinfo": "skip",
         "lat": [
          47.39135951,
          47.39135951
         ],
         "line": {
          "color": "red",
          "width": 5
         },
         "lon": [
          8.051273719,
          8.051273719
         ],
         "mode": "lines",
         "opacity": 0.0026666666666666666,
         "type": "scattergeo"
        },
        {
         "hoverinfo": "skip",
         "lat": [
          47.41153004,
          47.37817667
         ],
         "line": {
          "color": "red",
          "width": 5
         },
         "lon": [
          8.54413991,
          8.540212349
         ],
         "mode": "lines",
         "opacity": 0.0026666666666666666,
         "type": "scattergeo"
        },
        {
         "hoverinfo": "skip",
         "lat": [
          47.41153004,
          47.46241324
         ],
         "line": {
          "color": "red",
          "width": 5
         },
         "lon": [
          8.54413991,
          9.04099305
         ],
         "mode": "lines",
         "opacity": 0.0026666666666666666,
         "type": "scattergeo"
        },
        {
         "hoverinfo": "skip",
         "lat": [
          47.41934648,
          47.13289787
         ],
         "line": {
          "color": "red",
          "width": 5
         },
         "lon": [
          7.502636131,
          7.242910603
         ],
         "mode": "lines",
         "opacity": 0.016,
         "type": "scattergeo"
        },
        {
         "hoverinfo": "skip",
         "lat": [
          47.41934648,
          47.28067252
         ],
         "line": {
          "color": "red",
          "width": 5
         },
         "lon": [
          7.502636131,
          7.381044296
         ],
         "mode": "lines",
         "opacity": 0.0026666666666666666,
         "type": "scattergeo"
        },
        {
         "hoverinfo": "skip",
         "lat": [
          47.41934648,
          47.3620127
         ],
         "line": {
          "color": "red",
          "width": 5
         },
         "lon": [
          7.502636131,
          7.350063323
         ],
         "mode": "lines",
         "opacity": 0.010666666666666666,
         "type": "scattergeo"
        },
        {
         "hoverinfo": "skip",
         "lat": [
          47.41934648,
          47.54741206
         ],
         "line": {
          "color": "red",
          "width": 5
         },
         "lon": [
          7.502636131,
          7.58956279
         ],
         "mode": "lines",
         "opacity": 0.010666666666666666,
         "type": "scattergeo"
        },
        {
         "hoverinfo": "skip",
         "lat": [
          47.42317895,
          47.37817667
         ],
         "line": {
          "color": "red",
          "width": 5
         },
         "lon": [
          9.369896663,
          8.540212349
         ],
         "mode": "lines",
         "opacity": 0.013333333333333334,
         "type": "scattergeo"
        },
        {
         "hoverinfo": "skip",
         "lat": [
          47.42317895,
          47.39135951
         ],
         "line": {
          "color": "red",
          "width": 5
         },
         "lon": [
          9.369896663,
          8.051273719
         ],
         "mode": "lines",
         "opacity": 0.005333333333333333,
         "type": "scattergeo"
        },
        {
         "hoverinfo": "skip",
         "lat": [
          47.42317895,
          47.45038563
         ],
         "line": {
          "color": "red",
          "width": 5
         },
         "lon": [
          9.369896663,
          8.56240182
         ],
         "mode": "lines",
         "opacity": 0.0026666666666666666,
         "type": "scattergeo"
        },
        {
         "hoverinfo": "skip",
         "lat": [
          47.42317895,
          47.50033381
         ],
         "line": {
          "color": "red",
          "width": 5
         },
         "lon": [
          9.369896663,
          8.723821055
         ],
         "mode": "lines",
         "opacity": 0.005333333333333333,
         "type": "scattergeo"
        },
        {
         "hoverinfo": "skip",
         "lat": [
          47.45038563,
          47.37817667
         ],
         "line": {
          "color": "red",
          "width": 5
         },
         "lon": [
          8.56240182,
          8.540212349
         ],
         "mode": "lines",
         "opacity": 0.0026666666666666666,
         "type": "scattergeo"
        },
        {
         "hoverinfo": "skip",
         "lat": [
          47.45038563,
          47.56622426
         ],
         "line": {
          "color": "red",
          "width": 5
         },
         "lon": [
          8.56240182,
          9.106368222
         ],
         "mode": "lines",
         "opacity": 0.0026666666666666666,
         "type": "scattergeo"
        },
        {
         "hoverinfo": "skip",
         "lat": [
          47.48446117,
          47.54741206
         ],
         "line": {
          "color": "red",
          "width": 5
         },
         "lon": [
          7.731367481,
          7.58956279
         ],
         "mode": "lines",
         "opacity": 0.0026666666666666666,
         "type": "scattergeo"
        },
        {
         "hoverinfo": "skip",
         "lat": [
          47.50033381,
          46.94883229
         ],
         "line": {
          "color": "red",
          "width": 5
         },
         "lon": [
          8.723821055,
          7.43913089
         ],
         "mode": "lines",
         "opacity": 0.0026666666666666666,
         "type": "scattergeo"
        },
        {
         "hoverinfo": "skip",
         "lat": [
          47.50033381,
          47.13289787
         ],
         "line": {
          "color": "red",
          "width": 5
         },
         "lon": [
          8.723821055,
          7.242910603
         ],
         "mode": "lines",
         "opacity": 0.005333333333333333,
         "type": "scattergeo"
        },
        {
         "hoverinfo": "skip",
         "lat": [
          47.50033381,
          47.2041925
         ],
         "line": {
          "color": "red",
          "width": 5
         },
         "lon": [
          8.723821055,
          7.542689211
         ],
         "mode": "lines",
         "opacity": 0.005333333333333333,
         "type": "scattergeo"
        },
        {
         "hoverinfo": "skip",
         "lat": [
          47.50033381,
          47.35193476
         ],
         "line": {
          "color": "red",
          "width": 5
         },
         "lon": [
          8.723821055,
          7.907699648
         ],
         "mode": "lines",
         "opacity": 0.005333333333333333,
         "type": "scattergeo"
        },
        {
         "hoverinfo": "skip",
         "lat": [
          47.50033381,
          47.37817667
         ],
         "line": {
          "color": "red",
          "width": 5
         },
         "lon": [
          8.723821055,
          8.540212349
         ],
         "mode": "lines",
         "opacity": 0.042666666666666665,
         "type": "scattergeo"
        },
        {
         "hoverinfo": "skip",
         "lat": [
          47.50033381,
          47.39135951
         ],
         "line": {
          "color": "red",
          "width": 5
         },
         "lon": [
          8.723821055,
          8.051273719
         ],
         "mode": "lines",
         "opacity": 0.0026666666666666666,
         "type": "scattergeo"
        },
        {
         "hoverinfo": "skip",
         "lat": [
          47.50033381,
          47.42317895
         ],
         "line": {
          "color": "red",
          "width": 5
         },
         "lon": [
          8.723821055,
          9.369896663
         ],
         "mode": "lines",
         "opacity": 0.010666666666666666,
         "type": "scattergeo"
        },
        {
         "hoverinfo": "skip",
         "lat": [
          47.50033381,
          47.5581634
         ],
         "line": {
          "color": "red",
          "width": 5
         },
         "lon": [
          8.723821055,
          8.896559673
         ],
         "mode": "lines",
         "opacity": 0.008,
         "type": "scattergeo"
        },
        {
         "hoverinfo": "skip",
         "lat": [
          47.50033381,
          47.56622426
         ],
         "line": {
          "color": "red",
          "width": 5
         },
         "lon": [
          8.723821055,
          9.106368222
         ],
         "mode": "lines",
         "opacity": 0.008,
         "type": "scattergeo"
        },
        {
         "hoverinfo": "skip",
         "lat": [
          47.54741206,
          46.00550055
         ],
         "line": {
          "color": "red",
          "width": 5
         },
         "lon": [
          7.58956279,
          8.946995309
         ],
         "mode": "lines",
         "opacity": 0.013333333333333334,
         "type": "scattergeo"
        },
        {
         "hoverinfo": "skip",
         "lat": [
          47.54741206,
          46.19543179
         ],
         "line": {
          "color": "red",
          "width": 5
         },
         "lon": [
          7.58956279,
          9.029518512
         ],
         "mode": "lines",
         "opacity": 0.005333333333333333,
         "type": "scattergeo"
        },
        {
         "hoverinfo": "skip",
         "lat": [
          47.54741206,
          46.94883229
         ],
         "line": {
          "color": "red",
          "width": 5
         },
         "lon": [
          7.58956279,
          7.43913089
         ],
         "mode": "lines",
         "opacity": 0.013333333333333334,
         "type": "scattergeo"
        },
        {
         "hoverinfo": "skip",
         "lat": [
          47.54741206,
          47.04904488
         ],
         "line": {
          "color": "red",
          "width": 5
         },
         "lon": [
          7.58956279,
          8.549446301
         ],
         "mode": "lines",
         "opacity": 0.005333333333333333,
         "type": "scattergeo"
        },
        {
         "hoverinfo": "skip",
         "lat": [
          47.54741206,
          47.05017783
         ],
         "line": {
          "color": "red",
          "width": 5
         },
         "lon": [
          7.58956279,
          8.310183207
         ],
         "mode": "lines",
         "opacity": 0.010666666666666666,
         "type": "scattergeo"
        },
        {
         "hoverinfo": "skip",
         "lat": [
          47.54741206,
          47.13289787
         ],
         "line": {
          "color": "red",
          "width": 5
         },
         "lon": [
          7.58956279,
          7.242910603
         ],
         "mode": "lines",
         "opacity": 0.07466666666666667,
         "type": "scattergeo"
        },
        {
         "hoverinfo": "skip",
         "lat": [
          47.54741206,
          47.19169821
         ],
         "line": {
          "color": "red",
          "width": 5
         },
         "lon": [
          7.58956279,
          7.389618663
         ],
         "mode": "lines",
         "opacity": 0.010666666666666666,
         "type": "scattergeo"
        },
        {
         "hoverinfo": "skip",
         "lat": [
          47.54741206,
          47.28067252
         ],
         "line": {
          "color": "red",
          "width": 5
         },
         "lon": [
          7.58956279,
          7.381044296
         ],
         "mode": "lines",
         "opacity": 0.005333333333333333,
         "type": "scattergeo"
        },
        {
         "hoverinfo": "skip",
         "lat": [
          47.54741206,
          47.35193476
         ],
         "line": {
          "color": "red",
          "width": 5
         },
         "lon": [
          7.58956279,
          7.907699648
         ],
         "mode": "lines",
         "opacity": 0.008,
         "type": "scattergeo"
        },
        {
         "hoverinfo": "skip",
         "lat": [
          47.54741206,
          47.3620127
         ],
         "line": {
          "color": "red",
          "width": 5
         },
         "lon": [
          7.58956279,
          7.350063323
         ],
         "mode": "lines",
         "opacity": 0.05333333333333334,
         "type": "scattergeo"
        },
        {
         "hoverinfo": "skip",
         "lat": [
          47.54741206,
          47.37817667
         ],
         "line": {
          "color": "red",
          "width": 5
         },
         "lon": [
          7.58956279,
          8.540212349
         ],
         "mode": "lines",
         "opacity": 0.016,
         "type": "scattergeo"
        },
        {
         "hoverinfo": "skip",
         "lat": [
          47.54741206,
          47.41934648
         ],
         "line": {
          "color": "red",
          "width": 5
         },
         "lon": [
          7.58956279,
          7.502636131
         ],
         "mode": "lines",
         "opacity": 0.010666666666666666,
         "type": "scattergeo"
        },
        {
         "hoverinfo": "skip",
         "lat": [
          47.55044972,
          47.50033381
         ],
         "line": {
          "color": "red",
          "width": 5
         },
         "lon": [
          9.302227201,
          8.723821055
         ],
         "mode": "lines",
         "opacity": 0.0026666666666666666,
         "type": "scattergeo"
        },
        {
         "hoverinfo": "skip",
         "lat": [
          47.55044972,
          47.5581634
         ],
         "line": {
          "color": "red",
          "width": 5
         },
         "lon": [
          9.302227201,
          8.896559673
         ],
         "mode": "lines",
         "opacity": 0.005333333333333333,
         "type": "scattergeo"
        },
        {
         "hoverinfo": "skip",
         "lat": [
          47.5581634,
          46.94883229
         ],
         "line": {
          "color": "red",
          "width": 5
         },
         "lon": [
          8.896559673,
          7.43913089
         ],
         "mode": "lines",
         "opacity": 0.0026666666666666666,
         "type": "scattergeo"
        },
        {
         "hoverinfo": "skip",
         "lat": [
          47.5581634,
          47.37817667
         ],
         "line": {
          "color": "red",
          "width": 5
         },
         "lon": [
          8.896559673,
          8.540212349
         ],
         "mode": "lines",
         "opacity": 0.016,
         "type": "scattergeo"
        },
        {
         "hoverinfo": "skip",
         "lat": [
          47.5581634,
          47.50033381
         ],
         "line": {
          "color": "red",
          "width": 5
         },
         "lon": [
          8.896559673,
          8.723821055
         ],
         "mode": "lines",
         "opacity": 0.013333333333333334,
         "type": "scattergeo"
        },
        {
         "hoverinfo": "skip",
         "lat": [
          47.5581634,
          47.56622426
         ],
         "line": {
          "color": "red",
          "width": 5
         },
         "lon": [
          8.896559673,
          9.106368222
         ],
         "mode": "lines",
         "opacity": 0.008,
         "type": "scattergeo"
        },
        {
         "hoverinfo": "skip",
         "lat": [
          47.56552286,
          46.94883229
         ],
         "line": {
          "color": "red",
          "width": 5
         },
         "lon": [
          9.379371292,
          7.43913089
         ],
         "mode": "lines",
         "opacity": 0.0026666666666666666,
         "type": "scattergeo"
        },
        {
         "hoverinfo": "skip",
         "lat": [
          47.56552286,
          47.37817667
         ],
         "line": {
          "color": "red",
          "width": 5
         },
         "lon": [
          9.379371292,
          8.540212349
         ],
         "mode": "lines",
         "opacity": 0.005333333333333333,
         "type": "scattergeo"
        },
        {
         "hoverinfo": "skip",
         "lat": [
          47.56552286,
          47.50033381
         ],
         "line": {
          "color": "red",
          "width": 5
         },
         "lon": [
          9.379371292,
          8.723821055
         ],
         "mode": "lines",
         "opacity": 0.0026666666666666666,
         "type": "scattergeo"
        },
        {
         "hoverinfo": "skip",
         "lat": [
          47.56552286,
          47.5581634
         ],
         "line": {
          "color": "red",
          "width": 5
         },
         "lon": [
          9.379371292,
          8.896559673
         ],
         "mode": "lines",
         "opacity": 0.0026666666666666666,
         "type": "scattergeo"
        },
        {
         "hoverinfo": "skip",
         "lat": [
          47.56552286,
          47.56622426
         ],
         "line": {
          "color": "red",
          "width": 5
         },
         "lon": [
          9.379371292,
          9.106368222
         ],
         "mode": "lines",
         "opacity": 0.005333333333333333,
         "type": "scattergeo"
        },
        {
         "hoverinfo": "skip",
         "lat": [
          47.56622426,
          47.37817667
         ],
         "line": {
          "color": "red",
          "width": 5
         },
         "lon": [
          9.106368222,
          8.540212349
         ],
         "mode": "lines",
         "opacity": 0.005333333333333333,
         "type": "scattergeo"
        },
        {
         "hoverinfo": "skip",
         "lat": [
          47.56622426,
          47.50033381
         ],
         "line": {
          "color": "red",
          "width": 5
         },
         "lon": [
          9.106368222,
          8.723821055
         ],
         "mode": "lines",
         "opacity": 0.010666666666666666,
         "type": "scattergeo"
        },
        {
         "hoverinfo": "skip",
         "lat": [
          47.56622426,
          47.5581634
         ],
         "line": {
          "color": "red",
          "width": 5
         },
         "lon": [
          9.106368222,
          8.896559673
         ],
         "mode": "lines",
         "opacity": 0.005333333333333333,
         "type": "scattergeo"
        },
        {
         "hoverinfo": "skip",
         "lat": [
          47.56622426,
          47.56552286
         ],
         "line": {
          "color": "red",
          "width": 5
         },
         "lon": [
          9.106368222,
          9.379371292
         ],
         "mode": "lines",
         "opacity": 0.0026666666666666666,
         "type": "scattergeo"
        }
       ],
       "layout": {
        "geo": {
         "center": {
          "lat": 46.818188,
          "lon": 8.227512
         },
         "countrycolor": "Black",
         "lataxis": {
          "range": [
           44,
           47
          ]
         },
         "lonaxis": {
          "range": [
           5,
           10
          ]
         },
         "resolution": 50,
         "showcountries": true,
         "showsubunits": true,
         "subunitcolor": "Blue",
         "visible": false
        },
        "height": 800,
        "showlegend": false,
        "template": {
         "data": {
          "bar": [
           {
            "error_x": {
             "color": "#2a3f5f"
            },
            "error_y": {
             "color": "#2a3f5f"
            },
            "marker": {
             "line": {
              "color": "#E5ECF6",
              "width": 0.5
             }
            },
            "type": "bar"
           }
          ],
          "barpolar": [
           {
            "marker": {
             "line": {
              "color": "#E5ECF6",
              "width": 0.5
             }
            },
            "type": "barpolar"
           }
          ],
          "carpet": [
           {
            "aaxis": {
             "endlinecolor": "#2a3f5f",
             "gridcolor": "white",
             "linecolor": "white",
             "minorgridcolor": "white",
             "startlinecolor": "#2a3f5f"
            },
            "baxis": {
             "endlinecolor": "#2a3f5f",
             "gridcolor": "white",
             "linecolor": "white",
             "minorgridcolor": "white",
             "startlinecolor": "#2a3f5f"
            },
            "type": "carpet"
           }
          ],
          "choropleth": [
           {
            "colorbar": {
             "outlinewidth": 0,
             "ticks": ""
            },
            "type": "choropleth"
           }
          ],
          "contour": [
           {
            "colorbar": {
             "outlinewidth": 0,
             "ticks": ""
            },
            "colorscale": [
             [
              0,
              "#0d0887"
             ],
             [
              0.1111111111111111,
              "#46039f"
             ],
             [
              0.2222222222222222,
              "#7201a8"
             ],
             [
              0.3333333333333333,
              "#9c179e"
             ],
             [
              0.4444444444444444,
              "#bd3786"
             ],
             [
              0.5555555555555556,
              "#d8576b"
             ],
             [
              0.6666666666666666,
              "#ed7953"
             ],
             [
              0.7777777777777778,
              "#fb9f3a"
             ],
             [
              0.8888888888888888,
              "#fdca26"
             ],
             [
              1,
              "#f0f921"
             ]
            ],
            "type": "contour"
           }
          ],
          "contourcarpet": [
           {
            "colorbar": {
             "outlinewidth": 0,
             "ticks": ""
            },
            "type": "contourcarpet"
           }
          ],
          "heatmap": [
           {
            "colorbar": {
             "outlinewidth": 0,
             "ticks": ""
            },
            "colorscale": [
             [
              0,
              "#0d0887"
             ],
             [
              0.1111111111111111,
              "#46039f"
             ],
             [
              0.2222222222222222,
              "#7201a8"
             ],
             [
              0.3333333333333333,
              "#9c179e"
             ],
             [
              0.4444444444444444,
              "#bd3786"
             ],
             [
              0.5555555555555556,
              "#d8576b"
             ],
             [
              0.6666666666666666,
              "#ed7953"
             ],
             [
              0.7777777777777778,
              "#fb9f3a"
             ],
             [
              0.8888888888888888,
              "#fdca26"
             ],
             [
              1,
              "#f0f921"
             ]
            ],
            "type": "heatmap"
           }
          ],
          "heatmapgl": [
           {
            "colorbar": {
             "outlinewidth": 0,
             "ticks": ""
            },
            "colorscale": [
             [
              0,
              "#0d0887"
             ],
             [
              0.1111111111111111,
              "#46039f"
             ],
             [
              0.2222222222222222,
              "#7201a8"
             ],
             [
              0.3333333333333333,
              "#9c179e"
             ],
             [
              0.4444444444444444,
              "#bd3786"
             ],
             [
              0.5555555555555556,
              "#d8576b"
             ],
             [
              0.6666666666666666,
              "#ed7953"
             ],
             [
              0.7777777777777778,
              "#fb9f3a"
             ],
             [
              0.8888888888888888,
              "#fdca26"
             ],
             [
              1,
              "#f0f921"
             ]
            ],
            "type": "heatmapgl"
           }
          ],
          "histogram": [
           {
            "marker": {
             "colorbar": {
              "outlinewidth": 0,
              "ticks": ""
             }
            },
            "type": "histogram"
           }
          ],
          "histogram2d": [
           {
            "colorbar": {
             "outlinewidth": 0,
             "ticks": ""
            },
            "colorscale": [
             [
              0,
              "#0d0887"
             ],
             [
              0.1111111111111111,
              "#46039f"
             ],
             [
              0.2222222222222222,
              "#7201a8"
             ],
             [
              0.3333333333333333,
              "#9c179e"
             ],
             [
              0.4444444444444444,
              "#bd3786"
             ],
             [
              0.5555555555555556,
              "#d8576b"
             ],
             [
              0.6666666666666666,
              "#ed7953"
             ],
             [
              0.7777777777777778,
              "#fb9f3a"
             ],
             [
              0.8888888888888888,
              "#fdca26"
             ],
             [
              1,
              "#f0f921"
             ]
            ],
            "type": "histogram2d"
           }
          ],
          "histogram2dcontour": [
           {
            "colorbar": {
             "outlinewidth": 0,
             "ticks": ""
            },
            "colorscale": [
             [
              0,
              "#0d0887"
             ],
             [
              0.1111111111111111,
              "#46039f"
             ],
             [
              0.2222222222222222,
              "#7201a8"
             ],
             [
              0.3333333333333333,
              "#9c179e"
             ],
             [
              0.4444444444444444,
              "#bd3786"
             ],
             [
              0.5555555555555556,
              "#d8576b"
             ],
             [
              0.6666666666666666,
              "#ed7953"
             ],
             [
              0.7777777777777778,
              "#fb9f3a"
             ],
             [
              0.8888888888888888,
              "#fdca26"
             ],
             [
              1,
              "#f0f921"
             ]
            ],
            "type": "histogram2dcontour"
           }
          ],
          "mesh3d": [
           {
            "colorbar": {
             "outlinewidth": 0,
             "ticks": ""
            },
            "type": "mesh3d"
           }
          ],
          "parcoords": [
           {
            "line": {
             "colorbar": {
              "outlinewidth": 0,
              "ticks": ""
             }
            },
            "type": "parcoords"
           }
          ],
          "pie": [
           {
            "automargin": true,
            "type": "pie"
           }
          ],
          "scatter": [
           {
            "marker": {
             "colorbar": {
              "outlinewidth": 0,
              "ticks": ""
             }
            },
            "type": "scatter"
           }
          ],
          "scatter3d": [
           {
            "line": {
             "colorbar": {
              "outlinewidth": 0,
              "ticks": ""
             }
            },
            "marker": {
             "colorbar": {
              "outlinewidth": 0,
              "ticks": ""
             }
            },
            "type": "scatter3d"
           }
          ],
          "scattercarpet": [
           {
            "marker": {
             "colorbar": {
              "outlinewidth": 0,
              "ticks": ""
             }
            },
            "type": "scattercarpet"
           }
          ],
          "scattergeo": [
           {
            "marker": {
             "colorbar": {
              "outlinewidth": 0,
              "ticks": ""
             }
            },
            "type": "scattergeo"
           }
          ],
          "scattergl": [
           {
            "marker": {
             "colorbar": {
              "outlinewidth": 0,
              "ticks": ""
             }
            },
            "type": "scattergl"
           }
          ],
          "scattermapbox": [
           {
            "marker": {
             "colorbar": {
              "outlinewidth": 0,
              "ticks": ""
             }
            },
            "type": "scattermapbox"
           }
          ],
          "scatterpolar": [
           {
            "marker": {
             "colorbar": {
              "outlinewidth": 0,
              "ticks": ""
             }
            },
            "type": "scatterpolar"
           }
          ],
          "scatterpolargl": [
           {
            "marker": {
             "colorbar": {
              "outlinewidth": 0,
              "ticks": ""
             }
            },
            "type": "scatterpolargl"
           }
          ],
          "scatterternary": [
           {
            "marker": {
             "colorbar": {
              "outlinewidth": 0,
              "ticks": ""
             }
            },
            "type": "scatterternary"
           }
          ],
          "surface": [
           {
            "colorbar": {
             "outlinewidth": 0,
             "ticks": ""
            },
            "colorscale": [
             [
              0,
              "#0d0887"
             ],
             [
              0.1111111111111111,
              "#46039f"
             ],
             [
              0.2222222222222222,
              "#7201a8"
             ],
             [
              0.3333333333333333,
              "#9c179e"
             ],
             [
              0.4444444444444444,
              "#bd3786"
             ],
             [
              0.5555555555555556,
              "#d8576b"
             ],
             [
              0.6666666666666666,
              "#ed7953"
             ],
             [
              0.7777777777777778,
              "#fb9f3a"
             ],
             [
              0.8888888888888888,
              "#fdca26"
             ],
             [
              1,
              "#f0f921"
             ]
            ],
            "type": "surface"
           }
          ],
          "table": [
           {
            "cells": {
             "fill": {
              "color": "#EBF0F8"
             },
             "line": {
              "color": "white"
             }
            },
            "header": {
             "fill": {
              "color": "#C8D4E3"
             },
             "line": {
              "color": "white"
             }
            },
            "type": "table"
           }
          ]
         },
         "layout": {
          "annotationdefaults": {
           "arrowcolor": "#2a3f5f",
           "arrowhead": 0,
           "arrowwidth": 1
          },
          "coloraxis": {
           "colorbar": {
            "outlinewidth": 0,
            "ticks": ""
           }
          },
          "colorscale": {
           "diverging": [
            [
             0,
             "#8e0152"
            ],
            [
             0.1,
             "#c51b7d"
            ],
            [
             0.2,
             "#de77ae"
            ],
            [
             0.3,
             "#f1b6da"
            ],
            [
             0.4,
             "#fde0ef"
            ],
            [
             0.5,
             "#f7f7f7"
            ],
            [
             0.6,
             "#e6f5d0"
            ],
            [
             0.7,
             "#b8e186"
            ],
            [
             0.8,
             "#7fbc41"
            ],
            [
             0.9,
             "#4d9221"
            ],
            [
             1,
             "#276419"
            ]
           ],
           "sequential": [
            [
             0,
             "#0d0887"
            ],
            [
             0.1111111111111111,
             "#46039f"
            ],
            [
             0.2222222222222222,
             "#7201a8"
            ],
            [
             0.3333333333333333,
             "#9c179e"
            ],
            [
             0.4444444444444444,
             "#bd3786"
            ],
            [
             0.5555555555555556,
             "#d8576b"
            ],
            [
             0.6666666666666666,
             "#ed7953"
            ],
            [
             0.7777777777777778,
             "#fb9f3a"
            ],
            [
             0.8888888888888888,
             "#fdca26"
            ],
            [
             1,
             "#f0f921"
            ]
           ],
           "sequentialminus": [
            [
             0,
             "#0d0887"
            ],
            [
             0.1111111111111111,
             "#46039f"
            ],
            [
             0.2222222222222222,
             "#7201a8"
            ],
            [
             0.3333333333333333,
             "#9c179e"
            ],
            [
             0.4444444444444444,
             "#bd3786"
            ],
            [
             0.5555555555555556,
             "#d8576b"
            ],
            [
             0.6666666666666666,
             "#ed7953"
            ],
            [
             0.7777777777777778,
             "#fb9f3a"
            ],
            [
             0.8888888888888888,
             "#fdca26"
            ],
            [
             1,
             "#f0f921"
            ]
           ]
          },
          "colorway": [
           "#636efa",
           "#EF553B",
           "#00cc96",
           "#ab63fa",
           "#FFA15A",
           "#19d3f3",
           "#FF6692",
           "#B6E880",
           "#FF97FF",
           "#FECB52"
          ],
          "font": {
           "color": "#2a3f5f"
          },
          "geo": {
           "bgcolor": "white",
           "lakecolor": "white",
           "landcolor": "#E5ECF6",
           "showlakes": true,
           "showland": true,
           "subunitcolor": "white"
          },
          "hoverlabel": {
           "align": "left"
          },
          "hovermode": "closest",
          "mapbox": {
           "style": "light"
          },
          "paper_bgcolor": "white",
          "plot_bgcolor": "#E5ECF6",
          "polar": {
           "angularaxis": {
            "gridcolor": "white",
            "linecolor": "white",
            "ticks": ""
           },
           "bgcolor": "#E5ECF6",
           "radialaxis": {
            "gridcolor": "white",
            "linecolor": "white",
            "ticks": ""
           }
          },
          "scene": {
           "xaxis": {
            "backgroundcolor": "#E5ECF6",
            "gridcolor": "white",
            "gridwidth": 2,
            "linecolor": "white",
            "showbackground": true,
            "ticks": "",
            "zerolinecolor": "white"
           },
           "yaxis": {
            "backgroundcolor": "#E5ECF6",
            "gridcolor": "white",
            "gridwidth": 2,
            "linecolor": "white",
            "showbackground": true,
            "ticks": "",
            "zerolinecolor": "white"
           },
           "zaxis": {
            "backgroundcolor": "#E5ECF6",
            "gridcolor": "white",
            "gridwidth": 2,
            "linecolor": "white",
            "showbackground": true,
            "ticks": "",
            "zerolinecolor": "white"
           }
          },
          "shapedefaults": {
           "line": {
            "color": "#2a3f5f"
           }
          },
          "ternary": {
           "aaxis": {
            "gridcolor": "white",
            "linecolor": "white",
            "ticks": ""
           },
           "baxis": {
            "gridcolor": "white",
            "linecolor": "white",
            "ticks": ""
           },
           "bgcolor": "#E5ECF6",
           "caxis": {
            "gridcolor": "white",
            "linecolor": "white",
            "ticks": ""
           }
          },
          "title": {
           "x": 0.05
          },
          "xaxis": {
           "automargin": true,
           "gridcolor": "white",
           "linecolor": "white",
           "ticks": "",
           "title": {
            "standoff": 15
           },
           "zerolinecolor": "white",
           "zerolinewidth": 2
          },
          "yaxis": {
           "automargin": true,
           "gridcolor": "white",
           "linecolor": "white",
           "ticks": "",
           "title": {
            "standoff": 15
           },
           "zerolinecolor": "white",
           "zerolinewidth": 2
          }
         }
        },
        "width": 1200
       }
      }
     },
     "metadata": {},
     "output_type": "display_data"
    }
   ],
   "source": [
    "import plotly.graph_objects as go\n",
    "\n",
    "fig = go.Figure(\n",
    "    layout=go.Layout(\n",
    "        showlegend= False,\n",
    "        height=800, \n",
    "        width=1200, \n",
    "        geo = {\n",
    "            \"center\": {\n",
    "                \"lat\": 46.818188,\n",
    "                \"lon\": 8.227512\n",
    "            },\n",
    "            \"lataxis\": {\"range\": [44, 47]},\n",
    "            \"lonaxis\": {\"range\": [5, 10]},\n",
    "        }\n",
    "    )\n",
    ")\n",
    "\n",
    "fig.add_trace(go.Scattergeo(\n",
    "    lon = IC_train_stations['lon'],\n",
    "    lat = IC_train_stations['lat'],\n",
    "    text = IC_train_stations['Name Haltestelle'],\n",
    "    mode = 'markers',\n",
    "    hoverinfo = \"text\",\n",
    "    marker = dict(\n",
    "        size = 5,\n",
    "        color = 'rgb(255, 0, 0)',\n",
    "        line = dict(\n",
    "            width = 3,\n",
    "            color = 'rgba(68, 68, 68, 0)'\n",
    "        )\n",
    "    )))\n",
    "\n",
    "for i in range(len(booked_in_advance_grouped_coord)):\n",
    "    fig.add_trace(\n",
    "        go.Scattergeo(\n",
    "            lon = [booked_in_advance_grouped_coord['lon_from'][i], booked_in_advance_grouped_coord['lon_to'][i]],\n",
    "            lat = [booked_in_advance_grouped_coord['lat_from'][i], booked_in_advance_grouped_coord['lat_to'][i]],\n",
    "            mode = 'lines',\n",
    "            hoverinfo = \"skip\",\n",
    "            line = dict(width = 5,color = 'red'),\n",
    "            opacity = float(booked_in_advance_grouped_coord['book_in_advance'][i]) / float(booked_in_advance_grouped_coord['book_in_advance'].max()),\n",
    "        )\n",
    "    )\n",
    "\n",
    "fig.update_geos(\n",
    "    visible=False, resolution=50,\n",
    "    showcountries=True, countrycolor=\"Black\",\n",
    "    showsubunits=True, subunitcolor=\"Blue\"\n",
    ")\n",
    "\n",
    "fig.show()"
   ]
  },
  {
   "cell_type": "code",
   "execution_count": null,
   "metadata": {},
   "outputs": [],
   "source": []
  }
 ],
 "metadata": {
  "interpreter": {
   "hash": "e6846f8f0a2762e1b7370d5cfba672b46e3daa1d9d4543bc0e25909a5d9d6226"
  },
  "kernelspec": {
   "display_name": "Python 3.9.7 ('tensorflow')",
   "language": "python",
   "name": "python3"
  },
  "language_info": {
   "codemirror_mode": {
    "name": "ipython",
    "version": 3
   },
   "file_extension": ".py",
   "mimetype": "text/x-python",
   "name": "python",
   "nbconvert_exporter": "python",
   "pygments_lexer": "ipython3",
   "version": "3.9.7"
  },
  "orig_nbformat": 4
 },
 "nbformat": 4,
 "nbformat_minor": 2
}
