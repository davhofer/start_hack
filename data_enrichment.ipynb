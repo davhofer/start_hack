{
 "cells": [
  {
   "cell_type": "markdown",
   "metadata": {
    "_uuid": "2221d9ce0419513808069487a0bbb7a240bfa6db"
   },
   "source": [
    "# Data enrichment"
   ]
  },
  {
   "cell_type": "markdown",
   "metadata": {
    "_uuid": "32af863b96dea6b55e2edb2ef9efd3b7700eeb47"
   },
   "source": [
    "### <u>Content:<u>\n",
    "\n",
    "[1) Load data sets\n",
    "\n",
    "[2) Add week day and month to reservation data\n",
    "    \n",
    "[3) Estimate part of the Swiss population that is on holiday for any given date\n",
    "    \n",
    "[4) Add coordinates for start and destination \n",
    "\n",
    "[5) Get weather data\n",
    "    \n",
    "[6) Get capacity data for trains in 2020 according to the expected train formation\n"
   ]
  },
  {
   "cell_type": "code",
   "execution_count": 32,
   "metadata": {
    "_uuid": "3fb7e3274cdb7252c5434d45e35b5db673d83a1f"
   },
   "outputs": [],
   "source": [
    "#Import packages\n",
    "import pandas as pd\n",
    "import numpy as np\n",
    "import matplotlib.pyplot as plt\n",
    "from matplotlib.pylab import rcParams\n",
    "from scipy.spatial.distance import cdist\n",
    "import datetime\n",
    "import meteomatics.api as api\n",
    "import datetime as dt\n",
    "%matplotlib inline\n",
    "rcParams['figure.figsize']=10,8"
   ]
  },
  {
   "cell_type": "markdown",
   "metadata": {
    "_uuid": "dba61c61e778a17f4fc311b7e207268a0068c262"
   },
   "source": [
    "#### 1) Load data"
   ]
  },
  {
   "cell_type": "code",
   "execution_count": 33,
   "metadata": {
    "_uuid": "f3336d998053e4d1e6bc2760a7b5ed3a65b525be"
   },
   "outputs": [
    {
     "name": "stderr",
     "output_type": "stream",
     "text": [
      "/Users/oli/miniforge3/envs/tensorflow/lib/python3.9/site-packages/IPython/core/interactiveshell.py:3444: DtypeWarning: Columns (15) have mixed types.Specify dtype option on import or set low_memory=False.\n",
      "  exec(code_obj, self.user_global_ns, self.user_ns)\n",
      "/Users/oli/miniforge3/envs/tensorflow/lib/python3.9/site-packages/IPython/core/interactiveshell.py:3444: DtypeWarning: Columns (24,25,26,27,28,29,30,31,32,34) have mixed types.Specify dtype option on import or set low_memory=False.\n",
      "  exec(code_obj, self.user_global_ns, self.user_ns)\n"
     ]
    }
   ],
   "source": [
    "#read the reservation data \n",
    "df = pd.read_csv('data_raw/reservation_data_2019-2021_incl_capacity.csv', \n",
    "                 parse_dates=[\"date\"], date_parser=lambda x: pd.to_datetime(x, format=\"%Y-%m-%d %H:%M:%S\"))         \n",
    "\n",
    "# read holiday data\n",
    "df_schulferien = pd.read_csv('data_preprocessed/Schulferien.csv', dtype={\"canton\": \"string\", \"population\": \"int32\"})\n",
    "df_schulferien['start'] = pd.to_datetime(df_schulferien['holidays_start'])\n",
    "df_schulferien['end'] = pd.to_datetime(df_schulferien['holidays_end'])\n",
    "df_schulferien = df_schulferien.drop(columns=[\"holidays_start\", \"holidays_end\"])\n",
    "\n",
    "# train station coordinates data\n",
    "df_coordinates = pd.read_csv('data_preprocessed/dienststellen.csv')\n",
    "df_coordinates = df_coordinates[[\"abk_bahnhof\", \"lat\", \"lon\"]]\n",
    "df_coordinates = df_coordinates[df_coordinates['abk_bahnhof'].notna()]\n",
    "\n",
    "# jahresformation\n",
    "df_jahresformation = pd.read_csv(\"data_preprocessed/jahresformation.csv\", dtype={\"Block Bezeichnung\": \"string\"})\n",
    "\n",
    "# kapazität\n",
    "df_kapazität = pd.read_csv(\"data_preprocessed/rollmaterial-matching.csv\")\n"
   ]
  },
  {
   "cell_type": "code",
   "execution_count": 34,
   "metadata": {},
   "outputs": [
    {
     "data": {
      "text/html": [
       "<div>\n",
       "<style scoped>\n",
       "    .dataframe tbody tr th:only-of-type {\n",
       "        vertical-align: middle;\n",
       "    }\n",
       "\n",
       "    .dataframe tbody tr th {\n",
       "        vertical-align: top;\n",
       "    }\n",
       "\n",
       "    .dataframe thead th {\n",
       "        text-align: right;\n",
       "    }\n",
       "</style>\n",
       "<table border=\"1\" class=\"dataframe\">\n",
       "  <thead>\n",
       "    <tr style=\"text-align: right;\">\n",
       "      <th></th>\n",
       "      <th>start</th>\n",
       "      <th>start_loc</th>\n",
       "      <th>count</th>\n",
       "      <th>end</th>\n",
       "      <th>end_loc</th>\n",
       "      <th>capacity</th>\n",
       "      <th>line</th>\n",
       "      <th>travel_date</th>\n",
       "      <th>latest_res_dt</th>\n",
       "    </tr>\n",
       "  </thead>\n",
       "  <tbody>\n",
       "    <tr>\n",
       "      <th>115772</th>\n",
       "      <td>2021-10-24 15:47:30</td>\n",
       "      <td>LQ</td>\n",
       "      <td>11.0</td>\n",
       "      <td>2021-10-24 15:56:24</td>\n",
       "      <td>SA</td>\n",
       "      <td>35.0</td>\n",
       "      <td>IC 3</td>\n",
       "      <td>2021-10-24</td>\n",
       "      <td>2021-10-24 15:47:30</td>\n",
       "    </tr>\n",
       "    <tr>\n",
       "      <th>115773</th>\n",
       "      <td>2021-10-24 15:56:24</td>\n",
       "      <td>SA</td>\n",
       "      <td>18.0</td>\n",
       "      <td>2021-10-24 16:53:00</td>\n",
       "      <td>ZUE</td>\n",
       "      <td>35.0</td>\n",
       "      <td>IC 3</td>\n",
       "      <td>2021-10-24</td>\n",
       "      <td>2021-10-24 15:56:24</td>\n",
       "    </tr>\n",
       "  </tbody>\n",
       "</table>\n",
       "</div>"
      ],
      "text/plain": [
       "                     start start_loc  count                 end end_loc  \\\n",
       "115772 2021-10-24 15:47:30        LQ   11.0 2021-10-24 15:56:24      SA   \n",
       "115773 2021-10-24 15:56:24        SA   18.0 2021-10-24 16:53:00     ZUE   \n",
       "\n",
       "        capacity  line travel_date       latest_res_dt  \n",
       "115772      35.0  IC 3  2021-10-24 2021-10-24 15:47:30  \n",
       "115773      35.0  IC 3  2021-10-24 2021-10-24 15:56:24  "
      ]
     },
     "metadata": {},
     "output_type": "display_data"
    }
   ],
   "source": [
    "df_weather = pd.read_csv(\"data_preprocessed/weather.csv\", parse_dates=[\"validdate\"])\n",
    "df_weather = df_weather.rename(columns={\"validdate\": \"date\"}).set_index(\"date\")\n",
    "\n",
    "# read model data \n",
    "parse_dates = [\"start\", \"end\", \"travel_date\", \"latest_res_dt\"]\n",
    "df_model = pd.read_csv(\"model_data.csv\", parse_dates=parse_dates)        \n",
    "        \n",
    "display(df_model.tail(2))"
   ]
  },
  {
   "cell_type": "code",
   "execution_count": 35,
   "metadata": {},
   "outputs": [],
   "source": [
    "df_weather = df_weather.resample('d')[['leisure_biking:idx', \"t_2m:C\", \"precip_24h:mm\"]].mean()\n",
    "df_weather = df_weather.reset_index()\n",
    "df_weather[\"date\"] = df_weather[\"date\"].apply(lambda x: x.replace(tzinfo=None))\n",
    "df_model = pd.merge(df_model, df_weather, left_on='travel_date', right_on='date')"
   ]
  },
  {
   "cell_type": "code",
   "execution_count": 37,
   "metadata": {},
   "outputs": [],
   "source": [
    "df_model.to_csv('model/model_data_weather.csv', index=False)"
   ]
  },
  {
   "cell_type": "markdown",
   "metadata": {
    "_uuid": "11cfab56463119e89386f321ae32a8f4ddba59d2"
   },
   "source": [
    "#### 2) Week day <a name=\"stat\"></a>\n",
    "\n",
    "- Add a feature for weekday: 'weekday' and 'month'"
   ]
  },
  {
   "cell_type": "code",
   "execution_count": null,
   "metadata": {
    "_uuid": "ea0865fdc8a2076e90f2f817c6af255cc3090630"
   },
   "outputs": [],
   "source": [
    "df['weekday'] = df['date'].dt.dayofweek\n",
    "df['month'] = df['date'].dt.month"
   ]
  },
  {
   "cell_type": "markdown",
   "metadata": {},
   "source": [
    "#### 3) Holidays <a name=\"stat\"></a>\n",
    "- Add a feature for number of people in holiday canton: n_holiday"
   ]
  },
  {
   "cell_type": "code",
   "execution_count": null,
   "metadata": {},
   "outputs": [],
   "source": [
    "# for each date, get the number of people in Switzerland who \n",
    "# are either on school holiday or national holiday..\n",
    "def get_holiday_people(date):\n",
    "    filtered_holidays = df_schulferien[(df_schulferien['start']<=date)&(df_schulferien['end']>=date)]\n",
    "    is_national_holiday = (filtered_holidays[\"canton\"]==\"national\").sum()\n",
    "    if is_national_holiday:\n",
    "        people = 7917100\n",
    "    elif not(filtered_holidays.empty):\n",
    "        filtered_holidays = filtered_holidays[filtered_holidays[\"canton\"]!=\"national\"]\n",
    "        people = sum(filtered_holidays[\"population\"])\n",
    "    else: people=0\n",
    "    return people"
   ]
  },
  {
   "cell_type": "code",
   "execution_count": null,
   "metadata": {},
   "outputs": [],
   "source": [
    "# filter df, only 2021 data\n",
    "# df=df[df['date']>='2021-01-01']\n",
    "df['holiday_people'] = df.apply(lambda row : get_holiday_people(row['date']), axis = 1)\n",
    "\n",
    "# df_model['holiday_people'] = df.apply(lambda row : get_holiday_people(row['date']), axis = 1)"
   ]
  },
  {
   "cell_type": "markdown",
   "metadata": {
    "_uuid": "fe4cf230d2c14cbbcef7e26ebbb249777cfa7cb3"
   },
   "source": [
    "#### 4) Coordinates <a name=\"hr\"></a>"
   ]
  },
  {
   "cell_type": "code",
   "execution_count": 16,
   "metadata": {},
   "outputs": [
    {
     "data": {
      "text/html": [
       "<div>\n",
       "<style scoped>\n",
       "    .dataframe tbody tr th:only-of-type {\n",
       "        vertical-align: middle;\n",
       "    }\n",
       "\n",
       "    .dataframe tbody tr th {\n",
       "        vertical-align: top;\n",
       "    }\n",
       "\n",
       "    .dataframe thead th {\n",
       "        text-align: right;\n",
       "    }\n",
       "</style>\n",
       "<table border=\"1\" class=\"dataframe\">\n",
       "  <thead>\n",
       "    <tr style=\"text-align: right;\">\n",
       "      <th></th>\n",
       "      <th>Unnamed: 0</th>\n",
       "      <th>res_id</th>\n",
       "      <th>res_dt</th>\n",
       "      <th>date</th>\n",
       "      <th>train_nr</th>\n",
       "      <th>line</th>\n",
       "      <th>reserved</th>\n",
       "      <th>capacity</th>\n",
       "      <th>bp_from</th>\n",
       "      <th>bp_to</th>\n",
       "      <th>...</th>\n",
       "      <th>dep_soll</th>\n",
       "      <th>arr_ist</th>\n",
       "      <th>arr_soll</th>\n",
       "      <th>res_delta_ist</th>\n",
       "      <th>res_delta_soll</th>\n",
       "      <th>res_delta_valid</th>\n",
       "      <th>lat_from</th>\n",
       "      <th>lon_from</th>\n",
       "      <th>lat_to</th>\n",
       "      <th>lon_to</th>\n",
       "    </tr>\n",
       "  </thead>\n",
       "  <tbody>\n",
       "    <tr>\n",
       "      <th>0</th>\n",
       "      <td>0</td>\n",
       "      <td>0</td>\n",
       "      <td>2019-03-29 00:00:00</td>\n",
       "      <td>2019-04-01</td>\n",
       "      <td>510</td>\n",
       "      <td>IC 5</td>\n",
       "      <td>1</td>\n",
       "      <td>NaN</td>\n",
       "      <td>ZUE</td>\n",
       "      <td>NE</td>\n",
       "      <td>...</td>\n",
       "      <td>2019-04-01 07:03:00</td>\n",
       "      <td>2019-04-01 08:33:00</td>\n",
       "      <td>2019-04-01 08:32:00</td>\n",
       "      <td>284667.0</td>\n",
       "      <td>284634</td>\n",
       "      <td>False</td>\n",
       "      <td>47.378177</td>\n",
       "      <td>8.540212</td>\n",
       "      <td>46.996727</td>\n",
       "      <td>6.935702</td>\n",
       "    </tr>\n",
       "    <tr>\n",
       "      <th>1</th>\n",
       "      <td>283</td>\n",
       "      <td>290</td>\n",
       "      <td>2019-04-06 00:00:00</td>\n",
       "      <td>2019-04-06</td>\n",
       "      <td>1528</td>\n",
       "      <td>IC 5</td>\n",
       "      <td>1</td>\n",
       "      <td>NaN</td>\n",
       "      <td>ZUE</td>\n",
       "      <td>NE</td>\n",
       "      <td>...</td>\n",
       "      <td>2019-04-06 16:30:00</td>\n",
       "      <td>2019-04-06 18:02:00</td>\n",
       "      <td>2019-04-06 18:01:00</td>\n",
       "      <td>59422.0</td>\n",
       "      <td>59418</td>\n",
       "      <td>False</td>\n",
       "      <td>47.378177</td>\n",
       "      <td>8.540212</td>\n",
       "      <td>46.996727</td>\n",
       "      <td>6.935702</td>\n",
       "    </tr>\n",
       "  </tbody>\n",
       "</table>\n",
       "<p>2 rows × 21 columns</p>\n",
       "</div>"
      ],
      "text/plain": [
       "   Unnamed: 0  res_id               res_dt       date  train_nr  line  \\\n",
       "0           0       0  2019-03-29 00:00:00 2019-04-01       510  IC 5   \n",
       "1         283     290  2019-04-06 00:00:00 2019-04-06      1528  IC 5   \n",
       "\n",
       "   reserved  capacity bp_from bp_to  ...             dep_soll  \\\n",
       "0         1       NaN     ZUE    NE  ...  2019-04-01 07:03:00   \n",
       "1         1       NaN     ZUE    NE  ...  2019-04-06 16:30:00   \n",
       "\n",
       "               arr_ist             arr_soll res_delta_ist  res_delta_soll  \\\n",
       "0  2019-04-01 08:33:00  2019-04-01 08:32:00      284667.0          284634   \n",
       "1  2019-04-06 18:02:00  2019-04-06 18:01:00       59422.0           59418   \n",
       "\n",
       "   res_delta_valid   lat_from  lon_from     lat_to    lon_to  \n",
       "0            False  47.378177  8.540212  46.996727  6.935702  \n",
       "1            False  47.378177  8.540212  46.996727  6.935702  \n",
       "\n",
       "[2 rows x 21 columns]"
      ]
     },
     "metadata": {},
     "output_type": "display_data"
    }
   ],
   "source": [
    "# full join for start train station \n",
    "df = pd.merge(df, df_coordinates, left_on='bp_from', right_on='abk_bahnhof')\n",
    "df = df.drop(columns=['abk_bahnhof']).rename(columns={\"lat\": \"lat_from\", \"lon\": \"lon_from\"})\n",
    "\n",
    "# full join for destination\n",
    "df = pd.merge(df, df_coordinates, left_on='bp_to', right_on='abk_bahnhof')\n",
    "df = df.drop(columns=['abk_bahnhof']).rename(columns={\"lat\": \"lat_to\", \"lon\": \"lon_to\"})\n",
    "display(df.head(2))"
   ]
  },
  {
   "cell_type": "markdown",
   "metadata": {
    "_uuid": "a390f0e9e8b4950475913663213bcd833f8cbeb6"
   },
   "source": [
    "#### 5) Weather <a name=\"corr\"></a>"
   ]
  },
  {
   "cell_type": "code",
   "execution_count": 108,
   "metadata": {},
   "outputs": [
    {
     "ename": "AttributeError",
     "evalue": "'DataFrame' object has no attribute 'date'",
     "output_type": "error",
     "traceback": [
      "\u001b[1;31m---------------------------------------------------------------------------\u001b[0m",
      "\u001b[1;31mAttributeError\u001b[0m                            Traceback (most recent call last)",
      "\u001b[1;32m~\\AppData\\Local\\Temp/ipykernel_22600/4063923481.py\u001b[0m in \u001b[0;36m<module>\u001b[1;34m\u001b[0m\n\u001b[0;32m      1\u001b[0m \u001b[1;31m# summarize daily weather data\u001b[0m\u001b[1;33m\u001b[0m\u001b[1;33m\u001b[0m\u001b[0m\n\u001b[1;32m----> 2\u001b[1;33m \u001b[0mdf_weather\u001b[0m\u001b[1;33m[\u001b[0m\u001b[1;34m'date'\u001b[0m\u001b[1;33m]\u001b[0m \u001b[1;33m=\u001b[0m \u001b[0mpd\u001b[0m\u001b[1;33m.\u001b[0m\u001b[0mto_datetime\u001b[0m\u001b[1;33m(\u001b[0m\u001b[0mdf_weather\u001b[0m\u001b[1;33m.\u001b[0m\u001b[0mdate\u001b[0m\u001b[1;33m)\u001b[0m\u001b[1;33m\u001b[0m\u001b[1;33m\u001b[0m\u001b[0m\n\u001b[0m\u001b[0;32m      3\u001b[0m \u001b[0mdf_weather\u001b[0m \u001b[1;33m=\u001b[0m \u001b[0mdf_weather\u001b[0m\u001b[1;33m.\u001b[0m\u001b[0mresample\u001b[0m\u001b[1;33m(\u001b[0m\u001b[1;34m'd'\u001b[0m\u001b[1;33m,\u001b[0m \u001b[0mon\u001b[0m\u001b[1;33m=\u001b[0m\u001b[1;34m'date'\u001b[0m\u001b[1;33m)\u001b[0m\u001b[1;33m[\u001b[0m\u001b[1;33m[\u001b[0m\u001b[1;34m'leisure_biking:idx'\u001b[0m\u001b[1;33m,\u001b[0m \u001b[1;34m\"t_2m:C\"\u001b[0m\u001b[1;33m,\u001b[0m \u001b[1;34m\"precip_24h:mm\"\u001b[0m\u001b[1;33m]\u001b[0m\u001b[1;33m]\u001b[0m\u001b[1;33m.\u001b[0m\u001b[0magg\u001b[0m\u001b[1;33m(\u001b[0m\u001b[1;33m[\u001b[0m\u001b[1;34m'mean'\u001b[0m\u001b[1;33m]\u001b[0m\u001b[1;33m)\u001b[0m\u001b[1;33m\u001b[0m\u001b[1;33m\u001b[0m\u001b[0m\n\u001b[0;32m      4\u001b[0m \u001b[0mdf_weather\u001b[0m\u001b[1;33m=\u001b[0m\u001b[0mdf_weather\u001b[0m\u001b[1;33m.\u001b[0m\u001b[0mreset_index\u001b[0m\u001b[1;33m(\u001b[0m\u001b[1;33m)\u001b[0m\u001b[1;33m\u001b[0m\u001b[1;33m\u001b[0m\u001b[0m\n\u001b[0;32m      5\u001b[0m \u001b[0mdf\u001b[0m\u001b[1;33m=\u001b[0m\u001b[0mpd\u001b[0m\u001b[1;33m.\u001b[0m\u001b[0mmerge\u001b[0m\u001b[1;33m(\u001b[0m\u001b[0mdf\u001b[0m\u001b[1;33m,\u001b[0m \u001b[0mdf_weather\u001b[0m\u001b[1;33m,\u001b[0m \u001b[0mleft_on\u001b[0m\u001b[1;33m=\u001b[0m\u001b[1;34m'date'\u001b[0m\u001b[1;33m,\u001b[0m \u001b[0mright_on\u001b[0m\u001b[1;33m=\u001b[0m\u001b[1;34m'date'\u001b[0m\u001b[1;33m)\u001b[0m\u001b[1;33m\u001b[0m\u001b[1;33m\u001b[0m\u001b[0m\n",
      "\u001b[1;32m~\\miniconda3\\envs\\geo_env\\lib\\site-packages\\pandas\\core\\generic.py\u001b[0m in \u001b[0;36m__getattr__\u001b[1;34m(self, name)\u001b[0m\n\u001b[0;32m   5485\u001b[0m         ):\n\u001b[0;32m   5486\u001b[0m             \u001b[1;32mreturn\u001b[0m \u001b[0mself\u001b[0m\u001b[1;33m[\u001b[0m\u001b[0mname\u001b[0m\u001b[1;33m]\u001b[0m\u001b[1;33m\u001b[0m\u001b[1;33m\u001b[0m\u001b[0m\n\u001b[1;32m-> 5487\u001b[1;33m         \u001b[1;32mreturn\u001b[0m \u001b[0mobject\u001b[0m\u001b[1;33m.\u001b[0m\u001b[0m__getattribute__\u001b[0m\u001b[1;33m(\u001b[0m\u001b[0mself\u001b[0m\u001b[1;33m,\u001b[0m \u001b[0mname\u001b[0m\u001b[1;33m)\u001b[0m\u001b[1;33m\u001b[0m\u001b[1;33m\u001b[0m\u001b[0m\n\u001b[0m\u001b[0;32m   5488\u001b[0m \u001b[1;33m\u001b[0m\u001b[0m\n\u001b[0;32m   5489\u001b[0m     \u001b[1;32mdef\u001b[0m \u001b[0m__setattr__\u001b[0m\u001b[1;33m(\u001b[0m\u001b[0mself\u001b[0m\u001b[1;33m,\u001b[0m \u001b[0mname\u001b[0m\u001b[1;33m:\u001b[0m \u001b[0mstr\u001b[0m\u001b[1;33m,\u001b[0m \u001b[0mvalue\u001b[0m\u001b[1;33m)\u001b[0m \u001b[1;33m->\u001b[0m \u001b[1;32mNone\u001b[0m\u001b[1;33m:\u001b[0m\u001b[1;33m\u001b[0m\u001b[1;33m\u001b[0m\u001b[0m\n",
      "\u001b[1;31mAttributeError\u001b[0m: 'DataFrame' object has no attribute 'date'"
     ]
    }
   ],
   "source": [
    "# summarize daily weather data\n",
    "df_weather['date'] = pd.to_datetime(df_weather.date)\n",
    "\n",
    "df_weather = df_weather.resample('d', on='date')[['leisure_biking:idx', \"t_2m:C\", \"precip_24h:mm\"]].agg(['mean'])\n",
    "df_weather=df_weather.reset_index()\n",
    "df=pd.merge(df, df_weather, left_on='date', right_on='date')\n",
    "\n",
    "display(df.tail(3))\n",
    "display(df_weather.tail(3))\n"
   ]
  },
  {
   "cell_type": "code",
   "execution_count": 102,
   "metadata": {},
   "outputs": [
    {
     "data": {
      "text/html": [
       "<div>\n",
       "<style scoped>\n",
       "    .dataframe tbody tr th:only-of-type {\n",
       "        vertical-align: middle;\n",
       "    }\n",
       "\n",
       "    .dataframe tbody tr th {\n",
       "        vertical-align: top;\n",
       "    }\n",
       "\n",
       "    .dataframe thead th {\n",
       "        text-align: right;\n",
       "    }\n",
       "</style>\n",
       "<table border=\"1\" class=\"dataframe\">\n",
       "  <thead>\n",
       "    <tr style=\"text-align: right;\">\n",
       "      <th></th>\n",
       "      <th></th>\n",
       "      <th></th>\n",
       "      <th>t_2m:C</th>\n",
       "      <th>precip_24h:mm</th>\n",
       "      <th>leisure_biking:idx</th>\n",
       "    </tr>\n",
       "    <tr>\n",
       "      <th>lat</th>\n",
       "      <th>lon</th>\n",
       "      <th>validdate</th>\n",
       "      <th></th>\n",
       "      <th></th>\n",
       "      <th></th>\n",
       "    </tr>\n",
       "  </thead>\n",
       "  <tbody>\n",
       "    <tr>\n",
       "      <th>47.378177</th>\n",
       "      <th>8.540212</th>\n",
       "      <th>2022-03-29 00:00:00+00:00</th>\n",
       "      <td>5.5</td>\n",
       "      <td>0.0</td>\n",
       "      <td>0.5</td>\n",
       "    </tr>\n",
       "  </tbody>\n",
       "</table>\n",
       "</div>"
      ],
      "text/plain": [
       "                                              t_2m:C  precip_24h:mm  \\\n",
       "lat       lon      validdate                                          \n",
       "47.378177 8.540212 2022-03-29 00:00:00+00:00     5.5            0.0   \n",
       "\n",
       "                                              leisure_biking:idx  \n",
       "lat       lon      validdate                                      \n",
       "47.378177 8.540212 2022-03-29 00:00:00+00:00                 0.5  "
      ]
     },
     "execution_count": 102,
     "metadata": {},
     "output_type": "execute_result"
    }
   ],
   "source": [
    "##import meteo data \n",
    "def get_meteodata(lat, lon, year, month, day):\n",
    "    username = 'can-guru_otth'\n",
    "    password = 'eyk47W6ATq'\n",
    "    coordinates = [(lat, lon)]\n",
    "    model =     'mix'\n",
    "    startdate = dt.datetime(year=year, month=month, day=day, hour=0, minute=0, second=0)\n",
    "    enddate =   startdate \n",
    "    interval = dt.timedelta(hours=0)\n",
    "    format = 'csv' \n",
    "\n",
    "    today=dt.datetime.now()\n",
    "    delta_days =(startdate-today).days\n",
    "    \n",
    "    # for longer forecast, use standard values for leisure biking idx + precipiation\n",
    "    if delta_days>16:\n",
    "        parameters = ['t_2m:C']#,'precip_24h:mm', 'leisure_biking:idx']\n",
    "        df = api.query_time_series(coordinates, startdate, enddate, interval, parameters, username, password, model=model)\n",
    "        # insert mean values\n",
    "        df['leisure_biking:idx']= 0.39\n",
    "        df['precip_24h:mm']=3.9\n",
    "\n",
    "        \n",
    "    else: \n",
    "        parameters = ['t_2m:C','precip_24h:mm', 'leisure_biking:idx']\n",
    "        df = api.query_time_series(coordinates, startdate, enddate, interval, parameters, username, password, model=model)\n",
    "\n",
    "    return df\n",
    "    \n",
    "# example function call\n",
    "get_meteodata(47.378177, 8.540212, 2022, 3, 29)\n"
   ]
  },
  {
   "cell_type": "markdown",
   "metadata": {},
   "source": [
    "#### 6) Capacity <a name=\"corr\"></a>"
   ]
  },
  {
   "cell_type": "markdown",
   "metadata": {},
   "source": [
    " - Für jede Reservation: Zugnummer im Jahresformation-Datensatz abrufen\n",
    " - Beachte: richtiges Jahr wählen, häufigste Formation\n",
    " - entsprechende Kapazität auslesen"
   ]
  },
  {
   "cell_type": "code",
   "execution_count": null,
   "metadata": {
    "_uuid": "6f66b54be3ee221420ba23c9f218451680ac2f41",
    "hideCode": false
   },
   "outputs": [],
   "source": [
    "#combine data from capacity table and annual formation\n",
    "list_kapazitäten=df_kapazität[\"Block Bezeichnung in Jahresformation Fpl-2022\"].tolist()\n",
    "df_jahresformation = df_jahresformation[df_jahresformation[\"Block Bezeichnung\"].isin(list_kapazitäten)]\n",
    "df_jahresformation=df_jahresformation[[\"Block Bezeichnung\", \"Zug\", \"Beginn Fahrplanperiode\"]]\n",
    "df_jahresformation = pd.merge(df_jahresformation, df_kapazität, left_on='Block Bezeichnung', right_on='Block Bezeichnung in Jahresformation Fpl-2022').drop(columns=[\"Block Bezeichnung in Jahresformation Fpl-2022\"])\n",
    "df_jahresformation.tail(2)"
   ]
  },
  {
   "cell_type": "code",
   "execution_count": 12,
   "metadata": {},
   "outputs": [
    {
     "name": "stdout",
     "output_type": "stream",
     "text": [
      "Median Kapazität 12.0\n"
     ]
    }
   ],
   "source": [
    "median_df=df[df[\"capacity\"].notnull()]\n",
    "median=np.median(median_df['capacity'])\n",
    "print('Median Kapazität', median)"
   ]
  },
  {
   "cell_type": "code",
   "execution_count": 19,
   "metadata": {},
   "outputs": [],
   "source": [
    "def fill_capacity(row):\n",
    "    train=row.train_nr   \n",
    "    formation = df_jahresformation[df_jahresformation[\"Zug\"]==train]\n",
    "    capacity=formation[\"No. of hooks\"]\n",
    "    return capacity"
   ]
  },
  {
   "cell_type": "code",
   "execution_count": 20,
   "metadata": {},
   "outputs": [
    {
     "ename": "AttributeError",
     "evalue": "module 'pandas' has no attribute 'average'",
     "output_type": "error",
     "traceback": [
      "\u001b[1;31m---------------------------------------------------------------------------\u001b[0m",
      "\u001b[1;31mAttributeError\u001b[0m                            Traceback (most recent call last)",
      "\u001b[1;32m~\\AppData\\Local\\Temp/ipykernel_27608/885975763.py\u001b[0m in \u001b[0;36m<module>\u001b[1;34m\u001b[0m\n\u001b[0;32m      2\u001b[0m \u001b[1;31m# first try to check with the jahresformation lookup table\u001b[0m\u001b[1;33m\u001b[0m\u001b[1;33m\u001b[0m\u001b[0m\n\u001b[0;32m      3\u001b[0m \u001b[0mmask\u001b[0m \u001b[1;33m=\u001b[0m \u001b[0mdf\u001b[0m\u001b[1;33m.\u001b[0m\u001b[0mcapacity\u001b[0m\u001b[1;33m.\u001b[0m\u001b[0misnull\u001b[0m\u001b[1;33m(\u001b[0m\u001b[1;33m)\u001b[0m\u001b[1;33m\u001b[0m\u001b[1;33m\u001b[0m\u001b[0m\n\u001b[1;32m----> 4\u001b[1;33m \u001b[0mdf\u001b[0m\u001b[1;33m[\u001b[0m\u001b[1;34m'capacity'\u001b[0m\u001b[1;33m]\u001b[0m \u001b[1;33m=\u001b[0m \u001b[0mdf\u001b[0m\u001b[1;33m[\u001b[0m\u001b[0mmask\u001b[0m\u001b[1;33m]\u001b[0m\u001b[1;33m.\u001b[0m\u001b[0mapply\u001b[0m\u001b[1;33m(\u001b[0m\u001b[0mfill_capacity\u001b[0m\u001b[1;33m,\u001b[0m \u001b[0maxis\u001b[0m\u001b[1;33m=\u001b[0m\u001b[1;36m1\u001b[0m\u001b[1;33m)\u001b[0m\u001b[1;33m\u001b[0m\u001b[1;33m\u001b[0m\u001b[0m\n\u001b[0m\u001b[0;32m      5\u001b[0m \u001b[1;33m\u001b[0m\u001b[0m\n\u001b[0;32m      6\u001b[0m \u001b[1;31m# secondly, fill the median capacity\u001b[0m\u001b[1;33m\u001b[0m\u001b[1;33m\u001b[0m\u001b[0m\n",
      "\u001b[1;32m~\\miniconda3\\envs\\geo_env\\lib\\site-packages\\pandas\\core\\frame.py\u001b[0m in \u001b[0;36mapply\u001b[1;34m(self, func, axis, raw, result_type, args, **kwargs)\u001b[0m\n\u001b[0;32m   8739\u001b[0m             \u001b[0mkwargs\u001b[0m\u001b[1;33m=\u001b[0m\u001b[0mkwargs\u001b[0m\u001b[1;33m,\u001b[0m\u001b[1;33m\u001b[0m\u001b[1;33m\u001b[0m\u001b[0m\n\u001b[0;32m   8740\u001b[0m         )\n\u001b[1;32m-> 8741\u001b[1;33m         \u001b[1;32mreturn\u001b[0m \u001b[0mop\u001b[0m\u001b[1;33m.\u001b[0m\u001b[0mapply\u001b[0m\u001b[1;33m(\u001b[0m\u001b[1;33m)\u001b[0m\u001b[1;33m\u001b[0m\u001b[1;33m\u001b[0m\u001b[0m\n\u001b[0m\u001b[0;32m   8742\u001b[0m \u001b[1;33m\u001b[0m\u001b[0m\n\u001b[0;32m   8743\u001b[0m     def applymap(\n",
      "\u001b[1;32m~\\miniconda3\\envs\\geo_env\\lib\\site-packages\\pandas\\core\\apply.py\u001b[0m in \u001b[0;36mapply\u001b[1;34m(self)\u001b[0m\n\u001b[0;32m    686\u001b[0m             \u001b[1;32mreturn\u001b[0m \u001b[0mself\u001b[0m\u001b[1;33m.\u001b[0m\u001b[0mapply_raw\u001b[0m\u001b[1;33m(\u001b[0m\u001b[1;33m)\u001b[0m\u001b[1;33m\u001b[0m\u001b[1;33m\u001b[0m\u001b[0m\n\u001b[0;32m    687\u001b[0m \u001b[1;33m\u001b[0m\u001b[0m\n\u001b[1;32m--> 688\u001b[1;33m         \u001b[1;32mreturn\u001b[0m \u001b[0mself\u001b[0m\u001b[1;33m.\u001b[0m\u001b[0mapply_standard\u001b[0m\u001b[1;33m(\u001b[0m\u001b[1;33m)\u001b[0m\u001b[1;33m\u001b[0m\u001b[1;33m\u001b[0m\u001b[0m\n\u001b[0m\u001b[0;32m    689\u001b[0m \u001b[1;33m\u001b[0m\u001b[0m\n\u001b[0;32m    690\u001b[0m     \u001b[1;32mdef\u001b[0m \u001b[0magg\u001b[0m\u001b[1;33m(\u001b[0m\u001b[0mself\u001b[0m\u001b[1;33m)\u001b[0m\u001b[1;33m:\u001b[0m\u001b[1;33m\u001b[0m\u001b[1;33m\u001b[0m\u001b[0m\n",
      "\u001b[1;32m~\\miniconda3\\envs\\geo_env\\lib\\site-packages\\pandas\\core\\apply.py\u001b[0m in \u001b[0;36mapply_standard\u001b[1;34m(self)\u001b[0m\n\u001b[0;32m    810\u001b[0m \u001b[1;33m\u001b[0m\u001b[0m\n\u001b[0;32m    811\u001b[0m     \u001b[1;32mdef\u001b[0m \u001b[0mapply_standard\u001b[0m\u001b[1;33m(\u001b[0m\u001b[0mself\u001b[0m\u001b[1;33m)\u001b[0m\u001b[1;33m:\u001b[0m\u001b[1;33m\u001b[0m\u001b[1;33m\u001b[0m\u001b[0m\n\u001b[1;32m--> 812\u001b[1;33m         \u001b[0mresults\u001b[0m\u001b[1;33m,\u001b[0m \u001b[0mres_index\u001b[0m \u001b[1;33m=\u001b[0m \u001b[0mself\u001b[0m\u001b[1;33m.\u001b[0m\u001b[0mapply_series_generator\u001b[0m\u001b[1;33m(\u001b[0m\u001b[1;33m)\u001b[0m\u001b[1;33m\u001b[0m\u001b[1;33m\u001b[0m\u001b[0m\n\u001b[0m\u001b[0;32m    813\u001b[0m \u001b[1;33m\u001b[0m\u001b[0m\n\u001b[0;32m    814\u001b[0m         \u001b[1;31m# wrap results\u001b[0m\u001b[1;33m\u001b[0m\u001b[1;33m\u001b[0m\u001b[0m\n",
      "\u001b[1;32m~\\miniconda3\\envs\\geo_env\\lib\\site-packages\\pandas\\core\\apply.py\u001b[0m in \u001b[0;36mapply_series_generator\u001b[1;34m(self)\u001b[0m\n\u001b[0;32m    826\u001b[0m             \u001b[1;32mfor\u001b[0m \u001b[0mi\u001b[0m\u001b[1;33m,\u001b[0m \u001b[0mv\u001b[0m \u001b[1;32min\u001b[0m \u001b[0menumerate\u001b[0m\u001b[1;33m(\u001b[0m\u001b[0mseries_gen\u001b[0m\u001b[1;33m)\u001b[0m\u001b[1;33m:\u001b[0m\u001b[1;33m\u001b[0m\u001b[1;33m\u001b[0m\u001b[0m\n\u001b[0;32m    827\u001b[0m                 \u001b[1;31m# ignore SettingWithCopy here in case the user mutates\u001b[0m\u001b[1;33m\u001b[0m\u001b[1;33m\u001b[0m\u001b[0m\n\u001b[1;32m--> 828\u001b[1;33m                 \u001b[0mresults\u001b[0m\u001b[1;33m[\u001b[0m\u001b[0mi\u001b[0m\u001b[1;33m]\u001b[0m \u001b[1;33m=\u001b[0m \u001b[0mself\u001b[0m\u001b[1;33m.\u001b[0m\u001b[0mf\u001b[0m\u001b[1;33m(\u001b[0m\u001b[0mv\u001b[0m\u001b[1;33m)\u001b[0m\u001b[1;33m\u001b[0m\u001b[1;33m\u001b[0m\u001b[0m\n\u001b[0m\u001b[0;32m    829\u001b[0m                 \u001b[1;32mif\u001b[0m \u001b[0misinstance\u001b[0m\u001b[1;33m(\u001b[0m\u001b[0mresults\u001b[0m\u001b[1;33m[\u001b[0m\u001b[0mi\u001b[0m\u001b[1;33m]\u001b[0m\u001b[1;33m,\u001b[0m \u001b[0mABCSeries\u001b[0m\u001b[1;33m)\u001b[0m\u001b[1;33m:\u001b[0m\u001b[1;33m\u001b[0m\u001b[1;33m\u001b[0m\u001b[0m\n\u001b[0;32m    830\u001b[0m                     \u001b[1;31m# If we have a view on v, we need to make a copy because\u001b[0m\u001b[1;33m\u001b[0m\u001b[1;33m\u001b[0m\u001b[0m\n",
      "\u001b[1;32m~\\AppData\\Local\\Temp/ipykernel_27608/325268065.py\u001b[0m in \u001b[0;36mfill_capacity\u001b[1;34m(row)\u001b[0m\n\u001b[0;32m      2\u001b[0m     \u001b[0mtrain\u001b[0m\u001b[1;33m=\u001b[0m\u001b[0mrow\u001b[0m\u001b[1;33m.\u001b[0m\u001b[0mtrain_nr\u001b[0m\u001b[1;33m\u001b[0m\u001b[1;33m\u001b[0m\u001b[0m\n\u001b[0;32m      3\u001b[0m     \u001b[0mformation\u001b[0m \u001b[1;33m=\u001b[0m \u001b[0mdf_jahresformation\u001b[0m\u001b[1;33m[\u001b[0m\u001b[0mdf_jahresformation\u001b[0m\u001b[1;33m[\u001b[0m\u001b[1;34m\"Zug\"\u001b[0m\u001b[1;33m]\u001b[0m\u001b[1;33m==\u001b[0m\u001b[0mtrain\u001b[0m\u001b[1;33m]\u001b[0m\u001b[1;33m\u001b[0m\u001b[1;33m\u001b[0m\u001b[0m\n\u001b[1;32m----> 4\u001b[1;33m     \u001b[0mcapacity\u001b[0m\u001b[1;33m=\u001b[0m \u001b[0mpd\u001b[0m\u001b[1;33m.\u001b[0m\u001b[0maverage\u001b[0m\u001b[1;33m(\u001b[0m\u001b[0mformation\u001b[0m\u001b[1;33m[\u001b[0m\u001b[1;34m\"No. of hooks\"\u001b[0m\u001b[1;33m]\u001b[0m\u001b[1;33m)\u001b[0m\u001b[1;33m\u001b[0m\u001b[1;33m\u001b[0m\u001b[0m\n\u001b[0m\u001b[0;32m      5\u001b[0m     \u001b[1;32mreturn\u001b[0m \u001b[0mcapacity\u001b[0m\u001b[1;33m\u001b[0m\u001b[1;33m\u001b[0m\u001b[0m\n",
      "\u001b[1;32m~\\miniconda3\\envs\\geo_env\\lib\\site-packages\\pandas\\__init__.py\u001b[0m in \u001b[0;36m__getattr__\u001b[1;34m(name)\u001b[0m\n\u001b[0;32m    242\u001b[0m         \u001b[1;32mreturn\u001b[0m \u001b[0m_SparseArray\u001b[0m\u001b[1;33m\u001b[0m\u001b[1;33m\u001b[0m\u001b[0m\n\u001b[0;32m    243\u001b[0m \u001b[1;33m\u001b[0m\u001b[0m\n\u001b[1;32m--> 244\u001b[1;33m     \u001b[1;32mraise\u001b[0m \u001b[0mAttributeError\u001b[0m\u001b[1;33m(\u001b[0m\u001b[1;34mf\"module 'pandas' has no attribute '{name}'\"\u001b[0m\u001b[1;33m)\u001b[0m\u001b[1;33m\u001b[0m\u001b[1;33m\u001b[0m\u001b[0m\n\u001b[0m\u001b[0;32m    245\u001b[0m \u001b[1;33m\u001b[0m\u001b[0m\n\u001b[0;32m    246\u001b[0m \u001b[1;33m\u001b[0m\u001b[0m\n",
      "\u001b[1;31mAttributeError\u001b[0m: module 'pandas' has no attribute 'average'"
     ]
    }
   ],
   "source": [
    "# for the rows where there is no capacity included\n",
    "# first try to check with the jahresformation lookup table\n",
    "mask = df.capacity.isnull()\n",
    "df['capacity'] = df[mask].apply(fill_capacity, axis=1)\n",
    "\n",
    "# secondly, fill the median capacity \n",
    "df=df.fillna(value={\"capacity\": median})"
   ]
  },
  {
   "cell_type": "code",
   "execution_count": null,
   "metadata": {},
   "outputs": [],
   "source": [
    "df.head(10)"
   ]
  }
 ],
 "metadata": {
  "kernelspec": {
   "display_name": "Python 3 (ipykernel)",
   "language": "python",
   "name": "python3"
  },
  "language_info": {
   "codemirror_mode": {
    "name": "ipython",
    "version": 3
   },
   "file_extension": ".py",
   "mimetype": "text/x-python",
   "name": "python",
   "nbconvert_exporter": "python",
   "pygments_lexer": "ipython3",
   "version": "3.9.7"
  },
  "latex_envs": {
   "LaTeX_envs_menu_present": false,
   "autoclose": false,
   "autocomplete": true,
   "bibliofile": "biblio.bib",
   "cite_by": "apalike",
   "current_citInitial": 1,
   "eqLabelWithNumbers": true,
   "eqNumInitial": 1,
   "hotkeys": {
    "equation": "Ctrl-E",
    "itemize": "Ctrl-I"
   },
   "labels_anchors": false,
   "latex_user_defs": false,
   "report_style_numbering": false,
   "user_envs_cfg": false
  },
  "varInspector": {
   "cols": {
    "lenName": 16,
    "lenType": 16,
    "lenVar": 40
   },
   "kernels_config": {
    "python": {
     "delete_cmd_postfix": "",
     "delete_cmd_prefix": "del ",
     "library": "var_list.py",
     "varRefreshCmd": "print(var_dic_list())"
    },
    "r": {
     "delete_cmd_postfix": ") ",
     "delete_cmd_prefix": "rm(",
     "library": "var_list.r",
     "varRefreshCmd": "cat(var_dic_list()) "
    }
   },
   "types_to_exclude": [
    "module",
    "function",
    "builtin_function_or_method",
    "instance",
    "_Feature"
   ],
   "window_display": false
  }
 },
 "nbformat": 4,
 "nbformat_minor": 4
}
